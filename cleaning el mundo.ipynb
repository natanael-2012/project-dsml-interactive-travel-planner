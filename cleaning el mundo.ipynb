{
 "cells": [
  {
   "cell_type": "code",
   "execution_count": 3,
   "metadata": {},
   "outputs": [],
   "source": [
    "from dotenv import load_dotenv\n",
    "import os\n",
    "\n",
    "load_dotenv()\n",
    "huggingface_token = os.getenv(\"HUGGINGFACE_TOKEN\")\n",
    "openai_token = os.getenv(\"OPENAI_API_KEY\")"
   ]
  },
  {
   "cell_type": "code",
   "execution_count": 1,
   "metadata": {},
   "outputs": [],
   "source": [
    "import re\n",
    "\n",
    "def preprocess_text(text):\n",
    "    # Fix common OCR patterns\n",
    "    text = re.sub(r'[«»\"“”‘’]', '', text)  # Remove quotation marks\n",
    "    text = re.sub(r'\\s+', ' ', text)       # Normalize spaces\n",
    "    text = re.sub(r'[^a-zA-ZáéíóúñÁÉÍÓÚÑ0-9\\s.,;:¿?¡!\\-]', '', text)  # Remove special chars\n",
    "    return text.strip()"
   ]
  },
  {
   "cell_type": "code",
   "execution_count": null,
   "metadata": {},
   "outputs": [],
   "source": [
    "from transformers import pipeline\n",
    "\n",
    "# Load Mistral-7B for text correction\n",
    "fixer = pipeline(\"text-generation\", model=\"mistralai/Mistral-7B-v0.1\", token = huggingface_token)\n",
    "\n",
    "def fix_with_mistral(text):\n",
    "    prompt = f\"Corrige los errores de OCR en este texto en español: {text}\\nTexto corregido:\"\n",
    "    corrected = fixer(prompt, max_length=100, num_return_sequences=1)\n",
    "    return corrected[0]['generated_text'].split(\"Texto corregido:\")[-1].strip()"
   ]
  },
  {
   "cell_type": "code",
   "execution_count": null,
   "metadata": {},
   "outputs": [],
   "source": [
    "import os\n",
    "from concurrent.futures import ThreadPoolExecutor\n",
    "\n",
    "def clean_file(file_path):\n",
    "    with open(file_path, 'r', encoding='utf-8') as f:\n",
    "        text = f.read()\n",
    "    cleaned = preprocess_text(text)\n",
    "    corrected = fix_with_mistral(cleaned)\n",
    "    with open(f\"cleaned_{file_path}\", 'w', encoding='utf-8') as f:\n",
    "        f.write(corrected)\n",
    "\n",
    "def batch_clean(files, batch_size=100):\n",
    "    for i in range(0, len(files), batch_size):\n",
    "        batch = files[i:i+batch_size]\n",
    "        with ThreadPoolExecutor() as executor:\n",
    "            executor.map(clean_file, batch)"
   ]
  }
 ],
 "metadata": {
  "kernelspec": {
   "display_name": "base",
   "language": "python",
   "name": "python3"
  },
  "language_info": {
   "codemirror_mode": {
    "name": "ipython",
    "version": 3
   },
   "file_extension": ".py",
   "mimetype": "text/x-python",
   "name": "python",
   "nbconvert_exporter": "python",
   "pygments_lexer": "ipython3",
   "version": "3.12.7"
  }
 },
 "nbformat": 4,
 "nbformat_minor": 2
}
