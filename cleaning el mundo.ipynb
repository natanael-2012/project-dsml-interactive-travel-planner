{
  "cells": [
    {
      "cell_type": "code",
      "execution_count": 8,
      "metadata": {
        "colab": {
          "base_uri": "https://localhost:8080/",
          "height": 1000
        },
        "id": "ypXXIsk_08OC",
        "outputId": "d2740ac8-5d89-4796-c16d-7f3a451c8f01"
      },
      "outputs": [
        {
          "name": "stdout",
          "output_type": "stream",
          "text": [
            "Files removed: 146\n",
            "Requirement already satisfied: torch in /usr/local/lib/python3.11/dist-packages (2.2.1)\n",
            "Collecting torch\n",
            "  Downloading torch-2.6.0-cp311-cp311-manylinux1_x86_64.whl.metadata (28 kB)\n",
            "Requirement already satisfied: torchvision in /usr/local/lib/python3.11/dist-packages (0.20.1+cu124)\n",
            "Collecting torchvision\n",
            "  Downloading torchvision-0.21.0-cp311-cp311-manylinux1_x86_64.whl.metadata (6.1 kB)\n",
            "Requirement already satisfied: filelock in /usr/local/lib/python3.11/dist-packages (from torch) (3.17.0)\n",
            "Requirement already satisfied: typing-extensions>=4.10.0 in /usr/local/lib/python3.11/dist-packages (from torch) (4.12.2)\n",
            "Requirement already satisfied: networkx in /usr/local/lib/python3.11/dist-packages (from torch) (3.4.2)\n",
            "Requirement already satisfied: jinja2 in /usr/local/lib/python3.11/dist-packages (from torch) (3.1.5)\n",
            "Requirement already satisfied: fsspec in /usr/local/lib/python3.11/dist-packages (from torch) (2024.10.0)\n",
            "Collecting nvidia-cuda-nvrtc-cu12==12.4.127 (from torch)\n",
            "  Downloading nvidia_cuda_nvrtc_cu12-12.4.127-py3-none-manylinux2014_x86_64.whl.metadata (1.5 kB)\n",
            "Collecting nvidia-cuda-runtime-cu12==12.4.127 (from torch)\n",
            "  Downloading nvidia_cuda_runtime_cu12-12.4.127-py3-none-manylinux2014_x86_64.whl.metadata (1.5 kB)\n",
            "Collecting nvidia-cuda-cupti-cu12==12.4.127 (from torch)\n",
            "  Downloading nvidia_cuda_cupti_cu12-12.4.127-py3-none-manylinux2014_x86_64.whl.metadata (1.6 kB)\n",
            "Collecting nvidia-cudnn-cu12==9.1.0.70 (from torch)\n",
            "  Downloading nvidia_cudnn_cu12-9.1.0.70-py3-none-manylinux2014_x86_64.whl.metadata (1.6 kB)\n",
            "Collecting nvidia-cublas-cu12==12.4.5.8 (from torch)\n",
            "  Downloading nvidia_cublas_cu12-12.4.5.8-py3-none-manylinux2014_x86_64.whl.metadata (1.5 kB)\n",
            "Collecting nvidia-cufft-cu12==11.2.1.3 (from torch)\n",
            "  Downloading nvidia_cufft_cu12-11.2.1.3-py3-none-manylinux2014_x86_64.whl.metadata (1.5 kB)\n",
            "Collecting nvidia-curand-cu12==10.3.5.147 (from torch)\n",
            "  Downloading nvidia_curand_cu12-10.3.5.147-py3-none-manylinux2014_x86_64.whl.metadata (1.5 kB)\n",
            "Collecting nvidia-cusolver-cu12==11.6.1.9 (from torch)\n",
            "  Downloading nvidia_cusolver_cu12-11.6.1.9-py3-none-manylinux2014_x86_64.whl.metadata (1.6 kB)\n",
            "Collecting nvidia-cusparse-cu12==12.3.1.170 (from torch)\n",
            "  Downloading nvidia_cusparse_cu12-12.3.1.170-py3-none-manylinux2014_x86_64.whl.metadata (1.6 kB)\n",
            "Collecting nvidia-cusparselt-cu12==0.6.2 (from torch)\n",
            "  Downloading nvidia_cusparselt_cu12-0.6.2-py3-none-manylinux2014_x86_64.whl.metadata (6.8 kB)\n",
            "Collecting nvidia-nccl-cu12==2.21.5 (from torch)\n",
            "  Downloading nvidia_nccl_cu12-2.21.5-py3-none-manylinux2014_x86_64.whl.metadata (1.8 kB)\n",
            "Collecting nvidia-nvtx-cu12==12.4.127 (from torch)\n",
            "  Downloading nvidia_nvtx_cu12-12.4.127-py3-none-manylinux2014_x86_64.whl.metadata (1.7 kB)\n",
            "Requirement already satisfied: nvidia-nvjitlink-cu12==12.4.127 in /usr/local/lib/python3.11/dist-packages (from torch) (12.4.127)\n",
            "Collecting triton==3.2.0 (from torch)\n",
            "  Downloading triton-3.2.0-cp311-cp311-manylinux_2_17_x86_64.manylinux2014_x86_64.whl.metadata (1.4 kB)\n",
            "Requirement already satisfied: sympy==1.13.1 in /usr/local/lib/python3.11/dist-packages (from torch) (1.13.1)\n",
            "Requirement already satisfied: mpmath<1.4,>=1.1.0 in /usr/local/lib/python3.11/dist-packages (from sympy==1.13.1->torch) (1.3.0)\n",
            "Requirement already satisfied: numpy in /usr/local/lib/python3.11/dist-packages (from torchvision) (1.26.4)\n",
            "Requirement already satisfied: pillow!=8.3.*,>=5.3.0 in /usr/local/lib/python3.11/dist-packages (from torchvision) (11.1.0)\n",
            "Requirement already satisfied: MarkupSafe>=2.0 in /usr/local/lib/python3.11/dist-packages (from jinja2->torch) (3.0.2)\n",
            "Downloading torch-2.6.0-cp311-cp311-manylinux1_x86_64.whl (766.7 MB)\n",
            "\u001b[2K   \u001b[90m━━━━━━━━━━━━━━━━━━━━━━━━━━━━━━━━━━━━━━━━\u001b[0m \u001b[32m766.7/766.7 MB\u001b[0m \u001b[31m818.2 kB/s\u001b[0m eta \u001b[36m0:00:00\u001b[0m\n",
            "\u001b[?25hDownloading nvidia_cublas_cu12-12.4.5.8-py3-none-manylinux2014_x86_64.whl (363.4 MB)\n",
            "\u001b[2K   \u001b[90m━━━━━━━━━━━━━━━━━━━━━━━━━━━━━━━━━━━━━━━━\u001b[0m \u001b[32m363.4/363.4 MB\u001b[0m \u001b[31m1.5 MB/s\u001b[0m eta \u001b[36m0:00:00\u001b[0m\n",
            "\u001b[?25hDownloading nvidia_cuda_cupti_cu12-12.4.127-py3-none-manylinux2014_x86_64.whl (13.8 MB)\n",
            "\u001b[2K   \u001b[90m━━━━━━━━━━━━━━━━━━━━━━━━━━━━━━━━━━━━━━━━\u001b[0m \u001b[32m13.8/13.8 MB\u001b[0m \u001b[31m78.9 MB/s\u001b[0m eta \u001b[36m0:00:00\u001b[0m\n",
            "\u001b[?25hDownloading nvidia_cuda_nvrtc_cu12-12.4.127-py3-none-manylinux2014_x86_64.whl (24.6 MB)\n",
            "\u001b[2K   \u001b[90m━━━━━━━━━━━━━━━━━━━━━━━━━━━━━━━━━━━━━━━━\u001b[0m \u001b[32m24.6/24.6 MB\u001b[0m \u001b[31m52.7 MB/s\u001b[0m eta \u001b[36m0:00:00\u001b[0m\n",
            "\u001b[?25hDownloading nvidia_cuda_runtime_cu12-12.4.127-py3-none-manylinux2014_x86_64.whl (883 kB)\n",
            "\u001b[2K   \u001b[90m━━━━━━━━━━━━━━━━━━━━━━━━━━━━━━━━━━━━━━━━\u001b[0m \u001b[32m883.7/883.7 kB\u001b[0m \u001b[31m37.3 MB/s\u001b[0m eta \u001b[36m0:00:00\u001b[0m\n",
            "\u001b[?25hDownloading nvidia_cudnn_cu12-9.1.0.70-py3-none-manylinux2014_x86_64.whl (664.8 MB)\n",
            "\u001b[2K   \u001b[90m━━━━━━━━━━━━━━━━━━━━━━━━━━━━━━━━━━━━━━━━\u001b[0m \u001b[32m664.8/664.8 MB\u001b[0m \u001b[31m2.4 MB/s\u001b[0m eta \u001b[36m0:00:00\u001b[0m\n",
            "\u001b[?25hDownloading nvidia_cufft_cu12-11.2.1.3-py3-none-manylinux2014_x86_64.whl (211.5 MB)\n",
            "\u001b[2K   \u001b[90m━━━━━━━━━━━━━━━━━━━━━━━━━━━━━━━━━━━━━━━━\u001b[0m \u001b[32m211.5/211.5 MB\u001b[0m \u001b[31m6.3 MB/s\u001b[0m eta \u001b[36m0:00:00\u001b[0m\n",
            "\u001b[?25hDownloading nvidia_curand_cu12-10.3.5.147-py3-none-manylinux2014_x86_64.whl (56.3 MB)\n",
            "\u001b[2K   \u001b[90m━━━━━━━━━━━━━━━━━━━━━━━━━━━━━━━━━━━━━━━━\u001b[0m \u001b[32m56.3/56.3 MB\u001b[0m \u001b[31m12.4 MB/s\u001b[0m eta \u001b[36m0:00:00\u001b[0m\n",
            "\u001b[?25hDownloading nvidia_cusolver_cu12-11.6.1.9-py3-none-manylinux2014_x86_64.whl (127.9 MB)\n",
            "\u001b[2K   \u001b[90m━━━━━━━━━━━━━━━━━━━━━━━━━━━━━━━━━━━━━━━━\u001b[0m \u001b[32m127.9/127.9 MB\u001b[0m \u001b[31m7.9 MB/s\u001b[0m eta \u001b[36m0:00:00\u001b[0m\n",
            "\u001b[?25hDownloading nvidia_cusparse_cu12-12.3.1.170-py3-none-manylinux2014_x86_64.whl (207.5 MB)\n",
            "\u001b[2K   \u001b[90m━━━━━━━━━━━━━━━━━━━━━━━━━━━━━━━━━━━━━━━━\u001b[0m \u001b[32m207.5/207.5 MB\u001b[0m \u001b[31m8.1 MB/s\u001b[0m eta \u001b[36m0:00:00\u001b[0m\n",
            "\u001b[?25hDownloading nvidia_cusparselt_cu12-0.6.2-py3-none-manylinux2014_x86_64.whl (150.1 MB)\n",
            "\u001b[2K   \u001b[90m━━━━━━━━━━━━━━━━━━━━━━━━━━━━━━━━━━━━━━━━\u001b[0m \u001b[32m150.1/150.1 MB\u001b[0m \u001b[31m7.1 MB/s\u001b[0m eta \u001b[36m0:00:00\u001b[0m\n",
            "\u001b[?25hDownloading nvidia_nccl_cu12-2.21.5-py3-none-manylinux2014_x86_64.whl (188.7 MB)\n",
            "\u001b[2K   \u001b[90m━━━━━━━━━━━━━━━━━━━━━━━━━━━━━━━━━━━━━━━━\u001b[0m \u001b[32m188.7/188.7 MB\u001b[0m \u001b[31m5.4 MB/s\u001b[0m eta \u001b[36m0:00:00\u001b[0m\n",
            "\u001b[?25hDownloading nvidia_nvtx_cu12-12.4.127-py3-none-manylinux2014_x86_64.whl (99 kB)\n",
            "\u001b[2K   \u001b[90m━━━━━━━━━━━━━━━━━━━━━━━━━━━━━━━━━━━━━━━━\u001b[0m \u001b[32m99.1/99.1 kB\u001b[0m \u001b[31m6.8 MB/s\u001b[0m eta \u001b[36m0:00:00\u001b[0m\n",
            "\u001b[?25hDownloading triton-3.2.0-cp311-cp311-manylinux_2_17_x86_64.manylinux2014_x86_64.whl (253.2 MB)\n",
            "\u001b[2K   \u001b[90m━━━━━━━━━━━━━━━━━━━━━━━━━━━━━━━━━━━━━━━━\u001b[0m \u001b[32m253.2/253.2 MB\u001b[0m \u001b[31m2.7 MB/s\u001b[0m eta \u001b[36m0:00:00\u001b[0m\n",
            "\u001b[?25hDownloading torchvision-0.21.0-cp311-cp311-manylinux1_x86_64.whl (7.2 MB)\n",
            "\u001b[2K   \u001b[90m━━━━━━━━━━━━━━━━━━━━━━━━━━━━━━━━━━━━━━━━\u001b[0m \u001b[32m7.2/7.2 MB\u001b[0m \u001b[31m83.2 MB/s\u001b[0m eta \u001b[36m0:00:00\u001b[0m\n",
            "\u001b[?25hInstalling collected packages: triton, nvidia-cusparselt-cu12, nvidia-nvtx-cu12, nvidia-nccl-cu12, nvidia-cusparse-cu12, nvidia-curand-cu12, nvidia-cufft-cu12, nvidia-cuda-runtime-cu12, nvidia-cuda-nvrtc-cu12, nvidia-cuda-cupti-cu12, nvidia-cublas-cu12, nvidia-cusolver-cu12, nvidia-cudnn-cu12, torch, torchvision\n",
            "  Attempting uninstall: triton\n",
            "    Found existing installation: triton 2.2.0\n",
            "    Uninstalling triton-2.2.0:\n",
            "      Successfully uninstalled triton-2.2.0\n",
            "  Attempting uninstall: nvidia-nvtx-cu12\n",
            "    Found existing installation: nvidia-nvtx-cu12 12.1.105\n",
            "    Uninstalling nvidia-nvtx-cu12-12.1.105:\n",
            "      Successfully uninstalled nvidia-nvtx-cu12-12.1.105\n",
            "  Attempting uninstall: nvidia-nccl-cu12\n",
            "    Found existing installation: nvidia-nccl-cu12 2.19.3\n",
            "    Uninstalling nvidia-nccl-cu12-2.19.3:\n",
            "      Successfully uninstalled nvidia-nccl-cu12-2.19.3\n",
            "  Attempting uninstall: nvidia-cusparse-cu12\n",
            "    Found existing installation: nvidia-cusparse-cu12 12.1.0.106\n",
            "    Uninstalling nvidia-cusparse-cu12-12.1.0.106:\n",
            "      Successfully uninstalled nvidia-cusparse-cu12-12.1.0.106\n",
            "  Attempting uninstall: nvidia-curand-cu12\n",
            "    Found existing installation: nvidia-curand-cu12 10.3.2.106\n",
            "    Uninstalling nvidia-curand-cu12-10.3.2.106:\n",
            "      Successfully uninstalled nvidia-curand-cu12-10.3.2.106\n",
            "  Attempting uninstall: nvidia-cufft-cu12\n",
            "    Found existing installation: nvidia-cufft-cu12 11.0.2.54\n",
            "    Uninstalling nvidia-cufft-cu12-11.0.2.54:\n",
            "      Successfully uninstalled nvidia-cufft-cu12-11.0.2.54\n",
            "  Attempting uninstall: nvidia-cuda-runtime-cu12\n",
            "    Found existing installation: nvidia-cuda-runtime-cu12 12.1.105\n",
            "    Uninstalling nvidia-cuda-runtime-cu12-12.1.105:\n",
            "      Successfully uninstalled nvidia-cuda-runtime-cu12-12.1.105\n",
            "  Attempting uninstall: nvidia-cuda-nvrtc-cu12\n",
            "    Found existing installation: nvidia-cuda-nvrtc-cu12 12.1.105\n",
            "    Uninstalling nvidia-cuda-nvrtc-cu12-12.1.105:\n",
            "      Successfully uninstalled nvidia-cuda-nvrtc-cu12-12.1.105\n",
            "  Attempting uninstall: nvidia-cuda-cupti-cu12\n",
            "    Found existing installation: nvidia-cuda-cupti-cu12 12.1.105\n",
            "    Uninstalling nvidia-cuda-cupti-cu12-12.1.105:\n",
            "      Successfully uninstalled nvidia-cuda-cupti-cu12-12.1.105\n",
            "  Attempting uninstall: nvidia-cublas-cu12\n",
            "    Found existing installation: nvidia-cublas-cu12 12.1.3.1\n",
            "    Uninstalling nvidia-cublas-cu12-12.1.3.1:\n",
            "      Successfully uninstalled nvidia-cublas-cu12-12.1.3.1\n",
            "  Attempting uninstall: nvidia-cusolver-cu12\n",
            "    Found existing installation: nvidia-cusolver-cu12 11.4.5.107\n",
            "    Uninstalling nvidia-cusolver-cu12-11.4.5.107:\n",
            "      Successfully uninstalled nvidia-cusolver-cu12-11.4.5.107\n",
            "  Attempting uninstall: nvidia-cudnn-cu12\n",
            "    Found existing installation: nvidia-cudnn-cu12 8.9.2.26\n",
            "    Uninstalling nvidia-cudnn-cu12-8.9.2.26:\n",
            "      Successfully uninstalled nvidia-cudnn-cu12-8.9.2.26\n",
            "  Attempting uninstall: torch\n",
            "    Found existing installation: torch 2.2.1\n",
            "    Uninstalling torch-2.2.1:\n",
            "      Successfully uninstalled torch-2.2.1\n",
            "  Attempting uninstall: torchvision\n",
            "    Found existing installation: torchvision 0.20.1+cu124\n",
            "    Uninstalling torchvision-0.20.1+cu124:\n",
            "      Successfully uninstalled torchvision-0.20.1+cu124\n",
            "\u001b[31mERROR: pip's dependency resolver does not currently take into account all the packages that are installed. This behaviour is the source of the following dependency conflicts.\n",
            "torchaudio 2.5.1+cu124 requires torch==2.5.1, but you have torch 2.6.0 which is incompatible.\n",
            "fastai 2.7.18 requires torch<2.6,>=1.10, but you have torch 2.6.0 which is incompatible.\u001b[0m\u001b[31m\n",
            "\u001b[0mSuccessfully installed nvidia-cublas-cu12-12.4.5.8 nvidia-cuda-cupti-cu12-12.4.127 nvidia-cuda-nvrtc-cu12-12.4.127 nvidia-cuda-runtime-cu12-12.4.127 nvidia-cudnn-cu12-9.1.0.70 nvidia-cufft-cu12-11.2.1.3 nvidia-curand-cu12-10.3.5.147 nvidia-cusolver-cu12-11.6.1.9 nvidia-cusparse-cu12-12.3.1.170 nvidia-cusparselt-cu12-0.6.2 nvidia-nccl-cu12-2.21.5 nvidia-nvtx-cu12-12.4.127 torch-2.6.0 torchvision-0.21.0 triton-3.2.0\n"
          ]
        },
        {
          "data": {
            "application/vnd.colab-display-data+json": {
              "id": "88748fbc672b4b458fb043334d7ff7ba",
              "pip_warning": {
                "packages": [
                  "torch",
                  "torchgen"
                ]
              }
            }
          },
          "metadata": {},
          "output_type": "display_data"
        }
      ],
      "source": [
        "!pip cache purge\n",
        "!pip install --upgrade torch torchvision\n"
      ]
    },
    {
      "cell_type": "code",
      "execution_count": 5,
      "metadata": {
        "id": "WbLvANh6uDXX"
      },
      "outputs": [],
      "source": [
        "!pip install -q openai python-dotenv transformers torch tqdm accelerate"
      ]
    },
    {
      "cell_type": "code",
      "execution_count": 1,
      "metadata": {
        "id": "E0quGPWQppRT"
      },
      "outputs": [],
      "source": [
        "# from dotenv import load_dotenv\n",
        "import os\n",
        "\n",
        "from google.colab import userdata\n",
        "HF_TOKEN = userdata.get('HF_TOKEN')\n",
        "# userdata.get('OPENAI_API_KEY')\n",
        "\n",
        "# load_dotenv()\n",
        "# huggingface_token = os.getenv(\"HUGGINGFACE_TOKEN\")\n",
        "# openai_token = os.getenv(\"OPENAI_API_KEY\")"
      ]
    },
    {
      "cell_type": "code",
      "execution_count": 3,
      "metadata": {
        "id": "A9-PIEyQppRV"
      },
      "outputs": [],
      "source": []
    },
    {
      "cell_type": "code",
      "execution_count": 2,
      "metadata": {
        "id": "JJ1jarhAqoSP"
      },
      "outputs": [],
      "source": [
        "from google.colab import drive\n",
        "import os\n",
        "import zipfile\n",
        "from tqdm import tqdm\n",
        "# from dotenv import load_dotenv\n",
        "from openai import OpenAI\n",
        "from transformers import pipeline, AutoTokenizer, AutoModelForSeq2SeqLM"
      ]
    },
    {
      "cell_type": "code",
      "execution_count": 4,
      "metadata": {
        "colab": {
          "base_uri": "https://localhost:8080/"
        },
        "id": "-lg1rk_xqu4V",
        "outputId": "fcf0317c-16a3-438a-ed5a-a5384f5ddd08"
      },
      "outputs": [
        {
          "name": "stdout",
          "output_type": "stream",
          "text": [
            "Mounted at /content/drive\n"
          ]
        }
      ],
      "source": [
        "# ========== Mount Google Drive ==========\n",
        "drive.mount('/content/drive')\n",
        "\n",
        "# ========== Path Configuration ==========\n",
        "# Update these paths according to your Google Drive structure\n",
        "DRIVE_BASE = '/content/drive/MyDrive/'\n",
        "ZIP_PATH = \"./data/elmundo_chunked_es_page1_40years.zip\"\n",
        "EXTRACT_DIR = '/tmp/extracted'  # Using tmp for faster I/O\n",
        "OUTPUT_DIR = os.path.join(DRIVE_BASE, 'cleaned_articles1')\n",
        "\n",
        "# Create directories\n",
        "os.makedirs(EXTRACT_DIR, exist_ok=True)\n",
        "os.makedirs(OUTPUT_DIR, exist_ok=True)\n"
      ]
    },
    {
      "cell_type": "code",
      "execution_count": 3,
      "metadata": {
        "id": "X9Lhjn972LZ9"
      },
      "outputs": [],
      "source": [
        "ZIP_PATH = \"./data/elmundo_chunked_es_page1_40years.zip\"\n",
        "EXTRACT_DIR = '/tmp/extracted'  # Using tmp for faster I/O\n",
        "os.makedirs(EXTRACT_DIR, exist_ok=True)"
      ]
    },
    {
      "cell_type": "code",
      "execution_count": 4,
      "metadata": {
        "id": "Y9eOgmfMuhg4"
      },
      "outputs": [],
      "source": [
        "# ========== File Extraction ==========\n",
        "def extract_files():\n",
        "    with zipfile.ZipFile(ZIP_PATH, 'r') as zip_ref:\n",
        "        # Extract nested structure\n",
        "        for file in zip_ref.namelist():\n",
        "            if file.endswith('.txt'):\n",
        "                zip_ref.extract(file, EXTRACT_DIR)\n",
        "                print(f\"{file} extracted\")\n",
        "\n",
        "    print(f\"Extracted files to: {EXTRACT_DIR}\")\n"
      ]
    },
    {
      "cell_type": "code",
      "execution_count": 10,
      "metadata": {
        "id": "mK-XMiIpq3ka"
      },
      "outputs": [],
      "source": [
        "# ========== OpenAI Correction ==========\n",
        "def correct_with_openai(text):\n",
        "    client = OpenAI()\n",
        "\n",
        "    response = client.chat.completions.create(\n",
        "        model=\"gpt-4o-mini\",\n",
        "        messages=[\n",
        "            {\n",
        "                \"role\": \"system\",\n",
        "                \"content\": \"\"\"Eres un experto en documentos históricos de Puerto Rico. El texto en español son noticias del siglo XX y contiene muchos errores a causa del OCR. Descifra el contenido y tradúcelo al inglés:\n",
        "1. Preserva nombres propios (ej: Mayagüez, Caguas)\n",
        "2. Ignora el \"header\" (ej:\n",
        "```EL MUNDO\n",
        "PRONOSTICOS DEL TIEMPO PARA LA ISLA, HOY: Mayormente nublado, con aguaceros dispersos temprano en la mafiana. EN SAN JUAN. AYER: Temperatura máxima. 80; mínima, 77. Presión barométrica al nivel del mar, a las 4:80 de la tarde. 38.88 pulgadas de mercurio. No hay indicios de disturbio tropical.\n",
        "40 páginas 5/\n",
        "DIARIO DE LA MARANA\n",
        "AÑO XXVIII\n",
        "Entered aa second clsss matter, Post Office, San Juan, P. R.)```\n",
        "3. Ignora los anuncios\n",
        "4. Solo mantén contenido relacionado a Puerto Rico (especialmente sobre ciudades, locaciones o eventos históricos)\n",
        "5. Traduce el texto a inglés. Solo mantén los datos mas importantes\n",
        "6. Lista las ciudades o locaciones de Puerto Rico mencionadas\n",
        "7. Escribe solo en texto (no uses **negrillas** ni *itálicas* ni nada en markdown)\n",
        "8. return it as a JSON object with two fields:\n",
        "    - 'metadata': un diccionario con la siguiente informacion: 'file_name' (nombre del archivo), 'date' (fecha del articulo), 'locations' (lista de las ciudades o locaciones de Puerto Rico mencionadas).\n",
        "    - 'text': the corrected and summarized text in English.\n",
        "8. No digas nada mas ni preguntes más. Usa el siguiente texto:\"\"\"\n",
        "            },\n",
        "            {\n",
        "                \"role\": \"user\",\n",
        "                \"content\": text\n",
        "            }\n",
        "        ],\n",
        "        temperature=0.1,\n",
        "        max_tokens=2000\n",
        "    )\n",
        "    return response.choices[0].message.content"
      ]
    },
    {
      "cell_type": "code",
      "execution_count": 8,
      "metadata": {
        "colab": {
          "base_uri": "https://localhost:8080/"
        },
        "id": "0ow51RAI29nM",
        "outputId": "57f47526-b56f-4651-bb1a-52d7c12e964c"
      },
      "outputs": [
        {
          "name": "stdout",
          "output_type": "stream",
          "text": [
            "\u001b[2K     \u001b[90m━━━━━━━━━━━━━━━━━━━━━━━━━━━━━━━━━━━━━━━━\u001b[0m \u001b[32m130.7/130.7 kB\u001b[0m \u001b[31m3.2 MB/s\u001b[0m eta \u001b[36m0:00:00\u001b[0m\n",
            "\u001b[2K   \u001b[90m━━━━━━━━━━━━━━━━━━━━━━━━━━━━━━━━━━━━━━━━\u001b[0m \u001b[32m8.5/8.5 MB\u001b[0m \u001b[31m60.3 MB/s\u001b[0m eta \u001b[36m0:00:00\u001b[0m\n",
            "\u001b[2K   \u001b[90m━━━━━━━━━━━━━━━━━━━━━━━━━━━━━━━━━━━━━━━━\u001b[0m \u001b[32m755.6/755.6 MB\u001b[0m \u001b[31m1.2 MB/s\u001b[0m eta \u001b[36m0:00:00\u001b[0m\n",
            "\u001b[2K   \u001b[90m━━━━━━━━━━━━━━━━━━━━━━━━━━━━━━━━━━━━━━━━\u001b[0m \u001b[32m410.6/410.6 MB\u001b[0m \u001b[31m3.8 MB/s\u001b[0m eta \u001b[36m0:00:00\u001b[0m\n",
            "\u001b[2K   \u001b[90m━━━━━━━━━━━━━━━━━━━━━━━━━━━━━━━━━━━━━━━━\u001b[0m \u001b[32m14.1/14.1 MB\u001b[0m \u001b[31m80.0 MB/s\u001b[0m eta \u001b[36m0:00:00\u001b[0m\n",
            "\u001b[2K   \u001b[90m━━━━━━━━━━━━━━━━━━━━━━━━━━━━━━━━━━━━━━━━\u001b[0m \u001b[32m23.7/23.7 MB\u001b[0m \u001b[31m73.0 MB/s\u001b[0m eta \u001b[36m0:00:00\u001b[0m\n",
            "\u001b[2K   \u001b[90m━━━━━━━━━━━━━━━━━━━━━━━━━━━━━━━━━━━━━━━━\u001b[0m \u001b[32m823.6/823.6 kB\u001b[0m \u001b[31m37.5 MB/s\u001b[0m eta \u001b[36m0:00:00\u001b[0m\n",
            "\u001b[2K   \u001b[90m━━━━━━━━━━━━━━━━━━━━━━━━━━━━━━━━━━━━━━━━\u001b[0m \u001b[32m731.7/731.7 MB\u001b[0m \u001b[31m2.7 MB/s\u001b[0m eta \u001b[36m0:00:00\u001b[0m\n",
            "\u001b[2K   \u001b[90m━━━━━━━━━━━━━━━━━━━━━━━━━━━━━━━━━━━━━━━━\u001b[0m \u001b[32m121.6/121.6 MB\u001b[0m \u001b[31m8.6 MB/s\u001b[0m eta \u001b[36m0:00:00\u001b[0m\n",
            "\u001b[2K   \u001b[90m━━━━━━━━━━━━━━━━━━━━━━━━━━━━━━━━━━━━━━━━\u001b[0m \u001b[32m56.5/56.5 MB\u001b[0m \u001b[31m16.3 MB/s\u001b[0m eta \u001b[36m0:00:00\u001b[0m\n",
            "\u001b[2K   \u001b[90m━━━━━━━━━━━━━━━━━━━━━━━━━━━━━━━━━━━━━━━━\u001b[0m \u001b[32m124.2/124.2 MB\u001b[0m \u001b[31m8.2 MB/s\u001b[0m eta \u001b[36m0:00:00\u001b[0m\n",
            "\u001b[2K   \u001b[90m━━━━━━━━━━━━━━━━━━━━━━━━━━━━━━━━━━━━━━━━\u001b[0m \u001b[32m196.0/196.0 MB\u001b[0m \u001b[31m6.3 MB/s\u001b[0m eta \u001b[36m0:00:00\u001b[0m\n",
            "\u001b[2K   \u001b[90m━━━━━━━━━━━━━━━━━━━━━━━━━━━━━━━━━━━━━━━━\u001b[0m \u001b[32m166.0/166.0 MB\u001b[0m \u001b[31m7.3 MB/s\u001b[0m eta \u001b[36m0:00:00\u001b[0m\n",
            "\u001b[2K   \u001b[90m━━━━━━━━━━━━━━━━━━━━━━━━━━━━━━━━━━━━━━━━\u001b[0m \u001b[32m99.1/99.1 kB\u001b[0m \u001b[31m5.9 MB/s\u001b[0m eta \u001b[36m0:00:00\u001b[0m\n",
            "\u001b[2K   \u001b[90m━━━━━━━━━━━━━━━━━━━━━━━━━━━━━━━━━━━━━━━━\u001b[0m \u001b[32m167.9/167.9 MB\u001b[0m \u001b[31m7.0 MB/s\u001b[0m eta \u001b[36m0:00:00\u001b[0m\n",
            "\u001b[2K   \u001b[90m━━━━━━━━━━━━━━━━━━━━━━━━━━━━━━━━━━━━━━━━\u001b[0m \u001b[32m3.6/3.6 MB\u001b[0m \u001b[31m62.6 MB/s\u001b[0m eta \u001b[36m0:00:00\u001b[0m\n",
            "\u001b[?25h\u001b[31mERROR: pip's dependency resolver does not currently take into account all the packages that are installed. This behaviour is the source of the following dependency conflicts.\n",
            "sentence-transformers 3.4.1 requires transformers<5.0.0,>=4.41.0, but you have transformers 4.38.2 which is incompatible.\n",
            "torchvision 0.20.1+cu124 requires torch==2.5.1, but you have torch 2.2.1 which is incompatible.\n",
            "torchaudio 2.5.1+cu124 requires torch==2.5.1, but you have torch 2.2.1 which is incompatible.\u001b[0m\u001b[31m\n",
            "\u001b[0mHugging Face Hub is reachable ✅\n"
          ]
        }
      ],
      "source": [
        "# !pip install -q transformers==4.38.2 torch==2.2.1\n",
        "# !rm -rf ~/.cache/huggingface/hub  # Clear corrupted cache\n",
        "\n",
        "# from transformers import T5Tokenizer, T5ForConditionalGeneration\n",
        "# import requests\n",
        "\n",
        "# # ========== Verify Internet Access ==========\n",
        "# try:\n",
        "#     response = requests.get(\"https://huggingface.co/google/flan-t5-small\", timeout=10)\n",
        "#     print(\"Hugging Face Hub is reachable ✅\")\n",
        "# except:\n",
        "#     print(\"NO INTERNET ACCESS TO HUGGINGFACE ❌\")\n",
        "#     # If using Colab: Runtime → Disconnect & delete runtime → Start fresh\n"
      ]
    },
    {
      "cell_type": "code",
      "execution_count": 5,
      "metadata": {
        "colab": {
          "base_uri": "https://localhost:8080/"
        },
        "id": "ZA88Ruqh38r5",
        "outputId": "88f521af-bf56-4096-d2cb-ca788c22b4cc"
      },
      "outputs": [
        {
          "name": "stderr",
          "output_type": "stream",
          "text": [
            "/usr/local/lib/python3.11/dist-packages/huggingface_hub/file_download.py:795: FutureWarning: `resume_download` is deprecated and will be removed in version 1.0.0. Downloads always resume when possible. If you want to force a new download, use `force_download=True`.\n",
            "  warnings.warn(\n"
          ]
        },
        {
          "name": "stdout",
          "output_type": "stream",
          "text": [
            "Error: Force download failed due to the above error.\n"
          ]
        }
      ],
      "source": [
        "from transformers import T5Tokenizer, T5ForConditionalGeneration\n",
        "\n",
        "\n",
        "try:\n",
        "    tokenizer = T5Tokenizer.from_pretrained(\n",
        "        \"google/flan-t5-small\",\n",
        "        force_download=True,  # Bypass cache\n",
        "        resume_download=False\n",
        "    )\n",
        "    model = T5ForConditionalGeneration.from_pretrained(\n",
        "        \"google/flan-t5-small\",\n",
        "        device_map=\"auto\"\n",
        "    )\n",
        "    print(\"Model loaded successfully! 🎉\")\n",
        "except Exception as e:\n",
        "    print(f\"Error: {str(e)}\")\n",
        "    # Fallback to local copy if available"
      ]
    },
    {
      "cell_type": "code",
      "execution_count": 6,
      "metadata": {
        "colab": {
          "base_uri": "https://localhost:8080/"
        },
        "id": "neTaPyis5Hht",
        "outputId": "cec6f749-4356-4f80-e48a-02ba35050fc4"
      },
      "outputs": [
        {
          "name": "stdout",
          "output_type": "stream",
          "text": [
            "/content/flan-t5-small\n"
          ]
        },
        {
          "name": "stderr",
          "output_type": "stream",
          "text": [
            "You are using the default legacy behaviour of the <class 'transformers.models.t5.tokenization_t5.T5Tokenizer'>. This is expected, and simply means that the `legacy` (previous) behavior will be used so nothing changes for you. If you want to use the new behaviour, set `legacy=False`. This should only be set if you understand what it means, and thoroughly read the reason why this was added as explained in https://github.com/huggingface/transformers/pull/24565\n"
          ]
        },
        {
          "name": "stdout",
          "output_type": "stream",
          "text": [
            "/content\n"
          ]
        }
      ],
      "source": [
        "!mkdir -p flan-t5-small\n",
        "%cd flan-t5-small\n",
        "\n",
        "# Download all required files manually\n",
        "!wget -q https://huggingface.co/google/flan-t5-small/resolve/main/config.json\n",
        "!wget -q https://huggingface.co/google/flan-t5-small/resolve/main/pytorch_model.bin\n",
        "!wget -q https://huggingface.co/google/flan-t5-small/resolve/main/special_tokens_map.json\n",
        "!wget -q https://huggingface.co/google/flan-t5-small/resolve/main/spiece.model\n",
        "!wget -q https://huggingface.co/google/flan-t5-small/resolve/main/tokenizer_config.json\n",
        "!wget -q https://huggingface.co/google/flan-t5-small/resolve/main/generation_config.json\n",
        "\n",
        "%cd ..\n",
        "\n",
        "from transformers import T5Tokenizer, T5ForConditionalGeneration\n",
        "\n",
        "# Load from local directory\n",
        "tokenizer = T5Tokenizer.from_pretrained(\"./flan-t5-small\")\n",
        "model = T5ForConditionalGeneration.from_pretrained(\"./flan-t5-small\", device_map=\"auto\")\n",
        "\n",
        "\n",
        "def correct_with_opensource(text):\n",
        "    inputs = tokenizer(\n",
        "        f\"Este texto es de un periodico llamado 'El Mundo' y contiene noticias de Puerto Rico del siglo XX. Corrige errores OCR en este texto español manteniendo nombres propios y formato: {text}\",\n",
        "        return_tensors=\"pt\",\n",
        "        max_length=512,\n",
        "        truncation=True\n",
        "    ).to(model.device)\n",
        "\n",
        "    outputs = model.generate(\n",
        "        inputs.input_ids,\n",
        "        max_length=1024,\n",
        "        num_beams=3\n",
        "    )\n",
        "    return tokenizer.decode(outputs[0], skip_special_tokens=True)"
      ]
    },
    {
      "cell_type": "code",
      "execution_count": 8,
      "metadata": {
        "colab": {
          "base_uri": "https://localhost:8080/"
        },
        "id": "HZhejuptu0-A",
        "outputId": "392cafd9-3077-45fd-df51-78f1db6b73e2"
      },
      "outputs": [
        {
          "name": "stderr",
          "output_type": "stream",
          "text": [
            "Config of the encoder: <class 'transformers.models.bert.modeling_bert.BertModel'> is overwritten by shared encoder config: BertConfig {\n",
            "  \"_name_or_path\": \"dccuchile/bert-base-spanish-wwm-cased\",\n",
            "  \"architectures\": [\n",
            "    \"BertForMaskedLM\"\n",
            "  ],\n",
            "  \"attention_probs_dropout_prob\": 0.1,\n",
            "  \"classifier_dropout\": null,\n",
            "  \"gradient_checkpointing\": false,\n",
            "  \"hidden_act\": \"gelu\",\n",
            "  \"hidden_dropout_prob\": 0.1,\n",
            "  \"hidden_size\": 768,\n",
            "  \"initializer_range\": 0.02,\n",
            "  \"intermediate_size\": 3072,\n",
            "  \"layer_norm_eps\": 1e-12,\n",
            "  \"max_position_embeddings\": 512,\n",
            "  \"model_type\": \"bert\",\n",
            "  \"num_attention_heads\": 12,\n",
            "  \"num_hidden_layers\": 12,\n",
            "  \"output_past\": true,\n",
            "  \"pad_token_id\": 1,\n",
            "  \"position_embedding_type\": \"absolute\",\n",
            "  \"transformers_version\": \"4.48.3\",\n",
            "  \"type_vocab_size\": 2,\n",
            "  \"use_cache\": true,\n",
            "  \"vocab_size\": 31002\n",
            "}\n",
            "\n",
            "Config of the decoder: <class 'transformers.models.bert.modeling_bert.BertLMHeadModel'> is overwritten by shared decoder config: BertConfig {\n",
            "  \"_name_or_path\": \"dccuchile/bert-base-spanish-wwm-cased\",\n",
            "  \"add_cross_attention\": true,\n",
            "  \"architectures\": [\n",
            "    \"BertForMaskedLM\"\n",
            "  ],\n",
            "  \"attention_probs_dropout_prob\": 0.1,\n",
            "  \"classifier_dropout\": null,\n",
            "  \"gradient_checkpointing\": false,\n",
            "  \"hidden_act\": \"gelu\",\n",
            "  \"hidden_dropout_prob\": 0.1,\n",
            "  \"hidden_size\": 768,\n",
            "  \"initializer_range\": 0.02,\n",
            "  \"intermediate_size\": 3072,\n",
            "  \"is_decoder\": true,\n",
            "  \"layer_norm_eps\": 1e-12,\n",
            "  \"max_position_embeddings\": 512,\n",
            "  \"model_type\": \"bert\",\n",
            "  \"num_attention_heads\": 12,\n",
            "  \"num_hidden_layers\": 12,\n",
            "  \"output_past\": true,\n",
            "  \"pad_token_id\": 1,\n",
            "  \"position_embedding_type\": \"absolute\",\n",
            "  \"transformers_version\": \"4.48.3\",\n",
            "  \"type_vocab_size\": 2,\n",
            "  \"use_cache\": true,\n",
            "  \"vocab_size\": 31002\n",
            "}\n",
            "\n",
            "The following encoder weights were not tied to the decoder ['bert/pooler']\n",
            "The following encoder weights were not tied to the decoder ['bert/pooler']\n",
            "The following encoder weights were not tied to the decoder ['bert/pooler']\n",
            "The following encoder weights were not tied to the decoder ['bert/pooler']\n"
          ]
        }
      ],
      "source": [
        "# ========== Summarize Text ==========\n",
        "# Load model directly\n",
        "\n",
        "# !mkdir -p bert2bert-shared-spanish-summarization\n",
        "# %cd bert2bert-shared-spanish-summarization\n",
        "\n",
        "# # Download all required files manually\n",
        "# !wget -q https://huggingface.co/mrm8488/bert2bert_shared-spanish-finetuned-summarization/resolve/main/config.json\n",
        "# !wget -q https://huggingface.co/mrm8488/bert2bert_shared-spanish-finetuned-summarization/resolve/main/pytorch_model.bin\n",
        "# !wget -q https://huggingface.co/mrm8488/bert2bert_shared-spanish-finetuned-summarization/resolve/main/special_tokens_map.json\n",
        "# !wget -q https://huggingface.co/mrm8488/bert2bert_shared-spanish-finetuned-summarization/resolve/main/tokenizer_config.json\n",
        "# !wget -q https://huggingface.co/mrm8488/bert2bert_shared-spanish-finetuned-summarization/resolve/main/vocab.txt\n",
        "\n",
        "# %cd ..\n",
        "\n",
        "from transformers import AutoTokenizer, AutoModelForSeq2SeqLM\n",
        "\n",
        "# Load from local directory\n",
        "sum_tokenizer = AutoTokenizer.from_pretrained(\"./bert2bert-shared-spanish-summarization\")\n",
        "sum_model = AutoModelForSeq2SeqLM.from_pretrained(\"./bert2bert-shared-spanish-summarization\")#, device_map=\"auto\")\n",
        "\n",
        "def summarize_text(text):\n",
        "    inputs = sum_tokenizer(\n",
        "        text,\n",
        "        return_tensors=\"pt\",\n",
        "        max_length=512,\n",
        "        truncation=True\n",
        "    ).to(\"cuda\")\n",
        "\n",
        "    outputs = sum_model.generate(\n",
        "        inputs.input_ids,\n",
        "        max_length=512,\n",
        "        min_length=256,\n",
        "        num_beams=4,\n",
        "        early_stopping=True\n",
        "    )\n",
        "    return sum_tokenizer.decode(outputs[0], skip_special_tokens=True)"
      ]
    },
    {
      "cell_type": "code",
      "execution_count": 10,
      "metadata": {
        "colab": {
          "base_uri": "https://localhost:8080/"
        },
        "id": "vOBaFytF4Aa5",
        "outputId": "78ec2d53-539b-4f42-e000-38f077ce181b"
      },
      "outputs": [
        {
          "name": "stdout",
          "output_type": "stream",
          "text": [
            "/content/opus-mt-es-en\n",
            "/content\n"
          ]
        }
      ],
      "source": [
        "!mkdir -p opus-mt-es-en\n",
        "%cd opus-mt-es-en\n",
        "!wget -q https://huggingface.co/Helsinki-NLP/opus-mt-es-en/resolve/main/config.json\n",
        "!wget -q https://huggingface.co/Helsinki-NLP/opus-mt-es-en/resolve/main/pytorch_model.bin\n",
        "!wget -q https://huggingface.co/Helsinki-NLP/opus-mt-es-en/resolve/main/tokenizer_config.json\n",
        "!wget -q https://huggingface.co/Helsinki-NLP/opus-mt-es-en/resolve/main/source.spm\n",
        "!wget -q https://huggingface.co/Helsinki-NLP/opus-mt-es-en/resolve/main/target.spm\n",
        "%cd ..\n"
      ]
    },
    {
      "cell_type": "code",
      "execution_count": 18,
      "metadata": {
        "id": "z4Wt3yyu6H7q"
      },
      "outputs": [],
      "source": [
        "!wget -q https://huggingface.co/Helsinki-NLP/opus-mt-es-en/resolve/main/tokenizer.json -P ./opus-mt-es-en\n",
        "\n"
      ]
    },
    {
      "cell_type": "code",
      "execution_count": 19,
      "metadata": {
        "colab": {
          "base_uri": "https://localhost:8080/",
          "height": 388
        },
        "id": "NhXlYvnbqR3n",
        "outputId": "c7c5739a-69c2-4fa8-d0c0-a9d30328cb5e"
      },
      "outputs": [
        {
          "ename": "TypeError",
          "evalue": "expected str, bytes or os.PathLike object, not NoneType",
          "output_type": "error",
          "traceback": [
            "\u001b[0;31m---------------------------------------------------------------------------\u001b[0m",
            "\u001b[0;31mTypeError\u001b[0m                                 Traceback (most recent call last)",
            "\u001b[0;32m<ipython-input-19-20486e1947d6>\u001b[0m in \u001b[0;36m<cell line: 0>\u001b[0;34m()\u001b[0m\n\u001b[1;32m      6\u001b[0m \u001b[0;32mfrom\u001b[0m \u001b[0mtransformers\u001b[0m \u001b[0;32mimport\u001b[0m \u001b[0mMarianMTModel\u001b[0m\u001b[0;34m,\u001b[0m \u001b[0mMarianTokenizer\u001b[0m\u001b[0;34m\u001b[0m\u001b[0;34m\u001b[0m\u001b[0m\n\u001b[1;32m      7\u001b[0m \u001b[0;34m\u001b[0m\u001b[0m\n\u001b[0;32m----> 8\u001b[0;31m tokenizer = MarianTokenizer.from_pretrained(\n\u001b[0m\u001b[1;32m      9\u001b[0m     \u001b[0;34m\"./opus-mt-es-en\"\u001b[0m\u001b[0;34m,\u001b[0m\u001b[0;34m\u001b[0m\u001b[0;34m\u001b[0m\u001b[0m\n\u001b[1;32m     10\u001b[0m     \u001b[0msource_spm\u001b[0m\u001b[0;34m=\u001b[0m\u001b[0;34m\"./opus-mt-es-en/source.spm\"\u001b[0m\u001b[0;34m,\u001b[0m\u001b[0;34m\u001b[0m\u001b[0;34m\u001b[0m\u001b[0m\n",
            "\u001b[0;32m/usr/local/lib/python3.11/dist-packages/transformers/tokenization_utils_base.py\u001b[0m in \u001b[0;36mfrom_pretrained\u001b[0;34m(cls, pretrained_model_name_or_path, cache_dir, force_download, local_files_only, token, revision, trust_remote_code, *init_inputs, **kwargs)\u001b[0m\n\u001b[1;32m   2034\u001b[0m                 \u001b[0mlogger\u001b[0m\u001b[0;34m.\u001b[0m\u001b[0minfo\u001b[0m\u001b[0;34m(\u001b[0m\u001b[0;34mf\"loading file {file_path} from cache at {resolved_vocab_files[file_id]}\"\u001b[0m\u001b[0;34m)\u001b[0m\u001b[0;34m\u001b[0m\u001b[0;34m\u001b[0m\u001b[0m\n\u001b[1;32m   2035\u001b[0m \u001b[0;34m\u001b[0m\u001b[0m\n\u001b[0;32m-> 2036\u001b[0;31m         return cls._from_pretrained(\n\u001b[0m\u001b[1;32m   2037\u001b[0m             \u001b[0mresolved_vocab_files\u001b[0m\u001b[0;34m,\u001b[0m\u001b[0;34m\u001b[0m\u001b[0;34m\u001b[0m\u001b[0m\n\u001b[1;32m   2038\u001b[0m             \u001b[0mpretrained_model_name_or_path\u001b[0m\u001b[0;34m,\u001b[0m\u001b[0;34m\u001b[0m\u001b[0;34m\u001b[0m\u001b[0m\n",
            "\u001b[0;32m/usr/local/lib/python3.11/dist-packages/transformers/tokenization_utils_base.py\u001b[0m in \u001b[0;36m_from_pretrained\u001b[0;34m(cls, resolved_vocab_files, pretrained_model_name_or_path, init_configuration, token, cache_dir, local_files_only, _commit_hash, _is_local, trust_remote_code, *init_inputs, **kwargs)\u001b[0m\n\u001b[1;32m   2274\u001b[0m         \u001b[0;31m# Instantiate the tokenizer.\u001b[0m\u001b[0;34m\u001b[0m\u001b[0;34m\u001b[0m\u001b[0m\n\u001b[1;32m   2275\u001b[0m         \u001b[0;32mtry\u001b[0m\u001b[0;34m:\u001b[0m\u001b[0;34m\u001b[0m\u001b[0;34m\u001b[0m\u001b[0m\n\u001b[0;32m-> 2276\u001b[0;31m             \u001b[0mtokenizer\u001b[0m \u001b[0;34m=\u001b[0m \u001b[0mcls\u001b[0m\u001b[0;34m(\u001b[0m\u001b[0;34m*\u001b[0m\u001b[0minit_inputs\u001b[0m\u001b[0;34m,\u001b[0m \u001b[0;34m**\u001b[0m\u001b[0minit_kwargs\u001b[0m\u001b[0;34m)\u001b[0m\u001b[0;34m\u001b[0m\u001b[0;34m\u001b[0m\u001b[0m\n\u001b[0m\u001b[1;32m   2277\u001b[0m         \u001b[0;32mexcept\u001b[0m \u001b[0mimport_protobuf_decode_error\u001b[0m\u001b[0;34m(\u001b[0m\u001b[0;34m)\u001b[0m\u001b[0;34m:\u001b[0m\u001b[0;34m\u001b[0m\u001b[0;34m\u001b[0m\u001b[0m\n\u001b[1;32m   2278\u001b[0m             logger.info(\n",
            "\u001b[0;32m/usr/local/lib/python3.11/dist-packages/transformers/models/marian/tokenization_marian.py\u001b[0m in \u001b[0;36m__init__\u001b[0;34m(self, source_spm, target_spm, vocab, target_vocab_file, source_lang, target_lang, unk_token, eos_token, pad_token, model_max_length, sp_model_kwargs, separate_vocabs, **kwargs)\u001b[0m\n\u001b[1;32m    126\u001b[0m \u001b[0;34m\u001b[0m\u001b[0m\n\u001b[1;32m    127\u001b[0m         \u001b[0mself\u001b[0m\u001b[0;34m.\u001b[0m\u001b[0mseparate_vocabs\u001b[0m \u001b[0;34m=\u001b[0m \u001b[0mseparate_vocabs\u001b[0m\u001b[0;34m\u001b[0m\u001b[0;34m\u001b[0m\u001b[0m\n\u001b[0;32m--> 128\u001b[0;31m         \u001b[0mself\u001b[0m\u001b[0;34m.\u001b[0m\u001b[0mencoder\u001b[0m \u001b[0;34m=\u001b[0m \u001b[0mload_json\u001b[0m\u001b[0;34m(\u001b[0m\u001b[0mvocab\u001b[0m\u001b[0;34m)\u001b[0m\u001b[0;34m\u001b[0m\u001b[0;34m\u001b[0m\u001b[0m\n\u001b[0m\u001b[1;32m    129\u001b[0m         \u001b[0;32mif\u001b[0m \u001b[0mstr\u001b[0m\u001b[0;34m(\u001b[0m\u001b[0munk_token\u001b[0m\u001b[0;34m)\u001b[0m \u001b[0;32mnot\u001b[0m \u001b[0;32min\u001b[0m \u001b[0mself\u001b[0m\u001b[0;34m.\u001b[0m\u001b[0mencoder\u001b[0m\u001b[0;34m:\u001b[0m\u001b[0;34m\u001b[0m\u001b[0;34m\u001b[0m\u001b[0m\n\u001b[1;32m    130\u001b[0m             \u001b[0;32mraise\u001b[0m \u001b[0mKeyError\u001b[0m\u001b[0;34m(\u001b[0m\u001b[0;34m\"<unk> token must be in the vocab\"\u001b[0m\u001b[0;34m)\u001b[0m\u001b[0;34m\u001b[0m\u001b[0;34m\u001b[0m\u001b[0m\n",
            "\u001b[0;32m/usr/local/lib/python3.11/dist-packages/transformers/models/marian/tokenization_marian.py\u001b[0m in \u001b[0;36mload_json\u001b[0;34m(path)\u001b[0m\n\u001b[1;32m    388\u001b[0m \u001b[0;34m\u001b[0m\u001b[0m\n\u001b[1;32m    389\u001b[0m \u001b[0;32mdef\u001b[0m \u001b[0mload_json\u001b[0m\u001b[0;34m(\u001b[0m\u001b[0mpath\u001b[0m\u001b[0;34m:\u001b[0m \u001b[0mstr\u001b[0m\u001b[0;34m)\u001b[0m \u001b[0;34m->\u001b[0m \u001b[0mUnion\u001b[0m\u001b[0;34m[\u001b[0m\u001b[0mDict\u001b[0m\u001b[0;34m,\u001b[0m \u001b[0mList\u001b[0m\u001b[0;34m]\u001b[0m\u001b[0;34m:\u001b[0m\u001b[0;34m\u001b[0m\u001b[0;34m\u001b[0m\u001b[0m\n\u001b[0;32m--> 390\u001b[0;31m     \u001b[0;32mwith\u001b[0m \u001b[0mopen\u001b[0m\u001b[0;34m(\u001b[0m\u001b[0mpath\u001b[0m\u001b[0;34m,\u001b[0m \u001b[0;34m\"r\"\u001b[0m\u001b[0;34m)\u001b[0m \u001b[0;32mas\u001b[0m \u001b[0mf\u001b[0m\u001b[0;34m:\u001b[0m\u001b[0;34m\u001b[0m\u001b[0;34m\u001b[0m\u001b[0m\n\u001b[0m\u001b[1;32m    391\u001b[0m         \u001b[0;32mreturn\u001b[0m \u001b[0mjson\u001b[0m\u001b[0;34m.\u001b[0m\u001b[0mload\u001b[0m\u001b[0;34m(\u001b[0m\u001b[0mf\u001b[0m\u001b[0;34m)\u001b[0m\u001b[0;34m\u001b[0m\u001b[0;34m\u001b[0m\u001b[0m\n\u001b[1;32m    392\u001b[0m \u001b[0;34m\u001b[0m\u001b[0m\n",
            "\u001b[0;31mTypeError\u001b[0m: expected str, bytes or os.PathLike object, not NoneType"
          ]
        }
      ],
      "source": [
        "# ========== Translation Pipeline ==========\n",
        "# translator = pipeline(\"translation_es_to_en\",\n",
        "#                      model=\"Helsinki-NLP/opus-mt-es-en\",\n",
        "#                      device=0)\n",
        "\n",
        "from transformers import MarianMTModel, MarianTokenizer\n",
        "\n",
        "tokenizer = MarianTokenizer.from_pretrained(\n",
        "    \"./opus-mt-es-en\",\n",
        "    source_spm=\"./opus-mt-es-en/source.spm\",\n",
        "    target_spm=\"./opus-mt-es-en/target.spm\",\n",
        "\n",
        ")\n",
        "model = AutoModelForSeq2SeqLM.from_pretrained(\"./opus-mt-es-en\")\n",
        "\n",
        "# Move model to GPU (if available)\n",
        "device = torch.device(\"cuda\" if torch.cuda.is_available() else \"cpu\")\n",
        "model.to(device)\n",
        "\n",
        "# Translation pipeline\n",
        "def translate(text):\n",
        "    inputs = tokenizer(text, return_tensors=\"pt\", padding=True).to(device)\n",
        "    translated = model.generate(**inputs)\n",
        "    translated_text = tokenizer.decode(translated[0], skip_special_tokens=True)\n",
        "    return translated_text"
      ]
    },
    {
      "cell_type": "code",
      "execution_count": 23,
      "metadata": {
        "id": "tms1XBSYqc4Q"
      },
      "outputs": [],
      "source": [
        "from sentence_splitter import SentenceSplitter\n",
        "\n",
        "# ========== Chunk text ==========\n",
        "splitter = SentenceSplitter(language='es')\n",
        "def chunk_text(text, max_chars=1000):\n",
        "    \"\"\"Split text into meaningful chunks preserving sentence boundaries\"\"\"\n",
        "    chunks = []\n",
        "    current_chunk = []\n",
        "    current_len = 0\n",
        "\n",
        "    for sentence in splitter.split(text):\n",
        "        sent_len = len(sentence)\n",
        "        if current_len + sent_len > max_chars:\n",
        "            chunks.append(\" \".join(current_chunk))\n",
        "            current_chunk = [sentence]\n",
        "            current_len = sent_len\n",
        "        else:\n",
        "            current_chunk.append(sentence)\n",
        "            current_len += sent_len\n",
        "\n",
        "    if current_chunk:\n",
        "        chunks.append(\" \".join(current_chunk))\n",
        "    return chunks\n"
      ]
    },
    {
      "cell_type": "code",
      "execution_count": 39,
      "metadata": {
        "id": "ceLR-a80vNx3"
      },
      "outputs": [],
      "source": [
        "# ========== Processing Pipeline ==========\n",
        "def process_files():\n",
        "    extract_files()\n",
        "\n",
        "    # Get all text files from nested directory\n",
        "    base_dir = os.path.join(EXTRACT_DIR, \"elmundo_chunked_es_page1_40years\")\n",
        "    txt_files = [f for f in os.listdir(base_dir) if f.endswith('.txt')]\n",
        "\n",
        "    for filename in tqdm(txt_files, desc=\"Processing files\"):\n",
        "        input_path = os.path.join(base_dir, filename)\n",
        "        output_path = os.path.join(OUTPUT_DIR, f\"cleaned_{filename}\")\n",
        "\n",
        "        with open(input_path, 'r', encoding='utf-8', errors='ignore') as f:\n",
        "            raw_text = f.read()\n",
        "\n",
        "        try:\n",
        "            # Choose one method:\n",
        "            cleaned_text = correct_with_openai(raw_text)  # OpenAI version\n",
        "            # cleaned_text = [correct_with_opensource(chunk) for chunk in chunk_text(raw_text)]  # Open-source version\n",
        "\n",
        "            # if len(cleaned_text.split()) > 750:  # Only summarize long articles\n",
        "            #     summary = summarize_text(cleaned_text)\n",
        "            # else:\n",
        "            #     summary = cleaned_text\n",
        "\n",
        "            # # 3. Translate\n",
        "            # translated = translator(summary, max_length=600)[0]['translation_text']\n",
        "\n",
        "            with open(output_path, 'w', encoding='utf-8') as f:\n",
        "                f.write(cleaned_text)\n",
        "\n",
        "            print(f\"Processed: {filename} -> Saved to Drive\")\n",
        "\n",
        "        except Exception as e:\n",
        "            print(f\"Error processing {filename}: {str(e)}\")\n",
        "            continue"
      ]
    },
    {
      "cell_type": "code",
      "execution_count": 24,
      "metadata": {
        "colab": {
          "base_uri": "https://localhost:8080/",
          "height": 406
        },
        "id": "Nucuv3AoqrbG",
        "outputId": "dc1b6729-ba7d-4e1a-8a86-0ac6c70e6def"
      },
      "outputs": [
        {
          "ename": "KeyboardInterrupt",
          "evalue": "",
          "output_type": "error",
          "traceback": [
            "\u001b[0;31m---------------------------------------------------------------------------\u001b[0m",
            "\u001b[0;31mKeyboardInterrupt\u001b[0m                         Traceback (most recent call last)",
            "\u001b[0;32m<ipython-input-24-e96d6e4300ae>\u001b[0m in \u001b[0;36m<cell line: 0>\u001b[0;34m()\u001b[0m\n\u001b[1;32m      4\u001b[0m             \u001b[0mraw_text\u001b[0m \u001b[0;34m=\u001b[0m \u001b[0mf\u001b[0m\u001b[0;34m.\u001b[0m\u001b[0mread\u001b[0m\u001b[0;34m(\u001b[0m\u001b[0;34m)\u001b[0m\u001b[0;34m\u001b[0m\u001b[0;34m\u001b[0m\u001b[0m\n\u001b[1;32m      5\u001b[0m \u001b[0;34m\u001b[0m\u001b[0m\n\u001b[0;32m----> 6\u001b[0;31m \u001b[0mcleaned_text\u001b[0m \u001b[0;34m=\u001b[0m \u001b[0;34m[\u001b[0m\u001b[0mcorrect_with_opensource\u001b[0m\u001b[0;34m(\u001b[0m\u001b[0mchunk\u001b[0m\u001b[0;34m)\u001b[0m \u001b[0;32mfor\u001b[0m \u001b[0mchunk\u001b[0m \u001b[0;32min\u001b[0m \u001b[0mchunk_text\u001b[0m\u001b[0;34m(\u001b[0m\u001b[0mraw_text\u001b[0m\u001b[0;34m)\u001b[0m\u001b[0;34m]\u001b[0m  \u001b[0;31m# Open-source version\u001b[0m\u001b[0;34m\u001b[0m\u001b[0;34m\u001b[0m\u001b[0m\n\u001b[0m\u001b[1;32m      7\u001b[0m \u001b[0;34m\u001b[0m\u001b[0m\n\u001b[1;32m      8\u001b[0m \u001b[0;31m# if len(cleaned_text.split()) > 750:  # Only summarize long articles\u001b[0m\u001b[0;34m\u001b[0m\u001b[0;34m\u001b[0m\u001b[0m\n",
            "\u001b[0;32m<ipython-input-24-e96d6e4300ae>\u001b[0m in \u001b[0;36m<listcomp>\u001b[0;34m(.0)\u001b[0m\n\u001b[1;32m      4\u001b[0m             \u001b[0mraw_text\u001b[0m \u001b[0;34m=\u001b[0m \u001b[0mf\u001b[0m\u001b[0;34m.\u001b[0m\u001b[0mread\u001b[0m\u001b[0;34m(\u001b[0m\u001b[0;34m)\u001b[0m\u001b[0;34m\u001b[0m\u001b[0;34m\u001b[0m\u001b[0m\n\u001b[1;32m      5\u001b[0m \u001b[0;34m\u001b[0m\u001b[0m\n\u001b[0;32m----> 6\u001b[0;31m \u001b[0mcleaned_text\u001b[0m \u001b[0;34m=\u001b[0m \u001b[0;34m[\u001b[0m\u001b[0mcorrect_with_opensource\u001b[0m\u001b[0;34m(\u001b[0m\u001b[0mchunk\u001b[0m\u001b[0;34m)\u001b[0m \u001b[0;32mfor\u001b[0m \u001b[0mchunk\u001b[0m \u001b[0;32min\u001b[0m \u001b[0mchunk_text\u001b[0m\u001b[0;34m(\u001b[0m\u001b[0mraw_text\u001b[0m\u001b[0;34m)\u001b[0m\u001b[0;34m]\u001b[0m  \u001b[0;31m# Open-source version\u001b[0m\u001b[0;34m\u001b[0m\u001b[0;34m\u001b[0m\u001b[0m\n\u001b[0m\u001b[1;32m      7\u001b[0m \u001b[0;34m\u001b[0m\u001b[0m\n\u001b[1;32m      8\u001b[0m \u001b[0;31m# if len(cleaned_text.split()) > 750:  # Only summarize long articles\u001b[0m\u001b[0;34m\u001b[0m\u001b[0;34m\u001b[0m\u001b[0m\n",
            "\u001b[0;32m<ipython-input-6-bc03dcf59ebd>\u001b[0m in \u001b[0;36mcorrect_with_opensource\u001b[0;34m(text)\u001b[0m\n\u001b[1;32m     27\u001b[0m     ).to(model.device)\n\u001b[1;32m     28\u001b[0m \u001b[0;34m\u001b[0m\u001b[0m\n\u001b[0;32m---> 29\u001b[0;31m     outputs = model.generate(\n\u001b[0m\u001b[1;32m     30\u001b[0m         \u001b[0minputs\u001b[0m\u001b[0;34m.\u001b[0m\u001b[0minput_ids\u001b[0m\u001b[0;34m,\u001b[0m\u001b[0;34m\u001b[0m\u001b[0;34m\u001b[0m\u001b[0m\n\u001b[1;32m     31\u001b[0m         \u001b[0mmax_length\u001b[0m\u001b[0;34m=\u001b[0m\u001b[0;36m1024\u001b[0m\u001b[0;34m,\u001b[0m\u001b[0;34m\u001b[0m\u001b[0;34m\u001b[0m\u001b[0m\n",
            "\u001b[0;32m/usr/local/lib/python3.11/dist-packages/torch/utils/_contextlib.py\u001b[0m in \u001b[0;36mdecorate_context\u001b[0;34m(*args, **kwargs)\u001b[0m\n\u001b[1;32m    114\u001b[0m     \u001b[0;32mdef\u001b[0m \u001b[0mdecorate_context\u001b[0m\u001b[0;34m(\u001b[0m\u001b[0;34m*\u001b[0m\u001b[0margs\u001b[0m\u001b[0;34m,\u001b[0m \u001b[0;34m**\u001b[0m\u001b[0mkwargs\u001b[0m\u001b[0;34m)\u001b[0m\u001b[0;34m:\u001b[0m\u001b[0;34m\u001b[0m\u001b[0;34m\u001b[0m\u001b[0m\n\u001b[1;32m    115\u001b[0m         \u001b[0;32mwith\u001b[0m \u001b[0mctx_factory\u001b[0m\u001b[0;34m(\u001b[0m\u001b[0;34m)\u001b[0m\u001b[0;34m:\u001b[0m\u001b[0;34m\u001b[0m\u001b[0;34m\u001b[0m\u001b[0m\n\u001b[0;32m--> 116\u001b[0;31m             \u001b[0;32mreturn\u001b[0m \u001b[0mfunc\u001b[0m\u001b[0;34m(\u001b[0m\u001b[0;34m*\u001b[0m\u001b[0margs\u001b[0m\u001b[0;34m,\u001b[0m \u001b[0;34m**\u001b[0m\u001b[0mkwargs\u001b[0m\u001b[0;34m)\u001b[0m\u001b[0;34m\u001b[0m\u001b[0;34m\u001b[0m\u001b[0m\n\u001b[0m\u001b[1;32m    117\u001b[0m \u001b[0;34m\u001b[0m\u001b[0m\n\u001b[1;32m    118\u001b[0m     \u001b[0;32mreturn\u001b[0m \u001b[0mdecorate_context\u001b[0m\u001b[0;34m\u001b[0m\u001b[0;34m\u001b[0m\u001b[0m\n",
            "\u001b[0;32m/usr/local/lib/python3.11/dist-packages/transformers/generation/utils.py\u001b[0m in \u001b[0;36mgenerate\u001b[0;34m(self, inputs, generation_config, logits_processor, stopping_criteria, prefix_allowed_tokens_fn, synced_gpus, assistant_model, streamer, negative_prompt_ids, negative_prompt_attention_mask, **kwargs)\u001b[0m\n\u001b[1;32m   2284\u001b[0m \u001b[0;34m\u001b[0m\u001b[0m\n\u001b[1;32m   2285\u001b[0m             \u001b[0;31m# 13. run beam sample\u001b[0m\u001b[0;34m\u001b[0m\u001b[0;34m\u001b[0m\u001b[0m\n\u001b[0;32m-> 2286\u001b[0;31m             result = self._beam_search(\n\u001b[0m\u001b[1;32m   2287\u001b[0m                 \u001b[0minput_ids\u001b[0m\u001b[0;34m,\u001b[0m\u001b[0;34m\u001b[0m\u001b[0;34m\u001b[0m\u001b[0m\n\u001b[1;32m   2288\u001b[0m                 \u001b[0mbeam_scorer\u001b[0m\u001b[0;34m,\u001b[0m\u001b[0;34m\u001b[0m\u001b[0;34m\u001b[0m\u001b[0m\n",
            "\u001b[0;32m/usr/local/lib/python3.11/dist-packages/transformers/generation/utils.py\u001b[0m in \u001b[0;36m_beam_search\u001b[0;34m(self, input_ids, beam_scorer, logits_processor, stopping_criteria, generation_config, synced_gpus, **model_kwargs)\u001b[0m\n\u001b[1;32m   3504\u001b[0m \u001b[0;34m\u001b[0m\u001b[0m\n\u001b[1;32m   3505\u001b[0m             \u001b[0;32melse\u001b[0m\u001b[0;34m:\u001b[0m  \u001b[0;31m# Unchanged original behavior\u001b[0m\u001b[0;34m\u001b[0m\u001b[0;34m\u001b[0m\u001b[0m\n\u001b[0;32m-> 3506\u001b[0;31m                 \u001b[0moutputs\u001b[0m \u001b[0;34m=\u001b[0m \u001b[0mself\u001b[0m\u001b[0;34m(\u001b[0m\u001b[0;34m**\u001b[0m\u001b[0mmodel_inputs\u001b[0m\u001b[0;34m,\u001b[0m \u001b[0mreturn_dict\u001b[0m\u001b[0;34m=\u001b[0m\u001b[0;32mTrue\u001b[0m\u001b[0;34m)\u001b[0m\u001b[0;34m\u001b[0m\u001b[0;34m\u001b[0m\u001b[0m\n\u001b[0m\u001b[1;32m   3507\u001b[0m \u001b[0;34m\u001b[0m\u001b[0m\n\u001b[1;32m   3508\u001b[0m             \u001b[0;31m# synced_gpus: don't waste resources running the code we don't need; kwargs must be updated before skipping\u001b[0m\u001b[0;34m\u001b[0m\u001b[0;34m\u001b[0m\u001b[0m\n",
            "\u001b[0;32m/usr/local/lib/python3.11/dist-packages/torch/nn/modules/module.py\u001b[0m in \u001b[0;36m_wrapped_call_impl\u001b[0;34m(self, *args, **kwargs)\u001b[0m\n\u001b[1;32m   1737\u001b[0m             \u001b[0;32mreturn\u001b[0m \u001b[0mself\u001b[0m\u001b[0;34m.\u001b[0m\u001b[0m_compiled_call_impl\u001b[0m\u001b[0;34m(\u001b[0m\u001b[0;34m*\u001b[0m\u001b[0margs\u001b[0m\u001b[0;34m,\u001b[0m \u001b[0;34m**\u001b[0m\u001b[0mkwargs\u001b[0m\u001b[0;34m)\u001b[0m  \u001b[0;31m# type: ignore[misc]\u001b[0m\u001b[0;34m\u001b[0m\u001b[0;34m\u001b[0m\u001b[0m\n\u001b[1;32m   1738\u001b[0m         \u001b[0;32melse\u001b[0m\u001b[0;34m:\u001b[0m\u001b[0;34m\u001b[0m\u001b[0;34m\u001b[0m\u001b[0m\n\u001b[0;32m-> 1739\u001b[0;31m             \u001b[0;32mreturn\u001b[0m \u001b[0mself\u001b[0m\u001b[0;34m.\u001b[0m\u001b[0m_call_impl\u001b[0m\u001b[0;34m(\u001b[0m\u001b[0;34m*\u001b[0m\u001b[0margs\u001b[0m\u001b[0;34m,\u001b[0m \u001b[0;34m**\u001b[0m\u001b[0mkwargs\u001b[0m\u001b[0;34m)\u001b[0m\u001b[0;34m\u001b[0m\u001b[0;34m\u001b[0m\u001b[0m\n\u001b[0m\u001b[1;32m   1740\u001b[0m \u001b[0;34m\u001b[0m\u001b[0m\n\u001b[1;32m   1741\u001b[0m     \u001b[0;31m# torchrec tests the code consistency with the following code\u001b[0m\u001b[0;34m\u001b[0m\u001b[0;34m\u001b[0m\u001b[0m\n",
            "\u001b[0;32m/usr/local/lib/python3.11/dist-packages/torch/nn/modules/module.py\u001b[0m in \u001b[0;36m_call_impl\u001b[0;34m(self, *args, **kwargs)\u001b[0m\n\u001b[1;32m   1748\u001b[0m                 \u001b[0;32mor\u001b[0m \u001b[0m_global_backward_pre_hooks\u001b[0m \u001b[0;32mor\u001b[0m \u001b[0m_global_backward_hooks\u001b[0m\u001b[0;34m\u001b[0m\u001b[0;34m\u001b[0m\u001b[0m\n\u001b[1;32m   1749\u001b[0m                 or _global_forward_hooks or _global_forward_pre_hooks):\n\u001b[0;32m-> 1750\u001b[0;31m             \u001b[0;32mreturn\u001b[0m \u001b[0mforward_call\u001b[0m\u001b[0;34m(\u001b[0m\u001b[0;34m*\u001b[0m\u001b[0margs\u001b[0m\u001b[0;34m,\u001b[0m \u001b[0;34m**\u001b[0m\u001b[0mkwargs\u001b[0m\u001b[0;34m)\u001b[0m\u001b[0;34m\u001b[0m\u001b[0;34m\u001b[0m\u001b[0m\n\u001b[0m\u001b[1;32m   1751\u001b[0m \u001b[0;34m\u001b[0m\u001b[0m\n\u001b[1;32m   1752\u001b[0m         \u001b[0mresult\u001b[0m \u001b[0;34m=\u001b[0m \u001b[0;32mNone\u001b[0m\u001b[0;34m\u001b[0m\u001b[0;34m\u001b[0m\u001b[0m\n",
            "\u001b[0;32m/usr/local/lib/python3.11/dist-packages/transformers/models/t5/modeling_t5.py\u001b[0m in \u001b[0;36mforward\u001b[0;34m(self, input_ids, attention_mask, decoder_input_ids, decoder_attention_mask, head_mask, decoder_head_mask, cross_attn_head_mask, encoder_outputs, past_key_values, inputs_embeds, decoder_inputs_embeds, labels, use_cache, output_attentions, output_hidden_states, return_dict, cache_position)\u001b[0m\n\u001b[1;32m   1889\u001b[0m \u001b[0;34m\u001b[0m\u001b[0m\n\u001b[1;32m   1890\u001b[0m         \u001b[0;31m# Decode\u001b[0m\u001b[0;34m\u001b[0m\u001b[0;34m\u001b[0m\u001b[0m\n\u001b[0;32m-> 1891\u001b[0;31m         decoder_outputs = self.decoder(\n\u001b[0m\u001b[1;32m   1892\u001b[0m             \u001b[0minput_ids\u001b[0m\u001b[0;34m=\u001b[0m\u001b[0mdecoder_input_ids\u001b[0m\u001b[0;34m,\u001b[0m\u001b[0;34m\u001b[0m\u001b[0;34m\u001b[0m\u001b[0m\n\u001b[1;32m   1893\u001b[0m             \u001b[0mattention_mask\u001b[0m\u001b[0;34m=\u001b[0m\u001b[0mdecoder_attention_mask\u001b[0m\u001b[0;34m,\u001b[0m\u001b[0;34m\u001b[0m\u001b[0;34m\u001b[0m\u001b[0m\n",
            "\u001b[0;32m/usr/local/lib/python3.11/dist-packages/torch/nn/modules/module.py\u001b[0m in \u001b[0;36m_wrapped_call_impl\u001b[0;34m(self, *args, **kwargs)\u001b[0m\n\u001b[1;32m   1737\u001b[0m             \u001b[0;32mreturn\u001b[0m \u001b[0mself\u001b[0m\u001b[0;34m.\u001b[0m\u001b[0m_compiled_call_impl\u001b[0m\u001b[0;34m(\u001b[0m\u001b[0;34m*\u001b[0m\u001b[0margs\u001b[0m\u001b[0;34m,\u001b[0m \u001b[0;34m**\u001b[0m\u001b[0mkwargs\u001b[0m\u001b[0;34m)\u001b[0m  \u001b[0;31m# type: ignore[misc]\u001b[0m\u001b[0;34m\u001b[0m\u001b[0;34m\u001b[0m\u001b[0m\n\u001b[1;32m   1738\u001b[0m         \u001b[0;32melse\u001b[0m\u001b[0;34m:\u001b[0m\u001b[0;34m\u001b[0m\u001b[0;34m\u001b[0m\u001b[0m\n\u001b[0;32m-> 1739\u001b[0;31m             \u001b[0;32mreturn\u001b[0m \u001b[0mself\u001b[0m\u001b[0;34m.\u001b[0m\u001b[0m_call_impl\u001b[0m\u001b[0;34m(\u001b[0m\u001b[0;34m*\u001b[0m\u001b[0margs\u001b[0m\u001b[0;34m,\u001b[0m \u001b[0;34m**\u001b[0m\u001b[0mkwargs\u001b[0m\u001b[0;34m)\u001b[0m\u001b[0;34m\u001b[0m\u001b[0;34m\u001b[0m\u001b[0m\n\u001b[0m\u001b[1;32m   1740\u001b[0m \u001b[0;34m\u001b[0m\u001b[0m\n\u001b[1;32m   1741\u001b[0m     \u001b[0;31m# torchrec tests the code consistency with the following code\u001b[0m\u001b[0;34m\u001b[0m\u001b[0;34m\u001b[0m\u001b[0m\n",
            "\u001b[0;32m/usr/local/lib/python3.11/dist-packages/torch/nn/modules/module.py\u001b[0m in \u001b[0;36m_call_impl\u001b[0;34m(self, *args, **kwargs)\u001b[0m\n\u001b[1;32m   1748\u001b[0m                 \u001b[0;32mor\u001b[0m \u001b[0m_global_backward_pre_hooks\u001b[0m \u001b[0;32mor\u001b[0m \u001b[0m_global_backward_hooks\u001b[0m\u001b[0;34m\u001b[0m\u001b[0;34m\u001b[0m\u001b[0m\n\u001b[1;32m   1749\u001b[0m                 or _global_forward_hooks or _global_forward_pre_hooks):\n\u001b[0;32m-> 1750\u001b[0;31m             \u001b[0;32mreturn\u001b[0m \u001b[0mforward_call\u001b[0m\u001b[0;34m(\u001b[0m\u001b[0;34m*\u001b[0m\u001b[0margs\u001b[0m\u001b[0;34m,\u001b[0m \u001b[0;34m**\u001b[0m\u001b[0mkwargs\u001b[0m\u001b[0;34m)\u001b[0m\u001b[0;34m\u001b[0m\u001b[0;34m\u001b[0m\u001b[0m\n\u001b[0m\u001b[1;32m   1751\u001b[0m \u001b[0;34m\u001b[0m\u001b[0m\n\u001b[1;32m   1752\u001b[0m         \u001b[0mresult\u001b[0m \u001b[0;34m=\u001b[0m \u001b[0;32mNone\u001b[0m\u001b[0;34m\u001b[0m\u001b[0;34m\u001b[0m\u001b[0m\n",
            "\u001b[0;32m/usr/local/lib/python3.11/dist-packages/transformers/models/t5/modeling_t5.py\u001b[0m in \u001b[0;36mforward\u001b[0;34m(self, input_ids, attention_mask, encoder_hidden_states, encoder_attention_mask, inputs_embeds, head_mask, cross_attn_head_mask, past_key_values, use_cache, output_attentions, output_hidden_states, return_dict, cache_position)\u001b[0m\n\u001b[1;32m   1122\u001b[0m                 )\n\u001b[1;32m   1123\u001b[0m             \u001b[0;32melse\u001b[0m\u001b[0;34m:\u001b[0m\u001b[0;34m\u001b[0m\u001b[0;34m\u001b[0m\u001b[0m\n\u001b[0;32m-> 1124\u001b[0;31m                 layer_outputs = layer_module(\n\u001b[0m\u001b[1;32m   1125\u001b[0m                     \u001b[0mhidden_states\u001b[0m\u001b[0;34m,\u001b[0m\u001b[0;34m\u001b[0m\u001b[0;34m\u001b[0m\u001b[0m\n\u001b[1;32m   1126\u001b[0m                     \u001b[0mattention_mask\u001b[0m\u001b[0;34m=\u001b[0m\u001b[0mcausal_mask\u001b[0m\u001b[0;34m,\u001b[0m\u001b[0;34m\u001b[0m\u001b[0;34m\u001b[0m\u001b[0m\n",
            "\u001b[0;32m/usr/local/lib/python3.11/dist-packages/torch/nn/modules/module.py\u001b[0m in \u001b[0;36m_wrapped_call_impl\u001b[0;34m(self, *args, **kwargs)\u001b[0m\n\u001b[1;32m   1737\u001b[0m             \u001b[0;32mreturn\u001b[0m \u001b[0mself\u001b[0m\u001b[0;34m.\u001b[0m\u001b[0m_compiled_call_impl\u001b[0m\u001b[0;34m(\u001b[0m\u001b[0;34m*\u001b[0m\u001b[0margs\u001b[0m\u001b[0;34m,\u001b[0m \u001b[0;34m**\u001b[0m\u001b[0mkwargs\u001b[0m\u001b[0;34m)\u001b[0m  \u001b[0;31m# type: ignore[misc]\u001b[0m\u001b[0;34m\u001b[0m\u001b[0;34m\u001b[0m\u001b[0m\n\u001b[1;32m   1738\u001b[0m         \u001b[0;32melse\u001b[0m\u001b[0;34m:\u001b[0m\u001b[0;34m\u001b[0m\u001b[0;34m\u001b[0m\u001b[0m\n\u001b[0;32m-> 1739\u001b[0;31m             \u001b[0;32mreturn\u001b[0m \u001b[0mself\u001b[0m\u001b[0;34m.\u001b[0m\u001b[0m_call_impl\u001b[0m\u001b[0;34m(\u001b[0m\u001b[0;34m*\u001b[0m\u001b[0margs\u001b[0m\u001b[0;34m,\u001b[0m \u001b[0;34m**\u001b[0m\u001b[0mkwargs\u001b[0m\u001b[0;34m)\u001b[0m\u001b[0;34m\u001b[0m\u001b[0;34m\u001b[0m\u001b[0m\n\u001b[0m\u001b[1;32m   1740\u001b[0m \u001b[0;34m\u001b[0m\u001b[0m\n\u001b[1;32m   1741\u001b[0m     \u001b[0;31m# torchrec tests the code consistency with the following code\u001b[0m\u001b[0;34m\u001b[0m\u001b[0;34m\u001b[0m\u001b[0m\n",
            "\u001b[0;32m/usr/local/lib/python3.11/dist-packages/torch/nn/modules/module.py\u001b[0m in \u001b[0;36m_call_impl\u001b[0;34m(self, *args, **kwargs)\u001b[0m\n\u001b[1;32m   1748\u001b[0m                 \u001b[0;32mor\u001b[0m \u001b[0m_global_backward_pre_hooks\u001b[0m \u001b[0;32mor\u001b[0m \u001b[0m_global_backward_hooks\u001b[0m\u001b[0;34m\u001b[0m\u001b[0;34m\u001b[0m\u001b[0m\n\u001b[1;32m   1749\u001b[0m                 or _global_forward_hooks or _global_forward_pre_hooks):\n\u001b[0;32m-> 1750\u001b[0;31m             \u001b[0;32mreturn\u001b[0m \u001b[0mforward_call\u001b[0m\u001b[0;34m(\u001b[0m\u001b[0;34m*\u001b[0m\u001b[0margs\u001b[0m\u001b[0;34m,\u001b[0m \u001b[0;34m**\u001b[0m\u001b[0mkwargs\u001b[0m\u001b[0;34m)\u001b[0m\u001b[0;34m\u001b[0m\u001b[0;34m\u001b[0m\u001b[0m\n\u001b[0m\u001b[1;32m   1751\u001b[0m \u001b[0;34m\u001b[0m\u001b[0m\n\u001b[1;32m   1752\u001b[0m         \u001b[0mresult\u001b[0m \u001b[0;34m=\u001b[0m \u001b[0;32mNone\u001b[0m\u001b[0;34m\u001b[0m\u001b[0;34m\u001b[0m\u001b[0m\n",
            "\u001b[0;32m/usr/local/lib/python3.11/dist-packages/transformers/models/t5/modeling_t5.py\u001b[0m in \u001b[0;36mforward\u001b[0;34m(self, hidden_states, attention_mask, position_bias, encoder_hidden_states, encoder_attention_mask, encoder_decoder_position_bias, layer_head_mask, cross_attn_layer_head_mask, past_key_value, use_cache, output_attentions, return_dict, cache_position)\u001b[0m\n\u001b[1;32m    697\u001b[0m         \u001b[0mdo_cross_attention\u001b[0m \u001b[0;34m=\u001b[0m \u001b[0mself\u001b[0m\u001b[0;34m.\u001b[0m\u001b[0mis_decoder\u001b[0m \u001b[0;32mand\u001b[0m \u001b[0mencoder_hidden_states\u001b[0m \u001b[0;32mis\u001b[0m \u001b[0;32mnot\u001b[0m \u001b[0;32mNone\u001b[0m\u001b[0;34m\u001b[0m\u001b[0;34m\u001b[0m\u001b[0m\n\u001b[1;32m    698\u001b[0m         \u001b[0;32mif\u001b[0m \u001b[0mdo_cross_attention\u001b[0m\u001b[0;34m:\u001b[0m\u001b[0;34m\u001b[0m\u001b[0;34m\u001b[0m\u001b[0m\n\u001b[0;32m--> 699\u001b[0;31m             cross_attention_outputs = self.layer[1](\n\u001b[0m\u001b[1;32m    700\u001b[0m                 \u001b[0mhidden_states\u001b[0m\u001b[0;34m,\u001b[0m\u001b[0;34m\u001b[0m\u001b[0;34m\u001b[0m\u001b[0m\n\u001b[1;32m    701\u001b[0m                 \u001b[0mkey_value_states\u001b[0m\u001b[0;34m=\u001b[0m\u001b[0mencoder_hidden_states\u001b[0m\u001b[0;34m,\u001b[0m\u001b[0;34m\u001b[0m\u001b[0;34m\u001b[0m\u001b[0m\n",
            "\u001b[0;32m/usr/local/lib/python3.11/dist-packages/torch/nn/modules/module.py\u001b[0m in \u001b[0;36m_wrapped_call_impl\u001b[0;34m(self, *args, **kwargs)\u001b[0m\n\u001b[1;32m   1737\u001b[0m             \u001b[0;32mreturn\u001b[0m \u001b[0mself\u001b[0m\u001b[0;34m.\u001b[0m\u001b[0m_compiled_call_impl\u001b[0m\u001b[0;34m(\u001b[0m\u001b[0;34m*\u001b[0m\u001b[0margs\u001b[0m\u001b[0;34m,\u001b[0m \u001b[0;34m**\u001b[0m\u001b[0mkwargs\u001b[0m\u001b[0;34m)\u001b[0m  \u001b[0;31m# type: ignore[misc]\u001b[0m\u001b[0;34m\u001b[0m\u001b[0;34m\u001b[0m\u001b[0m\n\u001b[1;32m   1738\u001b[0m         \u001b[0;32melse\u001b[0m\u001b[0;34m:\u001b[0m\u001b[0;34m\u001b[0m\u001b[0;34m\u001b[0m\u001b[0m\n\u001b[0;32m-> 1739\u001b[0;31m             \u001b[0;32mreturn\u001b[0m \u001b[0mself\u001b[0m\u001b[0;34m.\u001b[0m\u001b[0m_call_impl\u001b[0m\u001b[0;34m(\u001b[0m\u001b[0;34m*\u001b[0m\u001b[0margs\u001b[0m\u001b[0;34m,\u001b[0m \u001b[0;34m**\u001b[0m\u001b[0mkwargs\u001b[0m\u001b[0;34m)\u001b[0m\u001b[0;34m\u001b[0m\u001b[0;34m\u001b[0m\u001b[0m\n\u001b[0m\u001b[1;32m   1740\u001b[0m \u001b[0;34m\u001b[0m\u001b[0m\n\u001b[1;32m   1741\u001b[0m     \u001b[0;31m# torchrec tests the code consistency with the following code\u001b[0m\u001b[0;34m\u001b[0m\u001b[0;34m\u001b[0m\u001b[0m\n",
            "\u001b[0;32m/usr/local/lib/python3.11/dist-packages/torch/nn/modules/module.py\u001b[0m in \u001b[0;36m_call_impl\u001b[0;34m(self, *args, **kwargs)\u001b[0m\n\u001b[1;32m   1748\u001b[0m                 \u001b[0;32mor\u001b[0m \u001b[0m_global_backward_pre_hooks\u001b[0m \u001b[0;32mor\u001b[0m \u001b[0m_global_backward_hooks\u001b[0m\u001b[0;34m\u001b[0m\u001b[0;34m\u001b[0m\u001b[0m\n\u001b[1;32m   1749\u001b[0m                 or _global_forward_hooks or _global_forward_pre_hooks):\n\u001b[0;32m-> 1750\u001b[0;31m             \u001b[0;32mreturn\u001b[0m \u001b[0mforward_call\u001b[0m\u001b[0;34m(\u001b[0m\u001b[0;34m*\u001b[0m\u001b[0margs\u001b[0m\u001b[0;34m,\u001b[0m \u001b[0;34m**\u001b[0m\u001b[0mkwargs\u001b[0m\u001b[0;34m)\u001b[0m\u001b[0;34m\u001b[0m\u001b[0;34m\u001b[0m\u001b[0m\n\u001b[0m\u001b[1;32m   1751\u001b[0m \u001b[0;34m\u001b[0m\u001b[0m\n\u001b[1;32m   1752\u001b[0m         \u001b[0mresult\u001b[0m \u001b[0;34m=\u001b[0m \u001b[0;32mNone\u001b[0m\u001b[0;34m\u001b[0m\u001b[0;34m\u001b[0m\u001b[0m\n",
            "\u001b[0;32m/usr/local/lib/python3.11/dist-packages/transformers/models/t5/modeling_t5.py\u001b[0m in \u001b[0;36mforward\u001b[0;34m(self, hidden_states, key_value_states, attention_mask, position_bias, layer_head_mask, past_key_value, use_cache, query_length, output_attentions, cache_position)\u001b[0m\n\u001b[1;32m    627\u001b[0m     ):\n\u001b[1;32m    628\u001b[0m         \u001b[0mnormed_hidden_states\u001b[0m \u001b[0;34m=\u001b[0m \u001b[0mself\u001b[0m\u001b[0;34m.\u001b[0m\u001b[0mlayer_norm\u001b[0m\u001b[0;34m(\u001b[0m\u001b[0mhidden_states\u001b[0m\u001b[0;34m)\u001b[0m\u001b[0;34m\u001b[0m\u001b[0;34m\u001b[0m\u001b[0m\n\u001b[0;32m--> 629\u001b[0;31m         attention_output = self.EncDecAttention(\n\u001b[0m\u001b[1;32m    630\u001b[0m             \u001b[0mnormed_hidden_states\u001b[0m\u001b[0;34m,\u001b[0m\u001b[0;34m\u001b[0m\u001b[0;34m\u001b[0m\u001b[0m\n\u001b[1;32m    631\u001b[0m             \u001b[0mmask\u001b[0m\u001b[0;34m=\u001b[0m\u001b[0mattention_mask\u001b[0m\u001b[0;34m,\u001b[0m\u001b[0;34m\u001b[0m\u001b[0;34m\u001b[0m\u001b[0m\n",
            "\u001b[0;32m/usr/local/lib/python3.11/dist-packages/torch/nn/modules/module.py\u001b[0m in \u001b[0;36m_wrapped_call_impl\u001b[0;34m(self, *args, **kwargs)\u001b[0m\n\u001b[1;32m   1737\u001b[0m             \u001b[0;32mreturn\u001b[0m \u001b[0mself\u001b[0m\u001b[0;34m.\u001b[0m\u001b[0m_compiled_call_impl\u001b[0m\u001b[0;34m(\u001b[0m\u001b[0;34m*\u001b[0m\u001b[0margs\u001b[0m\u001b[0;34m,\u001b[0m \u001b[0;34m**\u001b[0m\u001b[0mkwargs\u001b[0m\u001b[0;34m)\u001b[0m  \u001b[0;31m# type: ignore[misc]\u001b[0m\u001b[0;34m\u001b[0m\u001b[0;34m\u001b[0m\u001b[0m\n\u001b[1;32m   1738\u001b[0m         \u001b[0;32melse\u001b[0m\u001b[0;34m:\u001b[0m\u001b[0;34m\u001b[0m\u001b[0;34m\u001b[0m\u001b[0m\n\u001b[0;32m-> 1739\u001b[0;31m             \u001b[0;32mreturn\u001b[0m \u001b[0mself\u001b[0m\u001b[0;34m.\u001b[0m\u001b[0m_call_impl\u001b[0m\u001b[0;34m(\u001b[0m\u001b[0;34m*\u001b[0m\u001b[0margs\u001b[0m\u001b[0;34m,\u001b[0m \u001b[0;34m**\u001b[0m\u001b[0mkwargs\u001b[0m\u001b[0;34m)\u001b[0m\u001b[0;34m\u001b[0m\u001b[0;34m\u001b[0m\u001b[0m\n\u001b[0m\u001b[1;32m   1740\u001b[0m \u001b[0;34m\u001b[0m\u001b[0m\n\u001b[1;32m   1741\u001b[0m     \u001b[0;31m# torchrec tests the code consistency with the following code\u001b[0m\u001b[0;34m\u001b[0m\u001b[0;34m\u001b[0m\u001b[0m\n",
            "\u001b[0;32m/usr/local/lib/python3.11/dist-packages/torch/nn/modules/module.py\u001b[0m in \u001b[0;36m_call_impl\u001b[0;34m(self, *args, **kwargs)\u001b[0m\n\u001b[1;32m   1748\u001b[0m                 \u001b[0;32mor\u001b[0m \u001b[0m_global_backward_pre_hooks\u001b[0m \u001b[0;32mor\u001b[0m \u001b[0m_global_backward_hooks\u001b[0m\u001b[0;34m\u001b[0m\u001b[0;34m\u001b[0m\u001b[0m\n\u001b[1;32m   1749\u001b[0m                 or _global_forward_hooks or _global_forward_pre_hooks):\n\u001b[0;32m-> 1750\u001b[0;31m             \u001b[0;32mreturn\u001b[0m \u001b[0mforward_call\u001b[0m\u001b[0;34m(\u001b[0m\u001b[0;34m*\u001b[0m\u001b[0margs\u001b[0m\u001b[0;34m,\u001b[0m \u001b[0;34m**\u001b[0m\u001b[0mkwargs\u001b[0m\u001b[0;34m)\u001b[0m\u001b[0;34m\u001b[0m\u001b[0;34m\u001b[0m\u001b[0m\n\u001b[0m\u001b[1;32m   1751\u001b[0m \u001b[0;34m\u001b[0m\u001b[0m\n\u001b[1;32m   1752\u001b[0m         \u001b[0mresult\u001b[0m \u001b[0;34m=\u001b[0m \u001b[0;32mNone\u001b[0m\u001b[0;34m\u001b[0m\u001b[0;34m\u001b[0m\u001b[0m\n",
            "\u001b[0;32m/usr/local/lib/python3.11/dist-packages/transformers/models/t5/modeling_t5.py\u001b[0m in \u001b[0;36mforward\u001b[0;34m(self, hidden_states, mask, key_value_states, position_bias, past_key_value, layer_head_mask, query_length, use_cache, output_attentions, cache_position)\u001b[0m\n\u001b[1;32m    485\u001b[0m         \u001b[0mis_cross_attention\u001b[0m \u001b[0;34m=\u001b[0m \u001b[0mkey_value_states\u001b[0m \u001b[0;32mis\u001b[0m \u001b[0;32mnot\u001b[0m \u001b[0;32mNone\u001b[0m\u001b[0;34m\u001b[0m\u001b[0;34m\u001b[0m\u001b[0m\n\u001b[1;32m    486\u001b[0m \u001b[0;34m\u001b[0m\u001b[0m\n\u001b[0;32m--> 487\u001b[0;31m         \u001b[0mquery_states\u001b[0m \u001b[0;34m=\u001b[0m \u001b[0mself\u001b[0m\u001b[0;34m.\u001b[0m\u001b[0mq\u001b[0m\u001b[0;34m(\u001b[0m\u001b[0mhidden_states\u001b[0m\u001b[0;34m)\u001b[0m\u001b[0;34m\u001b[0m\u001b[0;34m\u001b[0m\u001b[0m\n\u001b[0m\u001b[1;32m    488\u001b[0m         \u001b[0mquery_states\u001b[0m \u001b[0;34m=\u001b[0m \u001b[0mquery_states\u001b[0m\u001b[0;34m.\u001b[0m\u001b[0mview\u001b[0m\u001b[0;34m(\u001b[0m\u001b[0mbatch_size\u001b[0m\u001b[0;34m,\u001b[0m \u001b[0;34m-\u001b[0m\u001b[0;36m1\u001b[0m\u001b[0;34m,\u001b[0m \u001b[0mself\u001b[0m\u001b[0;34m.\u001b[0m\u001b[0mn_heads\u001b[0m\u001b[0;34m,\u001b[0m \u001b[0mself\u001b[0m\u001b[0;34m.\u001b[0m\u001b[0mkey_value_proj_dim\u001b[0m\u001b[0;34m)\u001b[0m\u001b[0;34m.\u001b[0m\u001b[0mtranspose\u001b[0m\u001b[0;34m(\u001b[0m\u001b[0;36m1\u001b[0m\u001b[0;34m,\u001b[0m \u001b[0;36m2\u001b[0m\u001b[0;34m)\u001b[0m\u001b[0;34m\u001b[0m\u001b[0;34m\u001b[0m\u001b[0m\n\u001b[1;32m    489\u001b[0m \u001b[0;34m\u001b[0m\u001b[0m\n",
            "\u001b[0;32m/usr/local/lib/python3.11/dist-packages/torch/nn/modules/module.py\u001b[0m in \u001b[0;36m_wrapped_call_impl\u001b[0;34m(self, *args, **kwargs)\u001b[0m\n\u001b[1;32m   1737\u001b[0m             \u001b[0;32mreturn\u001b[0m \u001b[0mself\u001b[0m\u001b[0;34m.\u001b[0m\u001b[0m_compiled_call_impl\u001b[0m\u001b[0;34m(\u001b[0m\u001b[0;34m*\u001b[0m\u001b[0margs\u001b[0m\u001b[0;34m,\u001b[0m \u001b[0;34m**\u001b[0m\u001b[0mkwargs\u001b[0m\u001b[0;34m)\u001b[0m  \u001b[0;31m# type: ignore[misc]\u001b[0m\u001b[0;34m\u001b[0m\u001b[0;34m\u001b[0m\u001b[0m\n\u001b[1;32m   1738\u001b[0m         \u001b[0;32melse\u001b[0m\u001b[0;34m:\u001b[0m\u001b[0;34m\u001b[0m\u001b[0;34m\u001b[0m\u001b[0m\n\u001b[0;32m-> 1739\u001b[0;31m             \u001b[0;32mreturn\u001b[0m \u001b[0mself\u001b[0m\u001b[0;34m.\u001b[0m\u001b[0m_call_impl\u001b[0m\u001b[0;34m(\u001b[0m\u001b[0;34m*\u001b[0m\u001b[0margs\u001b[0m\u001b[0;34m,\u001b[0m \u001b[0;34m**\u001b[0m\u001b[0mkwargs\u001b[0m\u001b[0;34m)\u001b[0m\u001b[0;34m\u001b[0m\u001b[0;34m\u001b[0m\u001b[0m\n\u001b[0m\u001b[1;32m   1740\u001b[0m \u001b[0;34m\u001b[0m\u001b[0m\n\u001b[1;32m   1741\u001b[0m     \u001b[0;31m# torchrec tests the code consistency with the following code\u001b[0m\u001b[0;34m\u001b[0m\u001b[0;34m\u001b[0m\u001b[0m\n",
            "\u001b[0;32m/usr/local/lib/python3.11/dist-packages/torch/nn/modules/module.py\u001b[0m in \u001b[0;36m_call_impl\u001b[0;34m(self, *args, **kwargs)\u001b[0m\n\u001b[1;32m   1748\u001b[0m                 \u001b[0;32mor\u001b[0m \u001b[0m_global_backward_pre_hooks\u001b[0m \u001b[0;32mor\u001b[0m \u001b[0m_global_backward_hooks\u001b[0m\u001b[0;34m\u001b[0m\u001b[0;34m\u001b[0m\u001b[0m\n\u001b[1;32m   1749\u001b[0m                 or _global_forward_hooks or _global_forward_pre_hooks):\n\u001b[0;32m-> 1750\u001b[0;31m             \u001b[0;32mreturn\u001b[0m \u001b[0mforward_call\u001b[0m\u001b[0;34m(\u001b[0m\u001b[0;34m*\u001b[0m\u001b[0margs\u001b[0m\u001b[0;34m,\u001b[0m \u001b[0;34m**\u001b[0m\u001b[0mkwargs\u001b[0m\u001b[0;34m)\u001b[0m\u001b[0;34m\u001b[0m\u001b[0;34m\u001b[0m\u001b[0m\n\u001b[0m\u001b[1;32m   1751\u001b[0m \u001b[0;34m\u001b[0m\u001b[0m\n\u001b[1;32m   1752\u001b[0m         \u001b[0mresult\u001b[0m \u001b[0;34m=\u001b[0m \u001b[0;32mNone\u001b[0m\u001b[0;34m\u001b[0m\u001b[0;34m\u001b[0m\u001b[0m\n",
            "\u001b[0;32m/usr/local/lib/python3.11/dist-packages/torch/nn/modules/linear.py\u001b[0m in \u001b[0;36mforward\u001b[0;34m(self, input)\u001b[0m\n\u001b[1;32m    123\u001b[0m \u001b[0;34m\u001b[0m\u001b[0m\n\u001b[1;32m    124\u001b[0m     \u001b[0;32mdef\u001b[0m \u001b[0mforward\u001b[0m\u001b[0;34m(\u001b[0m\u001b[0mself\u001b[0m\u001b[0;34m,\u001b[0m \u001b[0minput\u001b[0m\u001b[0;34m:\u001b[0m \u001b[0mTensor\u001b[0m\u001b[0;34m)\u001b[0m \u001b[0;34m->\u001b[0m \u001b[0mTensor\u001b[0m\u001b[0;34m:\u001b[0m\u001b[0;34m\u001b[0m\u001b[0;34m\u001b[0m\u001b[0m\n\u001b[0;32m--> 125\u001b[0;31m         \u001b[0;32mreturn\u001b[0m \u001b[0mF\u001b[0m\u001b[0;34m.\u001b[0m\u001b[0mlinear\u001b[0m\u001b[0;34m(\u001b[0m\u001b[0minput\u001b[0m\u001b[0;34m,\u001b[0m \u001b[0mself\u001b[0m\u001b[0;34m.\u001b[0m\u001b[0mweight\u001b[0m\u001b[0;34m,\u001b[0m \u001b[0mself\u001b[0m\u001b[0;34m.\u001b[0m\u001b[0mbias\u001b[0m\u001b[0;34m)\u001b[0m\u001b[0;34m\u001b[0m\u001b[0;34m\u001b[0m\u001b[0m\n\u001b[0m\u001b[1;32m    126\u001b[0m \u001b[0;34m\u001b[0m\u001b[0m\n\u001b[1;32m    127\u001b[0m     \u001b[0;32mdef\u001b[0m \u001b[0mextra_repr\u001b[0m\u001b[0;34m(\u001b[0m\u001b[0mself\u001b[0m\u001b[0;34m)\u001b[0m \u001b[0;34m->\u001b[0m \u001b[0mstr\u001b[0m\u001b[0;34m:\u001b[0m\u001b[0;34m\u001b[0m\u001b[0;34m\u001b[0m\u001b[0m\n",
            "\u001b[0;31mKeyboardInterrupt\u001b[0m: "
          ]
        }
      ],
      "source": [
        "input_path = '19470802_1.txt'\n",
        "\n",
        "with open(input_path, 'r', encoding='utf-8', errors='ignore') as f:\n",
        "            raw_text = f.read()\n",
        "\n",
        "cleaned_text = [correct_with_opensource(chunk) for chunk in chunk_text(raw_text)]  # Open-source version\n",
        "\n",
        "# if len(cleaned_text.split()) > 750:  # Only summarize long articles\n",
        "#     summary = summarize_text(cleaned_text)\n",
        "# else:\n",
        "#     summary = cleaned_text\n",
        "\n",
        "# # 3. Translate\n",
        "# translated = translator(summary, max_length=600)[0]['translation_text']\n",
        "\n",
        "print(cleaned_text)\n"
      ]
    },
    {
      "cell_type": "code",
      "execution_count": 40,
      "metadata": {
        "colab": {
          "base_uri": "https://localhost:8080/",
          "height": 1000
        },
        "id": "CdmujAQErH0B",
        "outputId": "32227c21-f965-4d5d-cc23-eae05c83d70b"
      },
      "outputs": [
        {
          "name": "stdout",
          "output_type": "stream",
          "text": [
            "elmundo_chunked_es_page1_40years/19200103_1.txt extracted\n",
            "elmundo_chunked_es_page1_40years/19200110_1.txt extracted\n",
            "elmundo_chunked_es_page1_40years/19200117_1.txt extracted\n",
            "elmundo_chunked_es_page1_40years/19200124_1.txt extracted\n",
            "elmundo_chunked_es_page1_40years/19200131_1.txt extracted\n",
            "elmundo_chunked_es_page1_40years/19200207_1.txt extracted\n",
            "elmundo_chunked_es_page1_40years/19200214_1.txt extracted\n",
            "elmundo_chunked_es_page1_40years/19200221_1.txt extracted\n",
            "elmundo_chunked_es_page1_40years/19200228_1.txt extracted\n",
            "elmundo_chunked_es_page1_40years/19200306_1.txt extracted\n",
            "elmundo_chunked_es_page1_40years/19200313_1.txt extracted\n",
            "elmundo_chunked_es_page1_40years/19200327_1.txt extracted\n",
            "elmundo_chunked_es_page1_40years/19200403_1.txt extracted\n",
            "elmundo_chunked_es_page1_40years/19200410_1.txt extracted\n",
            "elmundo_chunked_es_page1_40years/19200417_1.txt extracted\n",
            "elmundo_chunked_es_page1_40years/19200424_1.txt extracted\n",
            "elmundo_chunked_es_page1_40years/19200501_1.txt extracted\n",
            "elmundo_chunked_es_page1_40years/19200508_1.txt extracted\n",
            "elmundo_chunked_es_page1_40years/19200522_1.txt extracted\n",
            "elmundo_chunked_es_page1_40years/19200529_1.txt extracted\n",
            "elmundo_chunked_es_page1_40years/19200605_1.txt extracted\n",
            "elmundo_chunked_es_page1_40years/19200612_1.txt extracted\n",
            "elmundo_chunked_es_page1_40years/19200619_1.txt extracted\n",
            "elmundo_chunked_es_page1_40years/19200626_1.txt extracted\n",
            "elmundo_chunked_es_page1_40years/19200703_1.txt extracted\n",
            "elmundo_chunked_es_page1_40years/19200710_1.txt extracted\n",
            "elmundo_chunked_es_page1_40years/19200717_1.txt extracted\n",
            "elmundo_chunked_es_page1_40years/19200724_1.txt extracted\n",
            "elmundo_chunked_es_page1_40years/19200731_1.txt extracted\n",
            "elmundo_chunked_es_page1_40years/19200807_1.txt extracted\n",
            "elmundo_chunked_es_page1_40years/19200814_1.txt extracted\n",
            "elmundo_chunked_es_page1_40years/19200821_1.txt extracted\n",
            "elmundo_chunked_es_page1_40years/19200828_1.txt extracted\n",
            "elmundo_chunked_es_page1_40years/19200904_1.txt extracted\n",
            "elmundo_chunked_es_page1_40years/19200911_1.txt extracted\n",
            "elmundo_chunked_es_page1_40years/19200918_1.txt extracted\n",
            "elmundo_chunked_es_page1_40years/19200925_1.txt extracted\n",
            "elmundo_chunked_es_page1_40years/19201002_1.txt extracted\n",
            "elmundo_chunked_es_page1_40years/19201009_1.txt extracted\n",
            "elmundo_chunked_es_page1_40years/19201016_1.txt extracted\n",
            "elmundo_chunked_es_page1_40years/19201023_1.txt extracted\n",
            "elmundo_chunked_es_page1_40years/19201030_1.txt extracted\n",
            "elmundo_chunked_es_page1_40years/19201106_1.txt extracted\n",
            "elmundo_chunked_es_page1_40years/19201113_1.txt extracted\n",
            "elmundo_chunked_es_page1_40years/19201120_1.txt extracted\n",
            "elmundo_chunked_es_page1_40years/19201204_1.txt extracted\n",
            "elmundo_chunked_es_page1_40years/19201211_1.txt extracted\n",
            "elmundo_chunked_es_page1_40years/19201218_1.txt extracted\n",
            "elmundo_chunked_es_page1_40years/19210108_1.txt extracted\n",
            "elmundo_chunked_es_page1_40years/19210115_1.txt extracted\n",
            "elmundo_chunked_es_page1_40years/19210122_1.txt extracted\n",
            "elmundo_chunked_es_page1_40years/19210129_1.txt extracted\n",
            "elmundo_chunked_es_page1_40years/19210205_1.txt extracted\n",
            "elmundo_chunked_es_page1_40years/19210212_1.txt extracted\n",
            "elmundo_chunked_es_page1_40years/19210219_1.txt extracted\n",
            "elmundo_chunked_es_page1_40years/19210226_1.txt extracted\n",
            "elmundo_chunked_es_page1_40years/19210305_1.txt extracted\n",
            "elmundo_chunked_es_page1_40years/19210312_1.txt extracted\n",
            "elmundo_chunked_es_page1_40years/19210319_1.txt extracted\n",
            "elmundo_chunked_es_page1_40years/19210326_1.txt extracted\n",
            "elmundo_chunked_es_page1_40years/19210402_1.txt extracted\n",
            "elmundo_chunked_es_page1_40years/19210409_1.txt extracted\n",
            "elmundo_chunked_es_page1_40years/19210416_1.txt extracted\n",
            "elmundo_chunked_es_page1_40years/19210423_1.txt extracted\n",
            "elmundo_chunked_es_page1_40years/19210430_1.txt extracted\n",
            "elmundo_chunked_es_page1_40years/19210507_1.txt extracted\n",
            "elmundo_chunked_es_page1_40years/19210521_1.txt extracted\n",
            "elmundo_chunked_es_page1_40years/19210528_1.txt extracted\n",
            "elmundo_chunked_es_page1_40years/19210604_1.txt extracted\n",
            "elmundo_chunked_es_page1_40years/19210611_1.txt extracted\n",
            "elmundo_chunked_es_page1_40years/19210618_1.txt extracted\n",
            "elmundo_chunked_es_page1_40years/19210625_1.txt extracted\n",
            "elmundo_chunked_es_page1_40years/19210702_1.txt extracted\n",
            "elmundo_chunked_es_page1_40years/19210709_1.txt extracted\n",
            "elmundo_chunked_es_page1_40years/19210716_1.txt extracted\n",
            "elmundo_chunked_es_page1_40years/19210723_1.txt extracted\n",
            "elmundo_chunked_es_page1_40years/19210730_1.txt extracted\n",
            "elmundo_chunked_es_page1_40years/19210806_1.txt extracted\n",
            "elmundo_chunked_es_page1_40years/19210813_1.txt extracted\n",
            "elmundo_chunked_es_page1_40years/19210820_1.txt extracted\n",
            "elmundo_chunked_es_page1_40years/19210827_1.txt extracted\n",
            "elmundo_chunked_es_page1_40years/19210903_1.txt extracted\n",
            "elmundo_chunked_es_page1_40years/19210910_1.txt extracted\n",
            "elmundo_chunked_es_page1_40years/19210917_1.txt extracted\n",
            "elmundo_chunked_es_page1_40years/19210924_1.txt extracted\n",
            "elmundo_chunked_es_page1_40years/19211001_1.txt extracted\n",
            "elmundo_chunked_es_page1_40years/19211008_1.txt extracted\n",
            "elmundo_chunked_es_page1_40years/19211015_1.txt extracted\n",
            "elmundo_chunked_es_page1_40years/19211022_1.txt extracted\n",
            "elmundo_chunked_es_page1_40years/19211029_1.txt extracted\n",
            "elmundo_chunked_es_page1_40years/19211105_1.txt extracted\n",
            "elmundo_chunked_es_page1_40years/19211112_1.txt extracted\n",
            "elmundo_chunked_es_page1_40years/19211119_1.txt extracted\n",
            "elmundo_chunked_es_page1_40years/19211126_1.txt extracted\n",
            "elmundo_chunked_es_page1_40years/19211203_1.txt extracted\n",
            "elmundo_chunked_es_page1_40years/19211210_1.txt extracted\n",
            "elmundo_chunked_es_page1_40years/19211217_1.txt extracted\n",
            "elmundo_chunked_es_page1_40years/19211224_1.txt extracted\n",
            "elmundo_chunked_es_page1_40years/19211231_1.txt extracted\n",
            "elmundo_chunked_es_page1_40years/19220107_1.txt extracted\n",
            "elmundo_chunked_es_page1_40years/19220114_1.txt extracted\n",
            "elmundo_chunked_es_page1_40years/19220121_1.txt extracted\n",
            "elmundo_chunked_es_page1_40years/19220128_1.txt extracted\n",
            "elmundo_chunked_es_page1_40years/19220204_1.txt extracted\n",
            "elmundo_chunked_es_page1_40years/19220211_1.txt extracted\n",
            "elmundo_chunked_es_page1_40years/19220218_1.txt extracted\n",
            "elmundo_chunked_es_page1_40years/19220225_1.txt extracted\n",
            "elmundo_chunked_es_page1_40years/19220304_1.txt extracted\n",
            "elmundo_chunked_es_page1_40years/19220311_1.txt extracted\n",
            "elmundo_chunked_es_page1_40years/19220318_1.txt extracted\n",
            "elmundo_chunked_es_page1_40years/19220325_1.txt extracted\n",
            "elmundo_chunked_es_page1_40years/19220401_1.txt extracted\n",
            "elmundo_chunked_es_page1_40years/19220408_1.txt extracted\n",
            "elmundo_chunked_es_page1_40years/19220415_1.txt extracted\n",
            "elmundo_chunked_es_page1_40years/19220422_1.txt extracted\n",
            "elmundo_chunked_es_page1_40years/19220429_1.txt extracted\n",
            "elmundo_chunked_es_page1_40years/19220506_1.txt extracted\n",
            "elmundo_chunked_es_page1_40years/19220513_1.txt extracted\n",
            "elmundo_chunked_es_page1_40years/19220520_1.txt extracted\n",
            "elmundo_chunked_es_page1_40years/19220527_1.txt extracted\n",
            "elmundo_chunked_es_page1_40years/19220603_1.txt extracted\n",
            "elmundo_chunked_es_page1_40years/19220610_1.txt extracted\n",
            "elmundo_chunked_es_page1_40years/19220617_1.txt extracted\n",
            "elmundo_chunked_es_page1_40years/19220624_1.txt extracted\n",
            "elmundo_chunked_es_page1_40years/19220701_1.txt extracted\n",
            "elmundo_chunked_es_page1_40years/19220708_1.txt extracted\n",
            "elmundo_chunked_es_page1_40years/19220715_1.txt extracted\n",
            "elmundo_chunked_es_page1_40years/19220722_1.txt extracted\n",
            "elmundo_chunked_es_page1_40years/19220729_1.txt extracted\n",
            "elmundo_chunked_es_page1_40years/19220805_1.txt extracted\n",
            "elmundo_chunked_es_page1_40years/19220812_1.txt extracted\n",
            "elmundo_chunked_es_page1_40years/19220819_1.txt extracted\n",
            "elmundo_chunked_es_page1_40years/19220826_1.txt extracted\n",
            "elmundo_chunked_es_page1_40years/19220902_1.txt extracted\n",
            "elmundo_chunked_es_page1_40years/19220909_1.txt extracted\n",
            "elmundo_chunked_es_page1_40years/19220916_1.txt extracted\n",
            "elmundo_chunked_es_page1_40years/19220923_1.txt extracted\n",
            "elmundo_chunked_es_page1_40years/19220930_1.txt extracted\n",
            "elmundo_chunked_es_page1_40years/19221007_1.txt extracted\n",
            "elmundo_chunked_es_page1_40years/19221014_1.txt extracted\n",
            "elmundo_chunked_es_page1_40years/19221021_1.txt extracted\n",
            "elmundo_chunked_es_page1_40years/19221028_1.txt extracted\n",
            "elmundo_chunked_es_page1_40years/19221104_1.txt extracted\n",
            "elmundo_chunked_es_page1_40years/19221111_1.txt extracted\n",
            "elmundo_chunked_es_page1_40years/19221118_1.txt extracted\n",
            "elmundo_chunked_es_page1_40years/19221125_1.txt extracted\n",
            "elmundo_chunked_es_page1_40years/19221202_1.txt extracted\n",
            "elmundo_chunked_es_page1_40years/19221209_1.txt extracted\n",
            "elmundo_chunked_es_page1_40years/19221216_1.txt extracted\n",
            "elmundo_chunked_es_page1_40years/19221223_1.txt extracted\n",
            "elmundo_chunked_es_page1_40years/19221230_1.txt extracted\n",
            "elmundo_chunked_es_page1_40years/19230106_1.txt extracted\n",
            "elmundo_chunked_es_page1_40years/19230113_1.txt extracted\n",
            "elmundo_chunked_es_page1_40years/19230120_1.txt extracted\n",
            "elmundo_chunked_es_page1_40years/19230127_1.txt extracted\n",
            "elmundo_chunked_es_page1_40years/19230203_1.txt extracted\n",
            "elmundo_chunked_es_page1_40years/19230210_1.txt extracted\n",
            "elmundo_chunked_es_page1_40years/19230217_1.txt extracted\n",
            "elmundo_chunked_es_page1_40years/19230224_1.txt extracted\n",
            "elmundo_chunked_es_page1_40years/19230303_1.txt extracted\n",
            "elmundo_chunked_es_page1_40years/19230310_1.txt extracted\n",
            "elmundo_chunked_es_page1_40years/19230317_1.txt extracted\n",
            "elmundo_chunked_es_page1_40years/19230324_1.txt extracted\n",
            "elmundo_chunked_es_page1_40years/19230331_1.txt extracted\n",
            "elmundo_chunked_es_page1_40years/19230407_1.txt extracted\n",
            "elmundo_chunked_es_page1_40years/19230414_1.txt extracted\n",
            "elmundo_chunked_es_page1_40years/19230421_1.txt extracted\n",
            "elmundo_chunked_es_page1_40years/19230428_1.txt extracted\n",
            "elmundo_chunked_es_page1_40years/19230505_1.txt extracted\n",
            "elmundo_chunked_es_page1_40years/19230512_1.txt extracted\n",
            "elmundo_chunked_es_page1_40years/19230519_1.txt extracted\n",
            "elmundo_chunked_es_page1_40years/19230526_1.txt extracted\n",
            "elmundo_chunked_es_page1_40years/19230602_1.txt extracted\n",
            "elmundo_chunked_es_page1_40years/19230609_1.txt extracted\n",
            "elmundo_chunked_es_page1_40years/19230616_1.txt extracted\n",
            "elmundo_chunked_es_page1_40years/19230623_1.txt extracted\n",
            "elmundo_chunked_es_page1_40years/19230630_1.txt extracted\n",
            "elmundo_chunked_es_page1_40years/19230707_1.txt extracted\n",
            "elmundo_chunked_es_page1_40years/19230714_1.txt extracted\n",
            "elmundo_chunked_es_page1_40years/19230721_1.txt extracted\n",
            "elmundo_chunked_es_page1_40years/19230728_1.txt extracted\n",
            "elmundo_chunked_es_page1_40years/19230804_1.txt extracted\n",
            "elmundo_chunked_es_page1_40years/19230811_1.txt extracted\n",
            "elmundo_chunked_es_page1_40years/19230818_1.txt extracted\n",
            "elmundo_chunked_es_page1_40years/19230825_1.txt extracted\n",
            "elmundo_chunked_es_page1_40years/19230901_1.txt extracted\n",
            "elmundo_chunked_es_page1_40years/19230908_1.txt extracted\n",
            "elmundo_chunked_es_page1_40years/19230915_1.txt extracted\n",
            "elmundo_chunked_es_page1_40years/19230922_1.txt extracted\n",
            "elmundo_chunked_es_page1_40years/19230929_1.txt extracted\n",
            "elmundo_chunked_es_page1_40years/19231006_1.txt extracted\n",
            "elmundo_chunked_es_page1_40years/19231013_1.txt extracted\n",
            "elmundo_chunked_es_page1_40years/19231020_1.txt extracted\n",
            "elmundo_chunked_es_page1_40years/19231027_1.txt extracted\n",
            "elmundo_chunked_es_page1_40years/19231103_1.txt extracted\n",
            "elmundo_chunked_es_page1_40years/19231110_1.txt extracted\n",
            "elmundo_chunked_es_page1_40years/19231117_1.txt extracted\n",
            "elmundo_chunked_es_page1_40years/19231124_1.txt extracted\n",
            "elmundo_chunked_es_page1_40years/19231201_1.txt extracted\n",
            "elmundo_chunked_es_page1_40years/19231208_1.txt extracted\n",
            "elmundo_chunked_es_page1_40years/19231215_1.txt extracted\n",
            "elmundo_chunked_es_page1_40years/19231222_1.txt extracted\n",
            "elmundo_chunked_es_page1_40years/19231229_1.txt extracted\n",
            "elmundo_chunked_es_page1_40years/19240105_1.txt extracted\n",
            "elmundo_chunked_es_page1_40years/19240112_1.txt extracted\n",
            "elmundo_chunked_es_page1_40years/19240119_1.txt extracted\n",
            "elmundo_chunked_es_page1_40years/19240126_1.txt extracted\n",
            "elmundo_chunked_es_page1_40years/19240202_1.txt extracted\n",
            "elmundo_chunked_es_page1_40years/19240209_1.txt extracted\n",
            "elmundo_chunked_es_page1_40years/19240216_1.txt extracted\n",
            "elmundo_chunked_es_page1_40years/19240223_1.txt extracted\n",
            "elmundo_chunked_es_page1_40years/19240301_1.txt extracted\n",
            "elmundo_chunked_es_page1_40years/19240308_1.txt extracted\n",
            "elmundo_chunked_es_page1_40years/19240315_1.txt extracted\n",
            "elmundo_chunked_es_page1_40years/19240322_1.txt extracted\n",
            "elmundo_chunked_es_page1_40years/19240329_1.txt extracted\n",
            "elmundo_chunked_es_page1_40years/19240405_1.txt extracted\n",
            "elmundo_chunked_es_page1_40years/19240412_1.txt extracted\n",
            "elmundo_chunked_es_page1_40years/19240419_1.txt extracted\n",
            "elmundo_chunked_es_page1_40years/19240426_1.txt extracted\n",
            "elmundo_chunked_es_page1_40years/19240503_1.txt extracted\n",
            "elmundo_chunked_es_page1_40years/19240510_1.txt extracted\n",
            "elmundo_chunked_es_page1_40years/19240517_1.txt extracted\n",
            "elmundo_chunked_es_page1_40years/19240524_1.txt extracted\n",
            "elmundo_chunked_es_page1_40years/19240531_1.txt extracted\n",
            "elmundo_chunked_es_page1_40years/19240607_1.txt extracted\n",
            "elmundo_chunked_es_page1_40years/19240614_1.txt extracted\n",
            "elmundo_chunked_es_page1_40years/19240621_1.txt extracted\n",
            "elmundo_chunked_es_page1_40years/19240628_1.txt extracted\n",
            "elmundo_chunked_es_page1_40years/19240705_1.txt extracted\n",
            "elmundo_chunked_es_page1_40years/19240712_1.txt extracted\n",
            "elmundo_chunked_es_page1_40years/19240719_1.txt extracted\n",
            "elmundo_chunked_es_page1_40years/19240726_1.txt extracted\n",
            "elmundo_chunked_es_page1_40years/19240802_1.txt extracted\n",
            "elmundo_chunked_es_page1_40years/19240809_1.txt extracted\n",
            "elmundo_chunked_es_page1_40years/19240816_1.txt extracted\n",
            "elmundo_chunked_es_page1_40years/19240823_1.txt extracted\n",
            "elmundo_chunked_es_page1_40years/19240830_1.txt extracted\n",
            "elmundo_chunked_es_page1_40years/19240906_1.txt extracted\n",
            "elmundo_chunked_es_page1_40years/19240913_1.txt extracted\n",
            "elmundo_chunked_es_page1_40years/19240920_1.txt extracted\n",
            "elmundo_chunked_es_page1_40years/19240927_1.txt extracted\n",
            "elmundo_chunked_es_page1_40years/19241004_1.txt extracted\n",
            "elmundo_chunked_es_page1_40years/19241011_1.txt extracted\n",
            "elmundo_chunked_es_page1_40years/19241018_1.txt extracted\n",
            "elmundo_chunked_es_page1_40years/19241025_1.txt extracted\n",
            "elmundo_chunked_es_page1_40years/19241101_1.txt extracted\n",
            "elmundo_chunked_es_page1_40years/19241108_1.txt extracted\n",
            "elmundo_chunked_es_page1_40years/19241115_1.txt extracted\n",
            "elmundo_chunked_es_page1_40years/19241122_1.txt extracted\n",
            "elmundo_chunked_es_page1_40years/19241129_1.txt extracted\n",
            "elmundo_chunked_es_page1_40years/19241206_1.txt extracted\n",
            "elmundo_chunked_es_page1_40years/19241213_1.txt extracted\n",
            "elmundo_chunked_es_page1_40years/19241220_1.txt extracted\n",
            "elmundo_chunked_es_page1_40years/19241227_1.txt extracted\n",
            "elmundo_chunked_es_page1_40years/19250103_1.txt extracted\n",
            "elmundo_chunked_es_page1_40years/19250110_1.txt extracted\n",
            "elmundo_chunked_es_page1_40years/19250117_1.txt extracted\n",
            "elmundo_chunked_es_page1_40years/19250124_1.txt extracted\n",
            "elmundo_chunked_es_page1_40years/19250131_1.txt extracted\n",
            "elmundo_chunked_es_page1_40years/19250207_1.txt extracted\n",
            "elmundo_chunked_es_page1_40years/19250214_1.txt extracted\n",
            "elmundo_chunked_es_page1_40years/19250221_1.txt extracted\n",
            "elmundo_chunked_es_page1_40years/19250228_1.txt extracted\n",
            "elmundo_chunked_es_page1_40years/19250307_1.txt extracted\n",
            "elmundo_chunked_es_page1_40years/19250314_1.txt extracted\n",
            "elmundo_chunked_es_page1_40years/19250321_1.txt extracted\n",
            "elmundo_chunked_es_page1_40years/19250328_1.txt extracted\n",
            "elmundo_chunked_es_page1_40years/19250404_1.txt extracted\n",
            "elmundo_chunked_es_page1_40years/19250411_1.txt extracted\n",
            "elmundo_chunked_es_page1_40years/19250418_1.txt extracted\n",
            "elmundo_chunked_es_page1_40years/19250425_1.txt extracted\n",
            "elmundo_chunked_es_page1_40years/19250502_1.txt extracted\n",
            "elmundo_chunked_es_page1_40years/19250509_1.txt extracted\n",
            "elmundo_chunked_es_page1_40years/19250516_1.txt extracted\n",
            "elmundo_chunked_es_page1_40years/19250523_1.txt extracted\n",
            "elmundo_chunked_es_page1_40years/19250530_1.txt extracted\n",
            "elmundo_chunked_es_page1_40years/19250606_1.txt extracted\n",
            "elmundo_chunked_es_page1_40years/19250613_1.txt extracted\n",
            "elmundo_chunked_es_page1_40years/19250620_1.txt extracted\n",
            "elmundo_chunked_es_page1_40years/19250627_1.txt extracted\n",
            "elmundo_chunked_es_page1_40years/19250711_1.txt extracted\n",
            "elmundo_chunked_es_page1_40years/19250718_1.txt extracted\n",
            "elmundo_chunked_es_page1_40years/19250725_1.txt extracted\n",
            "elmundo_chunked_es_page1_40years/19250801_1.txt extracted\n",
            "elmundo_chunked_es_page1_40years/19250808_1.txt extracted\n",
            "elmundo_chunked_es_page1_40years/19250815_1.txt extracted\n",
            "elmundo_chunked_es_page1_40years/19250822_1.txt extracted\n",
            "elmundo_chunked_es_page1_40years/19250829_1.txt extracted\n",
            "elmundo_chunked_es_page1_40years/19250905_1.txt extracted\n",
            "elmundo_chunked_es_page1_40years/19250912_1.txt extracted\n",
            "elmundo_chunked_es_page1_40years/19250919_1.txt extracted\n",
            "elmundo_chunked_es_page1_40years/19250926_1.txt extracted\n",
            "elmundo_chunked_es_page1_40years/19251003_1.txt extracted\n",
            "elmundo_chunked_es_page1_40years/19251010_1.txt extracted\n",
            "elmundo_chunked_es_page1_40years/19251017_1.txt extracted\n",
            "elmundo_chunked_es_page1_40years/19251024_1.txt extracted\n",
            "elmundo_chunked_es_page1_40years/19251031_1.txt extracted\n",
            "elmundo_chunked_es_page1_40years/19251107_1.txt extracted\n",
            "elmundo_chunked_es_page1_40years/19251114_1.txt extracted\n",
            "elmundo_chunked_es_page1_40years/19251121_1.txt extracted\n",
            "elmundo_chunked_es_page1_40years/19251128_1.txt extracted\n",
            "elmundo_chunked_es_page1_40years/19251205_1.txt extracted\n",
            "elmundo_chunked_es_page1_40years/19251212_1.txt extracted\n",
            "elmundo_chunked_es_page1_40years/19251219_1.txt extracted\n",
            "elmundo_chunked_es_page1_40years/19251226_1.txt extracted\n",
            "elmundo_chunked_es_page1_40years/19260102_1.txt extracted\n",
            "elmundo_chunked_es_page1_40years/19260109_1.txt extracted\n",
            "elmundo_chunked_es_page1_40years/19260116_1.txt extracted\n",
            "elmundo_chunked_es_page1_40years/19260123_1.txt extracted\n",
            "elmundo_chunked_es_page1_40years/19260130_1.txt extracted\n",
            "elmundo_chunked_es_page1_40years/19260206_1.txt extracted\n",
            "elmundo_chunked_es_page1_40years/19260213_1.txt extracted\n",
            "elmundo_chunked_es_page1_40years/19260220_1.txt extracted\n",
            "elmundo_chunked_es_page1_40years/19260227_1.txt extracted\n",
            "elmundo_chunked_es_page1_40years/19260306_1.txt extracted\n",
            "elmundo_chunked_es_page1_40years/19260313_1.txt extracted\n",
            "elmundo_chunked_es_page1_40years/19260320_1.txt extracted\n",
            "elmundo_chunked_es_page1_40years/19260327_1.txt extracted\n",
            "elmundo_chunked_es_page1_40years/19260410_1.txt extracted\n",
            "elmundo_chunked_es_page1_40years/19260417_1.txt extracted\n",
            "elmundo_chunked_es_page1_40years/19260424_1.txt extracted\n",
            "elmundo_chunked_es_page1_40years/19260501_1.txt extracted\n",
            "elmundo_chunked_es_page1_40years/19260508_1.txt extracted\n",
            "elmundo_chunked_es_page1_40years/19260515_1.txt extracted\n",
            "elmundo_chunked_es_page1_40years/19260522_1.txt extracted\n",
            "elmundo_chunked_es_page1_40years/19260529_1.txt extracted\n",
            "elmundo_chunked_es_page1_40years/19260605_1.txt extracted\n",
            "elmundo_chunked_es_page1_40years/19260612_1.txt extracted\n",
            "elmundo_chunked_es_page1_40years/19260619_1.txt extracted\n",
            "elmundo_chunked_es_page1_40years/19260626_1.txt extracted\n",
            "elmundo_chunked_es_page1_40years/19260703_1.txt extracted\n",
            "elmundo_chunked_es_page1_40years/19260710_1.txt extracted\n",
            "elmundo_chunked_es_page1_40years/19260717_1.txt extracted\n",
            "elmundo_chunked_es_page1_40years/19260724_1.txt extracted\n",
            "elmundo_chunked_es_page1_40years/19260731_1.txt extracted\n",
            "elmundo_chunked_es_page1_40years/19260807_1.txt extracted\n",
            "elmundo_chunked_es_page1_40years/19260814_1.txt extracted\n",
            "elmundo_chunked_es_page1_40years/19260821_1.txt extracted\n",
            "elmundo_chunked_es_page1_40years/19260828_1.txt extracted\n",
            "elmundo_chunked_es_page1_40years/19260904_1.txt extracted\n",
            "elmundo_chunked_es_page1_40years/19260911_1.txt extracted\n",
            "elmundo_chunked_es_page1_40years/19260918_1.txt extracted\n",
            "elmundo_chunked_es_page1_40years/19260925_1.txt extracted\n",
            "elmundo_chunked_es_page1_40years/19261002_1.txt extracted\n",
            "elmundo_chunked_es_page1_40years/19261009_1.txt extracted\n",
            "elmundo_chunked_es_page1_40years/19261016_1.txt extracted\n",
            "elmundo_chunked_es_page1_40years/19261023_1.txt extracted\n",
            "elmundo_chunked_es_page1_40years/19261030_1.txt extracted\n",
            "elmundo_chunked_es_page1_40years/19261106_1.txt extracted\n",
            "elmundo_chunked_es_page1_40years/19261113_1.txt extracted\n",
            "elmundo_chunked_es_page1_40years/19261120_1.txt extracted\n",
            "elmundo_chunked_es_page1_40years/19261127_1.txt extracted\n",
            "elmundo_chunked_es_page1_40years/19261204_1.txt extracted\n",
            "elmundo_chunked_es_page1_40years/19261211_1.txt extracted\n",
            "elmundo_chunked_es_page1_40years/19261218_1.txt extracted\n",
            "elmundo_chunked_es_page1_40years/19270108_1.txt extracted\n",
            "elmundo_chunked_es_page1_40years/19270115_1.txt extracted\n",
            "elmundo_chunked_es_page1_40years/19270122_1.txt extracted\n",
            "elmundo_chunked_es_page1_40years/19270129_1.txt extracted\n",
            "elmundo_chunked_es_page1_40years/19270205_1.txt extracted\n",
            "elmundo_chunked_es_page1_40years/19270212_1.txt extracted\n",
            "elmundo_chunked_es_page1_40years/19270219_1.txt extracted\n",
            "elmundo_chunked_es_page1_40years/19270226_1.txt extracted\n",
            "elmundo_chunked_es_page1_40years/19270305_1.txt extracted\n",
            "elmundo_chunked_es_page1_40years/19270312_1.txt extracted\n",
            "elmundo_chunked_es_page1_40years/19270319_1.txt extracted\n",
            "elmundo_chunked_es_page1_40years/19270326_1.txt extracted\n",
            "elmundo_chunked_es_page1_40years/19270402_1.txt extracted\n",
            "elmundo_chunked_es_page1_40years/19270409_1.txt extracted\n",
            "elmundo_chunked_es_page1_40years/19270416_1.txt extracted\n",
            "elmundo_chunked_es_page1_40years/19270423_1.txt extracted\n",
            "elmundo_chunked_es_page1_40years/19270430_1.txt extracted\n",
            "elmundo_chunked_es_page1_40years/19270507_1.txt extracted\n",
            "elmundo_chunked_es_page1_40years/19270514_1.txt extracted\n",
            "elmundo_chunked_es_page1_40years/19270521_1.txt extracted\n",
            "elmundo_chunked_es_page1_40years/19270528_1.txt extracted\n",
            "elmundo_chunked_es_page1_40years/19270604_1.txt extracted\n",
            "elmundo_chunked_es_page1_40years/19270611_1.txt extracted\n",
            "elmundo_chunked_es_page1_40years/19270618_1.txt extracted\n",
            "elmundo_chunked_es_page1_40years/19270625_1.txt extracted\n",
            "elmundo_chunked_es_page1_40years/19270702_1.txt extracted\n",
            "elmundo_chunked_es_page1_40years/19270709_1.txt extracted\n",
            "elmundo_chunked_es_page1_40years/19270716_1.txt extracted\n",
            "elmundo_chunked_es_page1_40years/19270723_1.txt extracted\n",
            "elmundo_chunked_es_page1_40years/19270730_1.txt extracted\n",
            "elmundo_chunked_es_page1_40years/19270806_1.txt extracted\n",
            "elmundo_chunked_es_page1_40years/19270813_1.txt extracted\n",
            "elmundo_chunked_es_page1_40years/19270820_1.txt extracted\n",
            "elmundo_chunked_es_page1_40years/19270827_1.txt extracted\n",
            "elmundo_chunked_es_page1_40years/19270903_1.txt extracted\n",
            "elmundo_chunked_es_page1_40years/19270910_1.txt extracted\n",
            "elmundo_chunked_es_page1_40years/19270917_1.txt extracted\n",
            "elmundo_chunked_es_page1_40years/19270924_1.txt extracted\n",
            "elmundo_chunked_es_page1_40years/19271001_1.txt extracted\n",
            "elmundo_chunked_es_page1_40years/19271008_1.txt extracted\n",
            "elmundo_chunked_es_page1_40years/19271015_1.txt extracted\n",
            "elmundo_chunked_es_page1_40years/19271022_1.txt extracted\n",
            "elmundo_chunked_es_page1_40years/19271029_1.txt extracted\n",
            "elmundo_chunked_es_page1_40years/19271105_1.txt extracted\n",
            "elmundo_chunked_es_page1_40years/19271112_1.txt extracted\n",
            "elmundo_chunked_es_page1_40years/19271119_1.txt extracted\n",
            "elmundo_chunked_es_page1_40years/19271126_1.txt extracted\n",
            "elmundo_chunked_es_page1_40years/19271203_1.txt extracted\n",
            "elmundo_chunked_es_page1_40years/19271210_1.txt extracted\n",
            "elmundo_chunked_es_page1_40years/19271217_1.txt extracted\n",
            "elmundo_chunked_es_page1_40years/19271224_1.txt extracted\n",
            "elmundo_chunked_es_page1_40years/19271231_1.txt extracted\n",
            "elmundo_chunked_es_page1_40years/19280107_1.txt extracted\n",
            "elmundo_chunked_es_page1_40years/19280114_1.txt extracted\n",
            "elmundo_chunked_es_page1_40years/19280121_1.txt extracted\n",
            "elmundo_chunked_es_page1_40years/19280128_1.txt extracted\n",
            "elmundo_chunked_es_page1_40years/19280204_1.txt extracted\n",
            "elmundo_chunked_es_page1_40years/19280211_1.txt extracted\n",
            "elmundo_chunked_es_page1_40years/19280218_1.txt extracted\n",
            "elmundo_chunked_es_page1_40years/19280225_1.txt extracted\n",
            "elmundo_chunked_es_page1_40years/19280303_1.txt extracted\n",
            "elmundo_chunked_es_page1_40years/19280310_1.txt extracted\n",
            "elmundo_chunked_es_page1_40years/19280317_1.txt extracted\n",
            "elmundo_chunked_es_page1_40years/19280324_1.txt extracted\n",
            "elmundo_chunked_es_page1_40years/19280331_1.txt extracted\n",
            "elmundo_chunked_es_page1_40years/19280407_1.txt extracted\n",
            "elmundo_chunked_es_page1_40years/19280414_1.txt extracted\n",
            "elmundo_chunked_es_page1_40years/19280421_1.txt extracted\n",
            "elmundo_chunked_es_page1_40years/19280428_1.txt extracted\n",
            "elmundo_chunked_es_page1_40years/19280505_1.txt extracted\n",
            "elmundo_chunked_es_page1_40years/19280512_1.txt extracted\n",
            "elmundo_chunked_es_page1_40years/19280519_1.txt extracted\n",
            "elmundo_chunked_es_page1_40years/19280526_1.txt extracted\n",
            "elmundo_chunked_es_page1_40years/19280602_1.txt extracted\n",
            "elmundo_chunked_es_page1_40years/19280609_1.txt extracted\n",
            "elmundo_chunked_es_page1_40years/19280616_1.txt extracted\n",
            "elmundo_chunked_es_page1_40years/19280623_1.txt extracted\n",
            "elmundo_chunked_es_page1_40years/19280630_1.txt extracted\n",
            "elmundo_chunked_es_page1_40years/19280707_1.txt extracted\n",
            "elmundo_chunked_es_page1_40years/19280714_1.txt extracted\n",
            "elmundo_chunked_es_page1_40years/19280721_1.txt extracted\n",
            "elmundo_chunked_es_page1_40years/19280728_1.txt extracted\n",
            "elmundo_chunked_es_page1_40years/19280804_1.txt extracted\n",
            "elmundo_chunked_es_page1_40years/19280811_1.txt extracted\n",
            "elmundo_chunked_es_page1_40years/19280818_1.txt extracted\n",
            "elmundo_chunked_es_page1_40years/19280825_1.txt extracted\n",
            "elmundo_chunked_es_page1_40years/19280901_1.txt extracted\n",
            "elmundo_chunked_es_page1_40years/19280908_1.txt extracted\n",
            "elmundo_chunked_es_page1_40years/19280922_1.txt extracted\n",
            "elmundo_chunked_es_page1_40years/19280929_1.txt extracted\n",
            "elmundo_chunked_es_page1_40years/19281006_1.txt extracted\n",
            "elmundo_chunked_es_page1_40years/19281013_1.txt extracted\n",
            "elmundo_chunked_es_page1_40years/19281020_1.txt extracted\n",
            "elmundo_chunked_es_page1_40years/19281027_1.txt extracted\n",
            "elmundo_chunked_es_page1_40years/19281103_1.txt extracted\n",
            "elmundo_chunked_es_page1_40years/19281110_1.txt extracted\n",
            "elmundo_chunked_es_page1_40years/19281117_1.txt extracted\n",
            "elmundo_chunked_es_page1_40years/19281124_1.txt extracted\n",
            "elmundo_chunked_es_page1_40years/19281201_1.txt extracted\n",
            "elmundo_chunked_es_page1_40years/19281208_1.txt extracted\n",
            "elmundo_chunked_es_page1_40years/19281215_1.txt extracted\n",
            "elmundo_chunked_es_page1_40years/19281222_1.txt extracted\n",
            "elmundo_chunked_es_page1_40years/19281229_1.txt extracted\n",
            "elmundo_chunked_es_page1_40years/19290105_1.txt extracted\n",
            "elmundo_chunked_es_page1_40years/19290112_1.txt extracted\n",
            "elmundo_chunked_es_page1_40years/19290119_1.txt extracted\n",
            "elmundo_chunked_es_page1_40years/19290126_1.txt extracted\n",
            "elmundo_chunked_es_page1_40years/19290202_1.txt extracted\n",
            "elmundo_chunked_es_page1_40years/19290209_1.txt extracted\n",
            "elmundo_chunked_es_page1_40years/19290216_1.txt extracted\n",
            "elmundo_chunked_es_page1_40years/19290223_1.txt extracted\n",
            "elmundo_chunked_es_page1_40years/19290302_1.txt extracted\n",
            "elmundo_chunked_es_page1_40years/19290309_1.txt extracted\n",
            "elmundo_chunked_es_page1_40years/19290316_1.txt extracted\n",
            "elmundo_chunked_es_page1_40years/19290323_1.txt extracted\n",
            "elmundo_chunked_es_page1_40years/19290330_1.txt extracted\n",
            "elmundo_chunked_es_page1_40years/19290406_1.txt extracted\n",
            "elmundo_chunked_es_page1_40years/19290413_1.txt extracted\n",
            "elmundo_chunked_es_page1_40years/19290420_1.txt extracted\n",
            "elmundo_chunked_es_page1_40years/19290427_1.txt extracted\n",
            "elmundo_chunked_es_page1_40years/19290504_1.txt extracted\n",
            "elmundo_chunked_es_page1_40years/19290511_1.txt extracted\n",
            "elmundo_chunked_es_page1_40years/19290518_1.txt extracted\n",
            "elmundo_chunked_es_page1_40years/19290525_1.txt extracted\n",
            "elmundo_chunked_es_page1_40years/19290601_1.txt extracted\n",
            "elmundo_chunked_es_page1_40years/19290608_1.txt extracted\n",
            "elmundo_chunked_es_page1_40years/19290615_1.txt extracted\n",
            "elmundo_chunked_es_page1_40years/19290622_1.txt extracted\n",
            "elmundo_chunked_es_page1_40years/19290629_1.txt extracted\n",
            "elmundo_chunked_es_page1_40years/19290706_1.txt extracted\n",
            "elmundo_chunked_es_page1_40years/19290713_1.txt extracted\n",
            "elmundo_chunked_es_page1_40years/19290720_1.txt extracted\n",
            "elmundo_chunked_es_page1_40years/19290727_1.txt extracted\n",
            "elmundo_chunked_es_page1_40years/19290803_1.txt extracted\n",
            "elmundo_chunked_es_page1_40years/19290810_1.txt extracted\n",
            "elmundo_chunked_es_page1_40years/19290817_1.txt extracted\n",
            "elmundo_chunked_es_page1_40years/19290824_1.txt extracted\n",
            "elmundo_chunked_es_page1_40years/19290831_1.txt extracted\n",
            "elmundo_chunked_es_page1_40years/19290907_1.txt extracted\n",
            "elmundo_chunked_es_page1_40years/19290914_1.txt extracted\n",
            "elmundo_chunked_es_page1_40years/19290921_1.txt extracted\n",
            "elmundo_chunked_es_page1_40years/19290928_1.txt extracted\n",
            "elmundo_chunked_es_page1_40years/19291005_1.txt extracted\n",
            "elmundo_chunked_es_page1_40years/19291019_1.txt extracted\n",
            "elmundo_chunked_es_page1_40years/19291026_1.txt extracted\n",
            "elmundo_chunked_es_page1_40years/19291102_1.txt extracted\n",
            "elmundo_chunked_es_page1_40years/19291109_1.txt extracted\n",
            "elmundo_chunked_es_page1_40years/19291116_1.txt extracted\n",
            "elmundo_chunked_es_page1_40years/19291123_1.txt extracted\n",
            "elmundo_chunked_es_page1_40years/19291130_1.txt extracted\n",
            "elmundo_chunked_es_page1_40years/19291207_1.txt extracted\n",
            "elmundo_chunked_es_page1_40years/19291214_1.txt extracted\n",
            "elmundo_chunked_es_page1_40years/19291221_1.txt extracted\n",
            "elmundo_chunked_es_page1_40years/19291228_1.txt extracted\n",
            "elmundo_chunked_es_page1_40years/19300104_1.txt extracted\n",
            "elmundo_chunked_es_page1_40years/19300111_1.txt extracted\n",
            "elmundo_chunked_es_page1_40years/19300118_1.txt extracted\n",
            "elmundo_chunked_es_page1_40years/19300125_1.txt extracted\n",
            "elmundo_chunked_es_page1_40years/19300201_1.txt extracted\n",
            "elmundo_chunked_es_page1_40years/19300208_1.txt extracted\n",
            "elmundo_chunked_es_page1_40years/19300215_1.txt extracted\n",
            "elmundo_chunked_es_page1_40years/19300222_1.txt extracted\n",
            "elmundo_chunked_es_page1_40years/19300301_1.txt extracted\n",
            "elmundo_chunked_es_page1_40years/19300308_1.txt extracted\n",
            "elmundo_chunked_es_page1_40years/19300315_1.txt extracted\n",
            "elmundo_chunked_es_page1_40years/19300322_1.txt extracted\n",
            "elmundo_chunked_es_page1_40years/19300329_1.txt extracted\n",
            "elmundo_chunked_es_page1_40years/19300405_1.txt extracted\n",
            "elmundo_chunked_es_page1_40years/19300412_1.txt extracted\n",
            "elmundo_chunked_es_page1_40years/19300419_1.txt extracted\n",
            "elmundo_chunked_es_page1_40years/19300426_1.txt extracted\n",
            "elmundo_chunked_es_page1_40years/19300503_1.txt extracted\n",
            "elmundo_chunked_es_page1_40years/19300510_1.txt extracted\n",
            "elmundo_chunked_es_page1_40years/19300517_1.txt extracted\n",
            "elmundo_chunked_es_page1_40years/19300524_1.txt extracted\n",
            "elmundo_chunked_es_page1_40years/19300531_1.txt extracted\n",
            "elmundo_chunked_es_page1_40years/19300607_1.txt extracted\n",
            "elmundo_chunked_es_page1_40years/19300614_1.txt extracted\n",
            "elmundo_chunked_es_page1_40years/19300621_1.txt extracted\n",
            "elmundo_chunked_es_page1_40years/19300628_1.txt extracted\n",
            "elmundo_chunked_es_page1_40years/19300705_1.txt extracted\n",
            "elmundo_chunked_es_page1_40years/19300712_1.txt extracted\n",
            "elmundo_chunked_es_page1_40years/19300719_1.txt extracted\n",
            "elmundo_chunked_es_page1_40years/19300726_1.txt extracted\n",
            "elmundo_chunked_es_page1_40years/19300802_1.txt extracted\n",
            "elmundo_chunked_es_page1_40years/19300809_1.txt extracted\n",
            "elmundo_chunked_es_page1_40years/19300816_1.txt extracted\n",
            "elmundo_chunked_es_page1_40years/19300823_1.txt extracted\n",
            "elmundo_chunked_es_page1_40years/19300830_1.txt extracted\n",
            "elmundo_chunked_es_page1_40years/19300906_1.txt extracted\n",
            "elmundo_chunked_es_page1_40years/19300913_1.txt extracted\n",
            "elmundo_chunked_es_page1_40years/19300920_1.txt extracted\n",
            "elmundo_chunked_es_page1_40years/19300927_1.txt extracted\n",
            "elmundo_chunked_es_page1_40years/19301004_1.txt extracted\n",
            "elmundo_chunked_es_page1_40years/19301011_1.txt extracted\n",
            "elmundo_chunked_es_page1_40years/19301018_1.txt extracted\n",
            "elmundo_chunked_es_page1_40years/19301025_1.txt extracted\n",
            "elmundo_chunked_es_page1_40years/19301101_1.txt extracted\n",
            "elmundo_chunked_es_page1_40years/19301108_1.txt extracted\n",
            "elmundo_chunked_es_page1_40years/19301115_1.txt extracted\n",
            "elmundo_chunked_es_page1_40years/19301122_1.txt extracted\n",
            "elmundo_chunked_es_page1_40years/19301129_1.txt extracted\n",
            "elmundo_chunked_es_page1_40years/19301206_1.txt extracted\n",
            "elmundo_chunked_es_page1_40years/19301213_1.txt extracted\n",
            "elmundo_chunked_es_page1_40years/19301220_1.txt extracted\n",
            "elmundo_chunked_es_page1_40years/19301227_1.txt extracted\n",
            "elmundo_chunked_es_page1_40years/19310103_1.txt extracted\n",
            "elmundo_chunked_es_page1_40years/19310110_1.txt extracted\n",
            "elmundo_chunked_es_page1_40years/19310117_1.txt extracted\n",
            "elmundo_chunked_es_page1_40years/19310124_1.txt extracted\n",
            "elmundo_chunked_es_page1_40years/19310131_1.txt extracted\n",
            "elmundo_chunked_es_page1_40years/19310207_1.txt extracted\n",
            "elmundo_chunked_es_page1_40years/19310221_1.txt extracted\n",
            "elmundo_chunked_es_page1_40years/19310228_1.txt extracted\n",
            "elmundo_chunked_es_page1_40years/19310307_1.txt extracted\n",
            "elmundo_chunked_es_page1_40years/19310314_1.txt extracted\n",
            "elmundo_chunked_es_page1_40years/19310321_1.txt extracted\n",
            "elmundo_chunked_es_page1_40years/19310328_1.txt extracted\n",
            "elmundo_chunked_es_page1_40years/19310404_1.txt extracted\n",
            "elmundo_chunked_es_page1_40years/19310411_1.txt extracted\n",
            "elmundo_chunked_es_page1_40years/19310418_1.txt extracted\n",
            "elmundo_chunked_es_page1_40years/19310425_1.txt extracted\n",
            "elmundo_chunked_es_page1_40years/19310502_1.txt extracted\n",
            "elmundo_chunked_es_page1_40years/19310509_1.txt extracted\n",
            "elmundo_chunked_es_page1_40years/19310516_1.txt extracted\n",
            "elmundo_chunked_es_page1_40years/19310523_1.txt extracted\n",
            "elmundo_chunked_es_page1_40years/19310530_1.txt extracted\n",
            "elmundo_chunked_es_page1_40years/19310606_1.txt extracted\n",
            "elmundo_chunked_es_page1_40years/19310613_1.txt extracted\n",
            "elmundo_chunked_es_page1_40years/19310620_1.txt extracted\n",
            "elmundo_chunked_es_page1_40years/19310627_1.txt extracted\n",
            "elmundo_chunked_es_page1_40years/19310711_1.txt extracted\n",
            "elmundo_chunked_es_page1_40years/19310718_1.txt extracted\n",
            "elmundo_chunked_es_page1_40years/19310725_1.txt extracted\n",
            "elmundo_chunked_es_page1_40years/19310801_1.txt extracted\n",
            "elmundo_chunked_es_page1_40years/19310808_1.txt extracted\n",
            "elmundo_chunked_es_page1_40years/19310815_1.txt extracted\n",
            "elmundo_chunked_es_page1_40years/19310822_1.txt extracted\n",
            "elmundo_chunked_es_page1_40years/19310829_1.txt extracted\n",
            "elmundo_chunked_es_page1_40years/19310905_1.txt extracted\n",
            "elmundo_chunked_es_page1_40years/19310912_1.txt extracted\n",
            "elmundo_chunked_es_page1_40years/19310919_1.txt extracted\n",
            "elmundo_chunked_es_page1_40years/19310926_1.txt extracted\n",
            "elmundo_chunked_es_page1_40years/19311003_1.txt extracted\n",
            "elmundo_chunked_es_page1_40years/19311010_1.txt extracted\n",
            "elmundo_chunked_es_page1_40years/19311017_1.txt extracted\n",
            "elmundo_chunked_es_page1_40years/19311024_1.txt extracted\n",
            "elmundo_chunked_es_page1_40years/19311031_1.txt extracted\n",
            "elmundo_chunked_es_page1_40years/19311107_1.txt extracted\n",
            "elmundo_chunked_es_page1_40years/19311114_1.txt extracted\n",
            "elmundo_chunked_es_page1_40years/19311121_1.txt extracted\n",
            "elmundo_chunked_es_page1_40years/19311128_1.txt extracted\n",
            "elmundo_chunked_es_page1_40years/19311205_1.txt extracted\n",
            "elmundo_chunked_es_page1_40years/19311212_1.txt extracted\n",
            "elmundo_chunked_es_page1_40years/19311219_1.txt extracted\n",
            "elmundo_chunked_es_page1_40years/19311226_1.txt extracted\n",
            "elmundo_chunked_es_page1_40years/19320102_1.txt extracted\n",
            "elmundo_chunked_es_page1_40years/19320109_1.txt extracted\n",
            "elmundo_chunked_es_page1_40years/19320116_1.txt extracted\n",
            "elmundo_chunked_es_page1_40years/19320123_1.txt extracted\n",
            "elmundo_chunked_es_page1_40years/19320130_1.txt extracted\n",
            "elmundo_chunked_es_page1_40years/19320206_1.txt extracted\n",
            "elmundo_chunked_es_page1_40years/19320213_1.txt extracted\n",
            "elmundo_chunked_es_page1_40years/19320220_1.txt extracted\n",
            "elmundo_chunked_es_page1_40years/19320227_1.txt extracted\n",
            "elmundo_chunked_es_page1_40years/19320305_1.txt extracted\n",
            "elmundo_chunked_es_page1_40years/19320312_1.txt extracted\n",
            "elmundo_chunked_es_page1_40years/19320319_1.txt extracted\n",
            "elmundo_chunked_es_page1_40years/19320326_1.txt extracted\n",
            "elmundo_chunked_es_page1_40years/19320402_1.txt extracted\n",
            "elmundo_chunked_es_page1_40years/19320409_1.txt extracted\n",
            "elmundo_chunked_es_page1_40years/19320416_1.txt extracted\n",
            "elmundo_chunked_es_page1_40years/19320423_1.txt extracted\n",
            "elmundo_chunked_es_page1_40years/19320430_1.txt extracted\n",
            "elmundo_chunked_es_page1_40years/19320507_1.txt extracted\n",
            "elmundo_chunked_es_page1_40years/19320514_1.txt extracted\n",
            "elmundo_chunked_es_page1_40years/19320521_1.txt extracted\n",
            "elmundo_chunked_es_page1_40years/19320528_1.txt extracted\n",
            "elmundo_chunked_es_page1_40years/19320604_1.txt extracted\n",
            "elmundo_chunked_es_page1_40years/19320611_1.txt extracted\n",
            "elmundo_chunked_es_page1_40years/19320618_1.txt extracted\n",
            "elmundo_chunked_es_page1_40years/19320625_1.txt extracted\n",
            "elmundo_chunked_es_page1_40years/19320702_1.txt extracted\n",
            "elmundo_chunked_es_page1_40years/19320709_1.txt extracted\n",
            "elmundo_chunked_es_page1_40years/19320716_1.txt extracted\n",
            "elmundo_chunked_es_page1_40years/19320723_1.txt extracted\n",
            "elmundo_chunked_es_page1_40years/19320730_1.txt extracted\n",
            "elmundo_chunked_es_page1_40years/19320806_1.txt extracted\n",
            "elmundo_chunked_es_page1_40years/19320813_1.txt extracted\n",
            "elmundo_chunked_es_page1_40years/19320820_1.txt extracted\n",
            "elmundo_chunked_es_page1_40years/19320827_1.txt extracted\n",
            "elmundo_chunked_es_page1_40years/19320903_1.txt extracted\n",
            "elmundo_chunked_es_page1_40years/19320910_1.txt extracted\n",
            "elmundo_chunked_es_page1_40years/19320917_1.txt extracted\n",
            "elmundo_chunked_es_page1_40years/19320924_1.txt extracted\n",
            "elmundo_chunked_es_page1_40years/19321001_1.txt extracted\n",
            "elmundo_chunked_es_page1_40years/19321008_1.txt extracted\n",
            "elmundo_chunked_es_page1_40years/19321015_1.txt extracted\n",
            "elmundo_chunked_es_page1_40years/19321022_1.txt extracted\n",
            "elmundo_chunked_es_page1_40years/19321029_1.txt extracted\n",
            "elmundo_chunked_es_page1_40years/19321105_1.txt extracted\n",
            "elmundo_chunked_es_page1_40years/19321112_1.txt extracted\n",
            "elmundo_chunked_es_page1_40years/19321119_1.txt extracted\n",
            "elmundo_chunked_es_page1_40years/19321126_1.txt extracted\n",
            "elmundo_chunked_es_page1_40years/19321203_1.txt extracted\n",
            "elmundo_chunked_es_page1_40years/19321210_1.txt extracted\n",
            "elmundo_chunked_es_page1_40years/19321217_1.txt extracted\n",
            "elmundo_chunked_es_page1_40years/19321224_1.txt extracted\n",
            "elmundo_chunked_es_page1_40years/19321231_1.txt extracted\n",
            "elmundo_chunked_es_page1_40years/19330107_1.txt extracted\n",
            "elmundo_chunked_es_page1_40years/19330114_1.txt extracted\n",
            "elmundo_chunked_es_page1_40years/19330121_1.txt extracted\n",
            "elmundo_chunked_es_page1_40years/19330128_1.txt extracted\n",
            "elmundo_chunked_es_page1_40years/19330204_1.txt extracted\n",
            "elmundo_chunked_es_page1_40years/19330211_1.txt extracted\n",
            "elmundo_chunked_es_page1_40years/19330218_1.txt extracted\n",
            "elmundo_chunked_es_page1_40years/19330225_1.txt extracted\n",
            "elmundo_chunked_es_page1_40years/19330304_1.txt extracted\n",
            "elmundo_chunked_es_page1_40years/19330311_1.txt extracted\n",
            "elmundo_chunked_es_page1_40years/19330318_1.txt extracted\n",
            "elmundo_chunked_es_page1_40years/19330325_1.txt extracted\n",
            "elmundo_chunked_es_page1_40years/19330401_1.txt extracted\n",
            "elmundo_chunked_es_page1_40years/19330408_1.txt extracted\n",
            "elmundo_chunked_es_page1_40years/19330415_1.txt extracted\n",
            "elmundo_chunked_es_page1_40years/19330422_1.txt extracted\n",
            "elmundo_chunked_es_page1_40years/19330429_1.txt extracted\n",
            "elmundo_chunked_es_page1_40years/19330506_1.txt extracted\n",
            "elmundo_chunked_es_page1_40years/19330513_1.txt extracted\n",
            "elmundo_chunked_es_page1_40years/19330520_1.txt extracted\n",
            "elmundo_chunked_es_page1_40years/19330527_1.txt extracted\n",
            "elmundo_chunked_es_page1_40years/19330603_1.txt extracted\n",
            "elmundo_chunked_es_page1_40years/19330610_1.txt extracted\n",
            "elmundo_chunked_es_page1_40years/19330617_1.txt extracted\n",
            "elmundo_chunked_es_page1_40years/19330624_1.txt extracted\n",
            "elmundo_chunked_es_page1_40years/19330701_1.txt extracted\n",
            "elmundo_chunked_es_page1_40years/19330708_1.txt extracted\n",
            "elmundo_chunked_es_page1_40years/19330715_1.txt extracted\n",
            "elmundo_chunked_es_page1_40years/19330722_1.txt extracted\n",
            "elmundo_chunked_es_page1_40years/19330729_1.txt extracted\n",
            "elmundo_chunked_es_page1_40years/19330805_1.txt extracted\n",
            "elmundo_chunked_es_page1_40years/19330812_1.txt extracted\n",
            "elmundo_chunked_es_page1_40years/19330819_1.txt extracted\n",
            "elmundo_chunked_es_page1_40years/19330826_1.txt extracted\n",
            "elmundo_chunked_es_page1_40years/19330902_1.txt extracted\n",
            "elmundo_chunked_es_page1_40years/19330909_1.txt extracted\n",
            "elmundo_chunked_es_page1_40years/19330916_1.txt extracted\n",
            "elmundo_chunked_es_page1_40years/19330923_1.txt extracted\n",
            "elmundo_chunked_es_page1_40years/19330930_1.txt extracted\n",
            "elmundo_chunked_es_page1_40years/19331007_1.txt extracted\n",
            "elmundo_chunked_es_page1_40years/19331014_1.txt extracted\n",
            "elmundo_chunked_es_page1_40years/19331021_1.txt extracted\n",
            "elmundo_chunked_es_page1_40years/19331028_1.txt extracted\n",
            "elmundo_chunked_es_page1_40years/19331104_1.txt extracted\n",
            "elmundo_chunked_es_page1_40years/19331111_1.txt extracted\n",
            "elmundo_chunked_es_page1_40years/19331118_1.txt extracted\n",
            "elmundo_chunked_es_page1_40years/19331125_1.txt extracted\n",
            "elmundo_chunked_es_page1_40years/19331202_1.txt extracted\n",
            "elmundo_chunked_es_page1_40years/19331209_1.txt extracted\n",
            "elmundo_chunked_es_page1_40years/19331216_1.txt extracted\n",
            "elmundo_chunked_es_page1_40years/19331223_1.txt extracted\n",
            "elmundo_chunked_es_page1_40years/19331230_1.txt extracted\n",
            "elmundo_chunked_es_page1_40years/19340106_1.txt extracted\n",
            "elmundo_chunked_es_page1_40years/19340113_1.txt extracted\n",
            "elmundo_chunked_es_page1_40years/19340120_1.txt extracted\n",
            "elmundo_chunked_es_page1_40years/19340127_1.txt extracted\n",
            "elmundo_chunked_es_page1_40years/19340203_1.txt extracted\n",
            "elmundo_chunked_es_page1_40years/19340210_1.txt extracted\n",
            "elmundo_chunked_es_page1_40years/19340217_1.txt extracted\n",
            "elmundo_chunked_es_page1_40years/19340224_1.txt extracted\n",
            "elmundo_chunked_es_page1_40years/19340303_1.txt extracted\n",
            "elmundo_chunked_es_page1_40years/19340310_1.txt extracted\n",
            "elmundo_chunked_es_page1_40years/19340317_1.txt extracted\n",
            "elmundo_chunked_es_page1_40years/19340324_1.txt extracted\n",
            "elmundo_chunked_es_page1_40years/19340331_1.txt extracted\n",
            "elmundo_chunked_es_page1_40years/19340407_1.txt extracted\n",
            "elmundo_chunked_es_page1_40years/19340414_1.txt extracted\n",
            "elmundo_chunked_es_page1_40years/19340421_1.txt extracted\n",
            "elmundo_chunked_es_page1_40years/19340428_1.txt extracted\n",
            "elmundo_chunked_es_page1_40years/19340505_1.txt extracted\n",
            "elmundo_chunked_es_page1_40years/19340512_1.txt extracted\n",
            "elmundo_chunked_es_page1_40years/19340519_1.txt extracted\n",
            "elmundo_chunked_es_page1_40years/19340526_1.txt extracted\n",
            "elmundo_chunked_es_page1_40years/19340602_1.txt extracted\n",
            "elmundo_chunked_es_page1_40years/19340609_1.txt extracted\n",
            "elmundo_chunked_es_page1_40years/19340616_1.txt extracted\n",
            "elmundo_chunked_es_page1_40years/19340623_1.txt extracted\n",
            "elmundo_chunked_es_page1_40years/19340630_1.txt extracted\n",
            "elmundo_chunked_es_page1_40years/19340707_1.txt extracted\n",
            "elmundo_chunked_es_page1_40years/19340714_1.txt extracted\n",
            "elmundo_chunked_es_page1_40years/19340721_1.txt extracted\n",
            "elmundo_chunked_es_page1_40years/19340728_1.txt extracted\n",
            "elmundo_chunked_es_page1_40years/19340804_1.txt extracted\n",
            "elmundo_chunked_es_page1_40years/19340811_1.txt extracted\n",
            "elmundo_chunked_es_page1_40years/19340818_1.txt extracted\n",
            "elmundo_chunked_es_page1_40years/19340825_1.txt extracted\n",
            "elmundo_chunked_es_page1_40years/19340901_1.txt extracted\n",
            "elmundo_chunked_es_page1_40years/19340908_1.txt extracted\n",
            "elmundo_chunked_es_page1_40years/19340915_1.txt extracted\n",
            "elmundo_chunked_es_page1_40years/19340922_1.txt extracted\n",
            "elmundo_chunked_es_page1_40years/19340929_1.txt extracted\n",
            "elmundo_chunked_es_page1_40years/19341006_1.txt extracted\n",
            "elmundo_chunked_es_page1_40years/19341013_1.txt extracted\n",
            "elmundo_chunked_es_page1_40years/19341020_1.txt extracted\n",
            "elmundo_chunked_es_page1_40years/19341027_1.txt extracted\n",
            "elmundo_chunked_es_page1_40years/19341103_1.txt extracted\n",
            "elmundo_chunked_es_page1_40years/19341110_1.txt extracted\n",
            "elmundo_chunked_es_page1_40years/19341117_1.txt extracted\n",
            "elmundo_chunked_es_page1_40years/19341124_1.txt extracted\n",
            "elmundo_chunked_es_page1_40years/19341201_1.txt extracted\n",
            "elmundo_chunked_es_page1_40years/19341208_1.txt extracted\n",
            "elmundo_chunked_es_page1_40years/19341215_1.txt extracted\n",
            "elmundo_chunked_es_page1_40years/19341222_1.txt extracted\n",
            "elmundo_chunked_es_page1_40years/19341229_1.txt extracted\n",
            "elmundo_chunked_es_page1_40years/19350105_1.txt extracted\n",
            "elmundo_chunked_es_page1_40years/19350112_1.txt extracted\n",
            "elmundo_chunked_es_page1_40years/19350119_1.txt extracted\n",
            "elmundo_chunked_es_page1_40years/19350126_1.txt extracted\n",
            "elmundo_chunked_es_page1_40years/19350202_1.txt extracted\n",
            "elmundo_chunked_es_page1_40years/19350209_1.txt extracted\n",
            "elmundo_chunked_es_page1_40years/19350216_1.txt extracted\n",
            "elmundo_chunked_es_page1_40years/19350223_1.txt extracted\n",
            "elmundo_chunked_es_page1_40years/19350302_1.txt extracted\n",
            "elmundo_chunked_es_page1_40years/19350309_1.txt extracted\n",
            "elmundo_chunked_es_page1_40years/19350316_1.txt extracted\n",
            "elmundo_chunked_es_page1_40years/19350323_1.txt extracted\n",
            "elmundo_chunked_es_page1_40years/19350330_1.txt extracted\n",
            "elmundo_chunked_es_page1_40years/19350406_1.txt extracted\n",
            "elmundo_chunked_es_page1_40years/19350413_1.txt extracted\n",
            "elmundo_chunked_es_page1_40years/19350420_1.txt extracted\n",
            "elmundo_chunked_es_page1_40years/19350427_1.txt extracted\n",
            "elmundo_chunked_es_page1_40years/19350504_1.txt extracted\n",
            "elmundo_chunked_es_page1_40years/19350511_1.txt extracted\n",
            "elmundo_chunked_es_page1_40years/19350518_1.txt extracted\n",
            "elmundo_chunked_es_page1_40years/19350525_1.txt extracted\n",
            "elmundo_chunked_es_page1_40years/19350601_1.txt extracted\n",
            "elmundo_chunked_es_page1_40years/19350608_1.txt extracted\n",
            "elmundo_chunked_es_page1_40years/19350615_1.txt extracted\n",
            "elmundo_chunked_es_page1_40years/19350622_1.txt extracted\n",
            "elmundo_chunked_es_page1_40years/19350629_1.txt extracted\n",
            "elmundo_chunked_es_page1_40years/19350706_1.txt extracted\n",
            "elmundo_chunked_es_page1_40years/19350713_1.txt extracted\n",
            "elmundo_chunked_es_page1_40years/19350720_1.txt extracted\n",
            "elmundo_chunked_es_page1_40years/19350727_1.txt extracted\n",
            "elmundo_chunked_es_page1_40years/19350803_1.txt extracted\n",
            "elmundo_chunked_es_page1_40years/19350810_1.txt extracted\n",
            "elmundo_chunked_es_page1_40years/19350817_1.txt extracted\n",
            "elmundo_chunked_es_page1_40years/19350824_1.txt extracted\n",
            "elmundo_chunked_es_page1_40years/19350831_1.txt extracted\n",
            "elmundo_chunked_es_page1_40years/19350907_1.txt extracted\n",
            "elmundo_chunked_es_page1_40years/19350914_1.txt extracted\n",
            "elmundo_chunked_es_page1_40years/19350921_1.txt extracted\n",
            "elmundo_chunked_es_page1_40years/19350928_1.txt extracted\n",
            "elmundo_chunked_es_page1_40years/19351005_1.txt extracted\n",
            "elmundo_chunked_es_page1_40years/19351019_1.txt extracted\n",
            "elmundo_chunked_es_page1_40years/19351026_1.txt extracted\n",
            "elmundo_chunked_es_page1_40years/19351102_1.txt extracted\n",
            "elmundo_chunked_es_page1_40years/19351109_1.txt extracted\n",
            "elmundo_chunked_es_page1_40years/19351116_1.txt extracted\n",
            "elmundo_chunked_es_page1_40years/19351123_1.txt extracted\n",
            "elmundo_chunked_es_page1_40years/19351130_1.txt extracted\n",
            "elmundo_chunked_es_page1_40years/19351207_1.txt extracted\n",
            "elmundo_chunked_es_page1_40years/19351214_1.txt extracted\n",
            "elmundo_chunked_es_page1_40years/19351221_1.txt extracted\n",
            "elmundo_chunked_es_page1_40years/19351228_1.txt extracted\n",
            "elmundo_chunked_es_page1_40years/19360104_1.txt extracted\n",
            "elmundo_chunked_es_page1_40years/19360111_1.txt extracted\n",
            "elmundo_chunked_es_page1_40years/19360118_1.txt extracted\n",
            "elmundo_chunked_es_page1_40years/19360125_1.txt extracted\n",
            "elmundo_chunked_es_page1_40years/19360201_1.txt extracted\n",
            "elmundo_chunked_es_page1_40years/19360208_1.txt extracted\n",
            "elmundo_chunked_es_page1_40years/19360215_1.txt extracted\n",
            "elmundo_chunked_es_page1_40years/19360222_1.txt extracted\n",
            "elmundo_chunked_es_page1_40years/19360229_1.txt extracted\n",
            "elmundo_chunked_es_page1_40years/19360307_1.txt extracted\n",
            "elmundo_chunked_es_page1_40years/19360314_1.txt extracted\n",
            "elmundo_chunked_es_page1_40years/19360321_1.txt extracted\n",
            "elmundo_chunked_es_page1_40years/19360328_1.txt extracted\n",
            "elmundo_chunked_es_page1_40years/19360404_1.txt extracted\n",
            "elmundo_chunked_es_page1_40years/19360411_1.txt extracted\n",
            "elmundo_chunked_es_page1_40years/19360418_1.txt extracted\n",
            "elmundo_chunked_es_page1_40years/19360425_1.txt extracted\n",
            "elmundo_chunked_es_page1_40years/19360502_1.txt extracted\n",
            "elmundo_chunked_es_page1_40years/19360509_1.txt extracted\n",
            "elmundo_chunked_es_page1_40years/19360516_1.txt extracted\n",
            "elmundo_chunked_es_page1_40years/19360523_1.txt extracted\n",
            "elmundo_chunked_es_page1_40years/19360530_1.txt extracted\n",
            "elmundo_chunked_es_page1_40years/19360606_1.txt extracted\n",
            "elmundo_chunked_es_page1_40years/19360613_1.txt extracted\n",
            "elmundo_chunked_es_page1_40years/19360620_1.txt extracted\n",
            "elmundo_chunked_es_page1_40years/19360627_1.txt extracted\n",
            "elmundo_chunked_es_page1_40years/19360711_1.txt extracted\n",
            "elmundo_chunked_es_page1_40years/19360718_1.txt extracted\n",
            "elmundo_chunked_es_page1_40years/19360725_1.txt extracted\n",
            "elmundo_chunked_es_page1_40years/19360801_1.txt extracted\n",
            "elmundo_chunked_es_page1_40years/19360808_1.txt extracted\n",
            "elmundo_chunked_es_page1_40years/19360815_1.txt extracted\n",
            "elmundo_chunked_es_page1_40years/19360822_1.txt extracted\n",
            "elmundo_chunked_es_page1_40years/19360829_1.txt extracted\n",
            "elmundo_chunked_es_page1_40years/19360905_1.txt extracted\n",
            "elmundo_chunked_es_page1_40years/19360912_1.txt extracted\n",
            "elmundo_chunked_es_page1_40years/19360919_1.txt extracted\n",
            "elmundo_chunked_es_page1_40years/19360926_1.txt extracted\n",
            "elmundo_chunked_es_page1_40years/19361003_1.txt extracted\n",
            "elmundo_chunked_es_page1_40years/19361010_1.txt extracted\n",
            "elmundo_chunked_es_page1_40years/19361017_1.txt extracted\n",
            "elmundo_chunked_es_page1_40years/19361024_1.txt extracted\n",
            "elmundo_chunked_es_page1_40years/19361031_1.txt extracted\n",
            "elmundo_chunked_es_page1_40years/19361107_1.txt extracted\n",
            "elmundo_chunked_es_page1_40years/19361114_1.txt extracted\n",
            "elmundo_chunked_es_page1_40years/19361121_1.txt extracted\n",
            "elmundo_chunked_es_page1_40years/19361128_1.txt extracted\n",
            "elmundo_chunked_es_page1_40years/19361205_1.txt extracted\n",
            "elmundo_chunked_es_page1_40years/19361212_1.txt extracted\n",
            "elmundo_chunked_es_page1_40years/19361219_1.txt extracted\n",
            "elmundo_chunked_es_page1_40years/19361226_1.txt extracted\n",
            "elmundo_chunked_es_page1_40years/19370102_1.txt extracted\n",
            "elmundo_chunked_es_page1_40years/19370109_1.txt extracted\n",
            "elmundo_chunked_es_page1_40years/19370116_1.txt extracted\n",
            "elmundo_chunked_es_page1_40years/19370123_1.txt extracted\n",
            "elmundo_chunked_es_page1_40years/19370130_1.txt extracted\n",
            "elmundo_chunked_es_page1_40years/19370206_1.txt extracted\n",
            "elmundo_chunked_es_page1_40years/19370213_1.txt extracted\n",
            "elmundo_chunked_es_page1_40years/19370220_1.txt extracted\n",
            "elmundo_chunked_es_page1_40years/19370227_1.txt extracted\n",
            "elmundo_chunked_es_page1_40years/19370306_1.txt extracted\n",
            "elmundo_chunked_es_page1_40years/19370313_1.txt extracted\n",
            "elmundo_chunked_es_page1_40years/19370320_1.txt extracted\n",
            "elmundo_chunked_es_page1_40years/19370327_1.txt extracted\n",
            "elmundo_chunked_es_page1_40years/19370403_1.txt extracted\n",
            "elmundo_chunked_es_page1_40years/19370410_1.txt extracted\n",
            "elmundo_chunked_es_page1_40years/19370417_1.txt extracted\n",
            "elmundo_chunked_es_page1_40years/19370424_1.txt extracted\n",
            "elmundo_chunked_es_page1_40years/19370501_1.txt extracted\n",
            "elmundo_chunked_es_page1_40years/19370508_1.txt extracted\n",
            "elmundo_chunked_es_page1_40years/19370515_1.txt extracted\n",
            "elmundo_chunked_es_page1_40years/19370522_1.txt extracted\n",
            "elmundo_chunked_es_page1_40years/19370529_1.txt extracted\n",
            "elmundo_chunked_es_page1_40years/19370605_1.txt extracted\n",
            "elmundo_chunked_es_page1_40years/19370612_1.txt extracted\n",
            "elmundo_chunked_es_page1_40years/19370619_1.txt extracted\n",
            "elmundo_chunked_es_page1_40years/19370626_1.txt extracted\n",
            "elmundo_chunked_es_page1_40years/19370703_1.txt extracted\n",
            "elmundo_chunked_es_page1_40years/19370710_1.txt extracted\n",
            "elmundo_chunked_es_page1_40years/19370717_1.txt extracted\n",
            "elmundo_chunked_es_page1_40years/19370724_1.txt extracted\n",
            "elmundo_chunked_es_page1_40years/19370731_1.txt extracted\n",
            "elmundo_chunked_es_page1_40years/19370807_1.txt extracted\n",
            "elmundo_chunked_es_page1_40years/19370814_1.txt extracted\n",
            "elmundo_chunked_es_page1_40years/19370821_1.txt extracted\n",
            "elmundo_chunked_es_page1_40years/19370828_1.txt extracted\n",
            "elmundo_chunked_es_page1_40years/19370904_1.txt extracted\n",
            "elmundo_chunked_es_page1_40years/19370911_1.txt extracted\n",
            "elmundo_chunked_es_page1_40years/19370918_1.txt extracted\n",
            "elmundo_chunked_es_page1_40years/19370925_1.txt extracted\n",
            "elmundo_chunked_es_page1_40years/19371002_1.txt extracted\n",
            "elmundo_chunked_es_page1_40years/19371009_1.txt extracted\n",
            "elmundo_chunked_es_page1_40years/19371016_1.txt extracted\n",
            "elmundo_chunked_es_page1_40years/19371023_1.txt extracted\n",
            "elmundo_chunked_es_page1_40years/19371030_1.txt extracted\n",
            "elmundo_chunked_es_page1_40years/19371106_1.txt extracted\n",
            "elmundo_chunked_es_page1_40years/19371113_1.txt extracted\n",
            "elmundo_chunked_es_page1_40years/19371120_1.txt extracted\n",
            "elmundo_chunked_es_page1_40years/19371127_1.txt extracted\n",
            "elmundo_chunked_es_page1_40years/19371204_1.txt extracted\n",
            "elmundo_chunked_es_page1_40years/19371211_1.txt extracted\n",
            "elmundo_chunked_es_page1_40years/19371218_1.txt extracted\n",
            "elmundo_chunked_es_page1_40years/19371225_1.txt extracted\n",
            "elmundo_chunked_es_page1_40years/19380101_1.txt extracted\n",
            "elmundo_chunked_es_page1_40years/19380108_1.txt extracted\n",
            "elmundo_chunked_es_page1_40years/19380115_1.txt extracted\n",
            "elmundo_chunked_es_page1_40years/19380122_1.txt extracted\n",
            "elmundo_chunked_es_page1_40years/19380129_1.txt extracted\n",
            "elmundo_chunked_es_page1_40years/19380205_1.txt extracted\n",
            "elmundo_chunked_es_page1_40years/19380212_1.txt extracted\n",
            "elmundo_chunked_es_page1_40years/19380219_1.txt extracted\n",
            "elmundo_chunked_es_page1_40years/19380226_1.txt extracted\n",
            "elmundo_chunked_es_page1_40years/19380305_1.txt extracted\n",
            "elmundo_chunked_es_page1_40years/19380312_1.txt extracted\n",
            "elmundo_chunked_es_page1_40years/19380319_1.txt extracted\n",
            "elmundo_chunked_es_page1_40years/19380326_1.txt extracted\n",
            "elmundo_chunked_es_page1_40years/19380402_1.txt extracted\n",
            "elmundo_chunked_es_page1_40years/19380409_1.txt extracted\n",
            "elmundo_chunked_es_page1_40years/19380416_1.txt extracted\n",
            "elmundo_chunked_es_page1_40years/19380423_1.txt extracted\n",
            "elmundo_chunked_es_page1_40years/19380430_1.txt extracted\n",
            "elmundo_chunked_es_page1_40years/19380507_1.txt extracted\n",
            "elmundo_chunked_es_page1_40years/19380514_1.txt extracted\n",
            "elmundo_chunked_es_page1_40years/19380521_1.txt extracted\n",
            "elmundo_chunked_es_page1_40years/19380528_1.txt extracted\n",
            "elmundo_chunked_es_page1_40years/19380604_1.txt extracted\n",
            "elmundo_chunked_es_page1_40years/19380611_1.txt extracted\n",
            "elmundo_chunked_es_page1_40years/19380618_1.txt extracted\n",
            "elmundo_chunked_es_page1_40years/19380625_1.txt extracted\n",
            "elmundo_chunked_es_page1_40years/19380702_1.txt extracted\n",
            "elmundo_chunked_es_page1_40years/19380709_1.txt extracted\n",
            "elmundo_chunked_es_page1_40years/19380716_1.txt extracted\n",
            "elmundo_chunked_es_page1_40years/19380723_1.txt extracted\n",
            "elmundo_chunked_es_page1_40years/19380730_1.txt extracted\n",
            "elmundo_chunked_es_page1_40years/19380806_1.txt extracted\n",
            "elmundo_chunked_es_page1_40years/19380813_1.txt extracted\n",
            "elmundo_chunked_es_page1_40years/19380820_1.txt extracted\n",
            "elmundo_chunked_es_page1_40years/19380827_1.txt extracted\n",
            "elmundo_chunked_es_page1_40years/19380903_1.txt extracted\n",
            "elmundo_chunked_es_page1_40years/19380910_1.txt extracted\n",
            "elmundo_chunked_es_page1_40years/19380917_1.txt extracted\n",
            "elmundo_chunked_es_page1_40years/19380924_1.txt extracted\n",
            "elmundo_chunked_es_page1_40years/19381001_1.txt extracted\n",
            "elmundo_chunked_es_page1_40years/19381008_1.txt extracted\n",
            "elmundo_chunked_es_page1_40years/19381015_1.txt extracted\n",
            "elmundo_chunked_es_page1_40years/19381022_1.txt extracted\n",
            "elmundo_chunked_es_page1_40years/19381029_1.txt extracted\n",
            "elmundo_chunked_es_page1_40years/19381105_1.txt extracted\n",
            "elmundo_chunked_es_page1_40years/19381112_1.txt extracted\n",
            "elmundo_chunked_es_page1_40years/19381126_1.txt extracted\n",
            "elmundo_chunked_es_page1_40years/19381203_1.txt extracted\n",
            "elmundo_chunked_es_page1_40years/19381210_1.txt extracted\n",
            "elmundo_chunked_es_page1_40years/19381217_1.txt extracted\n",
            "elmundo_chunked_es_page1_40years/19381224_1.txt extracted\n",
            "elmundo_chunked_es_page1_40years/19381231_1.txt extracted\n",
            "elmundo_chunked_es_page1_40years/19390107_1.txt extracted\n",
            "elmundo_chunked_es_page1_40years/19390114_1.txt extracted\n",
            "elmundo_chunked_es_page1_40years/19390121_1.txt extracted\n",
            "elmundo_chunked_es_page1_40years/19390128_1.txt extracted\n",
            "elmundo_chunked_es_page1_40years/19390204_1.txt extracted\n",
            "elmundo_chunked_es_page1_40years/19390211_1.txt extracted\n",
            "elmundo_chunked_es_page1_40years/19390218_1.txt extracted\n",
            "elmundo_chunked_es_page1_40years/19390225_1.txt extracted\n",
            "elmundo_chunked_es_page1_40years/19390304_1.txt extracted\n",
            "elmundo_chunked_es_page1_40years/19390311_1.txt extracted\n",
            "elmundo_chunked_es_page1_40years/19390318_1.txt extracted\n",
            "elmundo_chunked_es_page1_40years/19390325_1.txt extracted\n",
            "elmundo_chunked_es_page1_40years/19390401_1.txt extracted\n",
            "elmundo_chunked_es_page1_40years/19390408_1.txt extracted\n",
            "elmundo_chunked_es_page1_40years/19390415_1.txt extracted\n",
            "elmundo_chunked_es_page1_40years/19390422_1.txt extracted\n",
            "elmundo_chunked_es_page1_40years/19390429_1.txt extracted\n",
            "elmundo_chunked_es_page1_40years/19390603_1.txt extracted\n",
            "elmundo_chunked_es_page1_40years/19390610_1.txt extracted\n",
            "elmundo_chunked_es_page1_40years/19390617_1.txt extracted\n",
            "elmundo_chunked_es_page1_40years/19390624_1.txt extracted\n",
            "elmundo_chunked_es_page1_40years/19390701_1.txt extracted\n",
            "elmundo_chunked_es_page1_40years/19390708_1.txt extracted\n",
            "elmundo_chunked_es_page1_40years/19390715_1.txt extracted\n",
            "elmundo_chunked_es_page1_40years/19390722_1.txt extracted\n",
            "elmundo_chunked_es_page1_40years/19390729_1.txt extracted\n",
            "elmundo_chunked_es_page1_40years/19390805_1.txt extracted\n",
            "elmundo_chunked_es_page1_40years/19390812_1.txt extracted\n",
            "elmundo_chunked_es_page1_40years/19390819_1.txt extracted\n",
            "elmundo_chunked_es_page1_40years/19390826_1.txt extracted\n",
            "elmundo_chunked_es_page1_40years/19390902_1.txt extracted\n",
            "elmundo_chunked_es_page1_40years/19390909_1.txt extracted\n",
            "elmundo_chunked_es_page1_40years/19390916_1.txt extracted\n",
            "elmundo_chunked_es_page1_40years/19390923_1.txt extracted\n",
            "elmundo_chunked_es_page1_40years/19390930_1.txt extracted\n",
            "elmundo_chunked_es_page1_40years/19391007_1.txt extracted\n",
            "elmundo_chunked_es_page1_40years/19391014_1.txt extracted\n",
            "elmundo_chunked_es_page1_40years/19391021_1.txt extracted\n",
            "elmundo_chunked_es_page1_40years/19391104_1.txt extracted\n",
            "elmundo_chunked_es_page1_40years/19391111_1.txt extracted\n",
            "elmundo_chunked_es_page1_40years/19391118_1.txt extracted\n",
            "elmundo_chunked_es_page1_40years/19391125_1.txt extracted\n",
            "elmundo_chunked_es_page1_40years/19391202_1.txt extracted\n",
            "elmundo_chunked_es_page1_40years/19391209_1.txt extracted\n",
            "elmundo_chunked_es_page1_40years/19391216_1.txt extracted\n",
            "elmundo_chunked_es_page1_40years/19391223_1.txt extracted\n",
            "elmundo_chunked_es_page1_40years/19391230_1.txt extracted\n",
            "elmundo_chunked_es_page1_40years/19400106_1.txt extracted\n",
            "elmundo_chunked_es_page1_40years/19400113_1.txt extracted\n",
            "elmundo_chunked_es_page1_40years/19400120_1.txt extracted\n",
            "elmundo_chunked_es_page1_40years/19400127_1.txt extracted\n",
            "elmundo_chunked_es_page1_40years/19400203_1.txt extracted\n",
            "elmundo_chunked_es_page1_40years/19400210_1.txt extracted\n",
            "elmundo_chunked_es_page1_40years/19400217_1.txt extracted\n",
            "elmundo_chunked_es_page1_40years/19400224_1.txt extracted\n",
            "elmundo_chunked_es_page1_40years/19400302_1.txt extracted\n",
            "elmundo_chunked_es_page1_40years/19400309_1.txt extracted\n",
            "elmundo_chunked_es_page1_40years/19400316_1.txt extracted\n",
            "elmundo_chunked_es_page1_40years/19400323_1.txt extracted\n",
            "elmundo_chunked_es_page1_40years/19400330_1.txt extracted\n",
            "elmundo_chunked_es_page1_40years/19400406_1.txt extracted\n",
            "elmundo_chunked_es_page1_40years/19400413_1.txt extracted\n",
            "elmundo_chunked_es_page1_40years/19400420_1.txt extracted\n",
            "elmundo_chunked_es_page1_40years/19400427_1.txt extracted\n",
            "elmundo_chunked_es_page1_40years/19400504_1.txt extracted\n",
            "elmundo_chunked_es_page1_40years/19400511_1.txt extracted\n",
            "elmundo_chunked_es_page1_40years/19400518_1.txt extracted\n",
            "elmundo_chunked_es_page1_40years/19400525_1.txt extracted\n",
            "elmundo_chunked_es_page1_40years/19400601_1.txt extracted\n",
            "elmundo_chunked_es_page1_40years/19400608_1.txt extracted\n",
            "elmundo_chunked_es_page1_40years/19400615_1.txt extracted\n",
            "elmundo_chunked_es_page1_40years/19400622_1.txt extracted\n",
            "elmundo_chunked_es_page1_40years/19400629_1.txt extracted\n",
            "elmundo_chunked_es_page1_40years/19400706_1.txt extracted\n",
            "elmundo_chunked_es_page1_40years/19400713_1.txt extracted\n",
            "elmundo_chunked_es_page1_40years/19400720_1.txt extracted\n",
            "elmundo_chunked_es_page1_40years/19400727_1.txt extracted\n",
            "elmundo_chunked_es_page1_40years/19400803_1.txt extracted\n",
            "elmundo_chunked_es_page1_40years/19400810_1.txt extracted\n",
            "elmundo_chunked_es_page1_40years/19400817_1.txt extracted\n",
            "elmundo_chunked_es_page1_40years/19400824_1.txt extracted\n",
            "elmundo_chunked_es_page1_40years/19400831_1.txt extracted\n",
            "elmundo_chunked_es_page1_40years/19400907_1.txt extracted\n",
            "elmundo_chunked_es_page1_40years/19400914_1.txt extracted\n",
            "elmundo_chunked_es_page1_40years/19400921_1.txt extracted\n",
            "elmundo_chunked_es_page1_40years/19400928_1.txt extracted\n",
            "elmundo_chunked_es_page1_40years/19401005_1.txt extracted\n",
            "elmundo_chunked_es_page1_40years/19401012_1.txt extracted\n",
            "elmundo_chunked_es_page1_40years/19401019_1.txt extracted\n",
            "elmundo_chunked_es_page1_40years/19401026_1.txt extracted\n",
            "elmundo_chunked_es_page1_40years/19401102_1.txt extracted\n",
            "elmundo_chunked_es_page1_40years/19401109_1.txt extracted\n",
            "elmundo_chunked_es_page1_40years/19401116_1.txt extracted\n",
            "elmundo_chunked_es_page1_40years/19401123_1.txt extracted\n",
            "elmundo_chunked_es_page1_40years/19401130_1.txt extracted\n",
            "elmundo_chunked_es_page1_40years/19401207_1.txt extracted\n",
            "elmundo_chunked_es_page1_40years/19401214_1.txt extracted\n",
            "elmundo_chunked_es_page1_40years/19401221_1.txt extracted\n",
            "elmundo_chunked_es_page1_40years/19401228_1.txt extracted\n",
            "elmundo_chunked_es_page1_40years/19410104_1.txt extracted\n",
            "elmundo_chunked_es_page1_40years/19410111_1.txt extracted\n",
            "elmundo_chunked_es_page1_40years/19410118_1.txt extracted\n",
            "elmundo_chunked_es_page1_40years/19410125_1.txt extracted\n",
            "elmundo_chunked_es_page1_40years/19410201_1.txt extracted\n",
            "elmundo_chunked_es_page1_40years/19410208_1.txt extracted\n",
            "elmundo_chunked_es_page1_40years/19410215_1.txt extracted\n",
            "elmundo_chunked_es_page1_40years/19410222_1.txt extracted\n",
            "elmundo_chunked_es_page1_40years/19410301_1.txt extracted\n",
            "elmundo_chunked_es_page1_40years/19410308_1.txt extracted\n",
            "elmundo_chunked_es_page1_40years/19410315_1.txt extracted\n",
            "elmundo_chunked_es_page1_40years/19410322_1.txt extracted\n",
            "elmundo_chunked_es_page1_40years/19410329_1.txt extracted\n",
            "elmundo_chunked_es_page1_40years/19410412_1.txt extracted\n",
            "elmundo_chunked_es_page1_40years/19410419_1.txt extracted\n",
            "elmundo_chunked_es_page1_40years/19410426_1.txt extracted\n",
            "elmundo_chunked_es_page1_40years/19410503_1.txt extracted\n",
            "elmundo_chunked_es_page1_40years/19410510_1.txt extracted\n",
            "elmundo_chunked_es_page1_40years/19410517_1.txt extracted\n",
            "elmundo_chunked_es_page1_40years/19410524_1.txt extracted\n",
            "elmundo_chunked_es_page1_40years/19410531_1.txt extracted\n",
            "elmundo_chunked_es_page1_40years/19410607_1.txt extracted\n",
            "elmundo_chunked_es_page1_40years/19410614_1.txt extracted\n",
            "elmundo_chunked_es_page1_40years/19410621_1.txt extracted\n",
            "elmundo_chunked_es_page1_40years/19410628_1.txt extracted\n",
            "elmundo_chunked_es_page1_40years/19410705_1.txt extracted\n",
            "elmundo_chunked_es_page1_40years/19410712_1.txt extracted\n",
            "elmundo_chunked_es_page1_40years/19410719_1.txt extracted\n",
            "elmundo_chunked_es_page1_40years/19410726_1.txt extracted\n",
            "elmundo_chunked_es_page1_40years/19410802_1.txt extracted\n",
            "elmundo_chunked_es_page1_40years/19410809_1.txt extracted\n",
            "elmundo_chunked_es_page1_40years/19410816_1.txt extracted\n",
            "elmundo_chunked_es_page1_40years/19410823_1.txt extracted\n",
            "elmundo_chunked_es_page1_40years/19410830_1.txt extracted\n",
            "elmundo_chunked_es_page1_40years/19410906_1.txt extracted\n",
            "elmundo_chunked_es_page1_40years/19410913_1.txt extracted\n",
            "elmundo_chunked_es_page1_40years/19410920_1.txt extracted\n",
            "elmundo_chunked_es_page1_40years/19410927_1.txt extracted\n",
            "elmundo_chunked_es_page1_40years/19411004_1.txt extracted\n",
            "elmundo_chunked_es_page1_40years/19411011_1.txt extracted\n",
            "elmundo_chunked_es_page1_40years/19411018_1.txt extracted\n",
            "elmundo_chunked_es_page1_40years/19411025_1.txt extracted\n",
            "elmundo_chunked_es_page1_40years/19411101_1.txt extracted\n",
            "elmundo_chunked_es_page1_40years/19411108_1.txt extracted\n",
            "elmundo_chunked_es_page1_40years/19411115_1.txt extracted\n",
            "elmundo_chunked_es_page1_40years/19411122_1.txt extracted\n",
            "elmundo_chunked_es_page1_40years/19411129_1.txt extracted\n",
            "elmundo_chunked_es_page1_40years/19411206_1.txt extracted\n",
            "elmundo_chunked_es_page1_40years/19411213_1.txt extracted\n",
            "elmundo_chunked_es_page1_40years/19411220_1.txt extracted\n",
            "elmundo_chunked_es_page1_40years/19411227_1.txt extracted\n",
            "elmundo_chunked_es_page1_40years/19420103_1.txt extracted\n",
            "elmundo_chunked_es_page1_40years/19420110_1.txt extracted\n",
            "elmundo_chunked_es_page1_40years/19420117_1.txt extracted\n",
            "elmundo_chunked_es_page1_40years/19420124_1.txt extracted\n",
            "elmundo_chunked_es_page1_40years/19420131_1.txt extracted\n",
            "elmundo_chunked_es_page1_40years/19420207_1.txt extracted\n",
            "elmundo_chunked_es_page1_40years/19420214_1.txt extracted\n",
            "elmundo_chunked_es_page1_40years/19420221_1.txt extracted\n",
            "elmundo_chunked_es_page1_40years/19420228_1.txt extracted\n",
            "elmundo_chunked_es_page1_40years/19420307_1.txt extracted\n",
            "elmundo_chunked_es_page1_40years/19420314_1.txt extracted\n",
            "elmundo_chunked_es_page1_40years/19420321_1.txt extracted\n",
            "elmundo_chunked_es_page1_40years/19420328_1.txt extracted\n",
            "elmundo_chunked_es_page1_40years/19420404_1.txt extracted\n",
            "elmundo_chunked_es_page1_40years/19420411_1.txt extracted\n",
            "elmundo_chunked_es_page1_40years/19420418_1.txt extracted\n",
            "elmundo_chunked_es_page1_40years/19420425_1.txt extracted\n",
            "elmundo_chunked_es_page1_40years/19420502_1.txt extracted\n",
            "elmundo_chunked_es_page1_40years/19420509_1.txt extracted\n",
            "elmundo_chunked_es_page1_40years/19420516_1.txt extracted\n",
            "elmundo_chunked_es_page1_40years/19420523_1.txt extracted\n",
            "elmundo_chunked_es_page1_40years/19420530_1.txt extracted\n",
            "elmundo_chunked_es_page1_40years/19420606_1.txt extracted\n",
            "elmundo_chunked_es_page1_40years/19420613_1.txt extracted\n",
            "elmundo_chunked_es_page1_40years/19420620_1.txt extracted\n",
            "elmundo_chunked_es_page1_40years/19420627_1.txt extracted\n",
            "elmundo_chunked_es_page1_40years/19420711_1.txt extracted\n",
            "elmundo_chunked_es_page1_40years/19420718_1.txt extracted\n",
            "elmundo_chunked_es_page1_40years/19420725_1.txt extracted\n",
            "elmundo_chunked_es_page1_40years/19420801_1.txt extracted\n",
            "elmundo_chunked_es_page1_40years/19420808_1.txt extracted\n",
            "elmundo_chunked_es_page1_40years/19420815_1.txt extracted\n",
            "elmundo_chunked_es_page1_40years/19420822_1.txt extracted\n",
            "elmundo_chunked_es_page1_40years/19420829_1.txt extracted\n",
            "elmundo_chunked_es_page1_40years/19420905_1.txt extracted\n",
            "elmundo_chunked_es_page1_40years/19420912_1.txt extracted\n",
            "elmundo_chunked_es_page1_40years/19420919_1.txt extracted\n",
            "elmundo_chunked_es_page1_40years/19420926_1.txt extracted\n",
            "elmundo_chunked_es_page1_40years/19421003_1.txt extracted\n",
            "elmundo_chunked_es_page1_40years/19421010_1.txt extracted\n",
            "elmundo_chunked_es_page1_40years/19421017_1.txt extracted\n",
            "elmundo_chunked_es_page1_40years/19421024_1.txt extracted\n",
            "elmundo_chunked_es_page1_40years/19421031_1.txt extracted\n",
            "elmundo_chunked_es_page1_40years/19421107_1.txt extracted\n",
            "elmundo_chunked_es_page1_40years/19421114_1.txt extracted\n",
            "elmundo_chunked_es_page1_40years/19421121_1.txt extracted\n",
            "elmundo_chunked_es_page1_40years/19421128_1.txt extracted\n",
            "elmundo_chunked_es_page1_40years/19421205_1.txt extracted\n",
            "elmundo_chunked_es_page1_40years/19421212_1.txt extracted\n",
            "elmundo_chunked_es_page1_40years/19421219_1.txt extracted\n",
            "elmundo_chunked_es_page1_40years/19421226_1.txt extracted\n",
            "elmundo_chunked_es_page1_40years/19430102_1.txt extracted\n",
            "elmundo_chunked_es_page1_40years/19430109_1.txt extracted\n",
            "elmundo_chunked_es_page1_40years/19430116_1.txt extracted\n",
            "elmundo_chunked_es_page1_40years/19430123_1.txt extracted\n",
            "elmundo_chunked_es_page1_40years/19430130_1.txt extracted\n",
            "elmundo_chunked_es_page1_40years/19430206_1.txt extracted\n",
            "elmundo_chunked_es_page1_40years/19430213_1.txt extracted\n",
            "elmundo_chunked_es_page1_40years/19430220_1.txt extracted\n",
            "elmundo_chunked_es_page1_40years/19430227_1.txt extracted\n",
            "elmundo_chunked_es_page1_40years/19430306_1.txt extracted\n",
            "elmundo_chunked_es_page1_40years/19430313_1.txt extracted\n",
            "elmundo_chunked_es_page1_40years/19430320_1.txt extracted\n",
            "elmundo_chunked_es_page1_40years/19430327_1.txt extracted\n",
            "elmundo_chunked_es_page1_40years/19430403_1.txt extracted\n",
            "elmundo_chunked_es_page1_40years/19430410_1.txt extracted\n",
            "elmundo_chunked_es_page1_40years/19430417_1.txt extracted\n",
            "elmundo_chunked_es_page1_40years/19430424_1.txt extracted\n",
            "elmundo_chunked_es_page1_40years/19430501_1.txt extracted\n",
            "elmundo_chunked_es_page1_40years/19430508_1.txt extracted\n",
            "elmundo_chunked_es_page1_40years/19430515_1.txt extracted\n",
            "elmundo_chunked_es_page1_40years/19430522_1.txt extracted\n",
            "elmundo_chunked_es_page1_40years/19430529_1.txt extracted\n",
            "elmundo_chunked_es_page1_40years/19430605_1.txt extracted\n",
            "elmundo_chunked_es_page1_40years/19430612_1.txt extracted\n",
            "elmundo_chunked_es_page1_40years/19430619_1.txt extracted\n",
            "elmundo_chunked_es_page1_40years/19430626_1.txt extracted\n",
            "elmundo_chunked_es_page1_40years/19430703_1.txt extracted\n",
            "elmundo_chunked_es_page1_40years/19430710_1.txt extracted\n",
            "elmundo_chunked_es_page1_40years/19430717_1.txt extracted\n",
            "elmundo_chunked_es_page1_40years/19430724_1.txt extracted\n",
            "elmundo_chunked_es_page1_40years/19430731_1.txt extracted\n",
            "elmundo_chunked_es_page1_40years/19430807_1.txt extracted\n",
            "elmundo_chunked_es_page1_40years/19430814_1.txt extracted\n",
            "elmundo_chunked_es_page1_40years/19430821_1.txt extracted\n",
            "elmundo_chunked_es_page1_40years/19430828_1.txt extracted\n",
            "elmundo_chunked_es_page1_40years/19430904_1.txt extracted\n",
            "elmundo_chunked_es_page1_40years/19430911_1.txt extracted\n",
            "elmundo_chunked_es_page1_40years/19430918_1.txt extracted\n",
            "elmundo_chunked_es_page1_40years/19430925_1.txt extracted\n",
            "elmundo_chunked_es_page1_40years/19431002_1.txt extracted\n",
            "elmundo_chunked_es_page1_40years/19431009_1.txt extracted\n",
            "elmundo_chunked_es_page1_40years/19431016_1.txt extracted\n",
            "elmundo_chunked_es_page1_40years/19431023_1.txt extracted\n",
            "elmundo_chunked_es_page1_40years/19431030_1.txt extracted\n",
            "elmundo_chunked_es_page1_40years/19431106_1.txt extracted\n",
            "elmundo_chunked_es_page1_40years/19431113_1.txt extracted\n",
            "elmundo_chunked_es_page1_40years/19431120_1.txt extracted\n",
            "elmundo_chunked_es_page1_40years/19431127_1.txt extracted\n",
            "elmundo_chunked_es_page1_40years/19431204_1.txt extracted\n",
            "elmundo_chunked_es_page1_40years/19431211_1.txt extracted\n",
            "elmundo_chunked_es_page1_40years/19431218_1.txt extracted\n",
            "elmundo_chunked_es_page1_40years/19440108_1.txt extracted\n",
            "elmundo_chunked_es_page1_40years/19440115_1.txt extracted\n",
            "elmundo_chunked_es_page1_40years/19440122_1.txt extracted\n",
            "elmundo_chunked_es_page1_40years/19440129_1.txt extracted\n",
            "elmundo_chunked_es_page1_40years/19440205_1.txt extracted\n",
            "elmundo_chunked_es_page1_40years/19440212_1.txt extracted\n",
            "elmundo_chunked_es_page1_40years/19440219_1.txt extracted\n",
            "elmundo_chunked_es_page1_40years/19440226_1.txt extracted\n",
            "elmundo_chunked_es_page1_40years/19440304_1.txt extracted\n",
            "elmundo_chunked_es_page1_40years/19440311_1.txt extracted\n",
            "elmundo_chunked_es_page1_40years/19440318_1.txt extracted\n",
            "elmundo_chunked_es_page1_40years/19440325_1.txt extracted\n",
            "elmundo_chunked_es_page1_40years/19440401_1.txt extracted\n",
            "elmundo_chunked_es_page1_40years/19440408_1.txt extracted\n",
            "elmundo_chunked_es_page1_40years/19440415_1.txt extracted\n",
            "elmundo_chunked_es_page1_40years/19440422_1.txt extracted\n",
            "elmundo_chunked_es_page1_40years/19440429_1.txt extracted\n",
            "elmundo_chunked_es_page1_40years/19440506_1.txt extracted\n",
            "elmundo_chunked_es_page1_40years/19440513_1.txt extracted\n",
            "elmundo_chunked_es_page1_40years/19440520_1.txt extracted\n",
            "elmundo_chunked_es_page1_40years/19440527_1.txt extracted\n",
            "elmundo_chunked_es_page1_40years/19440603_1.txt extracted\n",
            "elmundo_chunked_es_page1_40years/19440610_1.txt extracted\n",
            "elmundo_chunked_es_page1_40years/19440617_1.txt extracted\n",
            "elmundo_chunked_es_page1_40years/19440624_1.txt extracted\n",
            "elmundo_chunked_es_page1_40years/19440701_1.txt extracted\n",
            "elmundo_chunked_es_page1_40years/19440708_1.txt extracted\n",
            "elmundo_chunked_es_page1_40years/19440715_1.txt extracted\n",
            "elmundo_chunked_es_page1_40years/19440722_1.txt extracted\n",
            "elmundo_chunked_es_page1_40years/19440729_1.txt extracted\n",
            "elmundo_chunked_es_page1_40years/19440805_1.txt extracted\n",
            "elmundo_chunked_es_page1_40years/19440812_1.txt extracted\n",
            "elmundo_chunked_es_page1_40years/19440819_1.txt extracted\n",
            "elmundo_chunked_es_page1_40years/19440826_1.txt extracted\n",
            "elmundo_chunked_es_page1_40years/19440902_1.txt extracted\n",
            "elmundo_chunked_es_page1_40years/19440909_1.txt extracted\n",
            "elmundo_chunked_es_page1_40years/19440916_1.txt extracted\n",
            "elmundo_chunked_es_page1_40years/19440923_1.txt extracted\n",
            "elmundo_chunked_es_page1_40years/19440930_1.txt extracted\n",
            "elmundo_chunked_es_page1_40years/19441007_1.txt extracted\n",
            "elmundo_chunked_es_page1_40years/19441014_1.txt extracted\n",
            "elmundo_chunked_es_page1_40years/19441021_1.txt extracted\n",
            "elmundo_chunked_es_page1_40years/19441028_1.txt extracted\n",
            "elmundo_chunked_es_page1_40years/19441104_1.txt extracted\n",
            "elmundo_chunked_es_page1_40years/19441111_1.txt extracted\n",
            "elmundo_chunked_es_page1_40years/19441118_1.txt extracted\n",
            "elmundo_chunked_es_page1_40years/19441125_1.txt extracted\n",
            "elmundo_chunked_es_page1_40years/19441202_1.txt extracted\n",
            "elmundo_chunked_es_page1_40years/19441209_1.txt extracted\n",
            "elmundo_chunked_es_page1_40years/19441216_1.txt extracted\n",
            "elmundo_chunked_es_page1_40years/19441223_1.txt extracted\n",
            "elmundo_chunked_es_page1_40years/19441230_1.txt extracted\n",
            "elmundo_chunked_es_page1_40years/19450106_1.txt extracted\n",
            "elmundo_chunked_es_page1_40years/19450113_1.txt extracted\n",
            "elmundo_chunked_es_page1_40years/19450120_1.txt extracted\n",
            "elmundo_chunked_es_page1_40years/19450127_1.txt extracted\n",
            "elmundo_chunked_es_page1_40years/19450203_1.txt extracted\n",
            "elmundo_chunked_es_page1_40years/19450210_1.txt extracted\n",
            "elmundo_chunked_es_page1_40years/19450217_1.txt extracted\n",
            "elmundo_chunked_es_page1_40years/19450224_1.txt extracted\n",
            "elmundo_chunked_es_page1_40years/19450303_1.txt extracted\n",
            "elmundo_chunked_es_page1_40years/19450310_1.txt extracted\n",
            "elmundo_chunked_es_page1_40years/19450317_1.txt extracted\n",
            "elmundo_chunked_es_page1_40years/19450324_1.txt extracted\n",
            "elmundo_chunked_es_page1_40years/19450331_1.txt extracted\n",
            "elmundo_chunked_es_page1_40years/19450407_1.txt extracted\n",
            "elmundo_chunked_es_page1_40years/19450414_1.txt extracted\n",
            "elmundo_chunked_es_page1_40years/19450421_1.txt extracted\n",
            "elmundo_chunked_es_page1_40years/19450428_1.txt extracted\n",
            "elmundo_chunked_es_page1_40years/19450505_1.txt extracted\n",
            "elmundo_chunked_es_page1_40years/19450512_1.txt extracted\n",
            "elmundo_chunked_es_page1_40years/19450519_1.txt extracted\n",
            "elmundo_chunked_es_page1_40years/19450526_1.txt extracted\n",
            "elmundo_chunked_es_page1_40years/19450602_1.txt extracted\n",
            "elmundo_chunked_es_page1_40years/19450609_1.txt extracted\n",
            "elmundo_chunked_es_page1_40years/19450616_1.txt extracted\n",
            "elmundo_chunked_es_page1_40years/19450623_1.txt extracted\n",
            "elmundo_chunked_es_page1_40years/19450630_1.txt extracted\n",
            "elmundo_chunked_es_page1_40years/19450707_1.txt extracted\n",
            "elmundo_chunked_es_page1_40years/19450714_1.txt extracted\n",
            "elmundo_chunked_es_page1_40years/19450721_1.txt extracted\n",
            "elmundo_chunked_es_page1_40years/19450728_1.txt extracted\n",
            "elmundo_chunked_es_page1_40years/19450804_1.txt extracted\n",
            "elmundo_chunked_es_page1_40years/19450811_1.txt extracted\n",
            "elmundo_chunked_es_page1_40years/19450818_1.txt extracted\n",
            "elmundo_chunked_es_page1_40years/19450825_1.txt extracted\n",
            "elmundo_chunked_es_page1_40years/19450901_1.txt extracted\n",
            "elmundo_chunked_es_page1_40years/19450908_1.txt extracted\n",
            "elmundo_chunked_es_page1_40years/19450915_1.txt extracted\n",
            "elmundo_chunked_es_page1_40years/19450922_1.txt extracted\n",
            "elmundo_chunked_es_page1_40years/19450929_1.txt extracted\n",
            "elmundo_chunked_es_page1_40years/19451006_1.txt extracted\n",
            "elmundo_chunked_es_page1_40years/19451013_1.txt extracted\n",
            "elmundo_chunked_es_page1_40years/19451020_1.txt extracted\n",
            "elmundo_chunked_es_page1_40years/19451027_1.txt extracted\n",
            "elmundo_chunked_es_page1_40years/19451103_1.txt extracted\n",
            "elmundo_chunked_es_page1_40years/19451110_1.txt extracted\n",
            "elmundo_chunked_es_page1_40years/19451117_1.txt extracted\n",
            "elmundo_chunked_es_page1_40years/19451124_1.txt extracted\n",
            "elmundo_chunked_es_page1_40years/19451201_1.txt extracted\n",
            "elmundo_chunked_es_page1_40years/19451208_1.txt extracted\n",
            "elmundo_chunked_es_page1_40years/19451215_1.txt extracted\n",
            "elmundo_chunked_es_page1_40years/19451222_1.txt extracted\n",
            "elmundo_chunked_es_page1_40years/19451229_1.txt extracted\n",
            "elmundo_chunked_es_page1_40years/19460105_1.txt extracted\n",
            "elmundo_chunked_es_page1_40years/19460112_1.txt extracted\n",
            "elmundo_chunked_es_page1_40years/19460119_1.txt extracted\n",
            "elmundo_chunked_es_page1_40years/19460126_1.txt extracted\n",
            "elmundo_chunked_es_page1_40years/19460202_1.txt extracted\n",
            "elmundo_chunked_es_page1_40years/19460209_1.txt extracted\n",
            "elmundo_chunked_es_page1_40years/19460216_1.txt extracted\n",
            "elmundo_chunked_es_page1_40years/19460223_1.txt extracted\n",
            "elmundo_chunked_es_page1_40years/19460302_1.txt extracted\n",
            "elmundo_chunked_es_page1_40years/19460309_1.txt extracted\n",
            "elmundo_chunked_es_page1_40years/19460316_1.txt extracted\n",
            "elmundo_chunked_es_page1_40years/19460323_1.txt extracted\n",
            "elmundo_chunked_es_page1_40years/19460330_1.txt extracted\n",
            "elmundo_chunked_es_page1_40years/19460406_1.txt extracted\n",
            "elmundo_chunked_es_page1_40years/19460413_1.txt extracted\n",
            "elmundo_chunked_es_page1_40years/19460420_1.txt extracted\n",
            "elmundo_chunked_es_page1_40years/19460427_1.txt extracted\n",
            "elmundo_chunked_es_page1_40years/19460504_1.txt extracted\n",
            "elmundo_chunked_es_page1_40years/19460511_1.txt extracted\n",
            "elmundo_chunked_es_page1_40years/19460518_1.txt extracted\n",
            "elmundo_chunked_es_page1_40years/19460525_1.txt extracted\n",
            "elmundo_chunked_es_page1_40years/19460601_1.txt extracted\n",
            "elmundo_chunked_es_page1_40years/19460608_1.txt extracted\n",
            "elmundo_chunked_es_page1_40years/19460615_1.txt extracted\n",
            "elmundo_chunked_es_page1_40years/19460622_1.txt extracted\n",
            "elmundo_chunked_es_page1_40years/19460629_1.txt extracted\n",
            "elmundo_chunked_es_page1_40years/19460706_1.txt extracted\n",
            "elmundo_chunked_es_page1_40years/19460713_1.txt extracted\n",
            "elmundo_chunked_es_page1_40years/19460720_1.txt extracted\n",
            "elmundo_chunked_es_page1_40years/19460727_1.txt extracted\n",
            "elmundo_chunked_es_page1_40years/19460803_1.txt extracted\n",
            "elmundo_chunked_es_page1_40years/19460810_1.txt extracted\n",
            "elmundo_chunked_es_page1_40years/19460817_1.txt extracted\n",
            "elmundo_chunked_es_page1_40years/19460824_1.txt extracted\n",
            "elmundo_chunked_es_page1_40years/19460831_1.txt extracted\n",
            "elmundo_chunked_es_page1_40years/19460907_1.txt extracted\n",
            "elmundo_chunked_es_page1_40years/19460914_1.txt extracted\n",
            "elmundo_chunked_es_page1_40years/19460921_1.txt extracted\n",
            "elmundo_chunked_es_page1_40years/19460928_1.txt extracted\n",
            "elmundo_chunked_es_page1_40years/19461005_1.txt extracted\n",
            "elmundo_chunked_es_page1_40years/19461012_1.txt extracted\n",
            "elmundo_chunked_es_page1_40years/19461019_1.txt extracted\n",
            "elmundo_chunked_es_page1_40years/19461026_1.txt extracted\n",
            "elmundo_chunked_es_page1_40years/19461102_1.txt extracted\n",
            "elmundo_chunked_es_page1_40years/19461109_1.txt extracted\n",
            "elmundo_chunked_es_page1_40years/19461116_1.txt extracted\n",
            "elmundo_chunked_es_page1_40years/19461123_1.txt extracted\n",
            "elmundo_chunked_es_page1_40years/19461130_1.txt extracted\n",
            "elmundo_chunked_es_page1_40years/19461207_1.txt extracted\n",
            "elmundo_chunked_es_page1_40years/19461214_1.txt extracted\n",
            "elmundo_chunked_es_page1_40years/19461221_1.txt extracted\n",
            "elmundo_chunked_es_page1_40years/19461228_1.txt extracted\n",
            "elmundo_chunked_es_page1_40years/19470104_1.txt extracted\n",
            "elmundo_chunked_es_page1_40years/19470111_1.txt extracted\n",
            "elmundo_chunked_es_page1_40years/19470118_1.txt extracted\n",
            "elmundo_chunked_es_page1_40years/19470125_1.txt extracted\n",
            "elmundo_chunked_es_page1_40years/19470201_1.txt extracted\n",
            "elmundo_chunked_es_page1_40years/19470208_1.txt extracted\n",
            "elmundo_chunked_es_page1_40years/19470215_1.txt extracted\n",
            "elmundo_chunked_es_page1_40years/19470222_1.txt extracted\n",
            "elmundo_chunked_es_page1_40years/19470301_1.txt extracted\n",
            "elmundo_chunked_es_page1_40years/19470308_1.txt extracted\n",
            "elmundo_chunked_es_page1_40years/19470315_1.txt extracted\n",
            "elmundo_chunked_es_page1_40years/19470322_1.txt extracted\n",
            "elmundo_chunked_es_page1_40years/19470329_1.txt extracted\n",
            "elmundo_chunked_es_page1_40years/19470405_1.txt extracted\n",
            "elmundo_chunked_es_page1_40years/19470412_1.txt extracted\n",
            "elmundo_chunked_es_page1_40years/19470419_1.txt extracted\n",
            "elmundo_chunked_es_page1_40years/19470426_1.txt extracted\n",
            "elmundo_chunked_es_page1_40years/19470503_1.txt extracted\n",
            "elmundo_chunked_es_page1_40years/19470510_1.txt extracted\n",
            "elmundo_chunked_es_page1_40years/19470517_1.txt extracted\n",
            "elmundo_chunked_es_page1_40years/19470524_1.txt extracted\n",
            "elmundo_chunked_es_page1_40years/19470531_1.txt extracted\n",
            "elmundo_chunked_es_page1_40years/19470607_1.txt extracted\n",
            "elmundo_chunked_es_page1_40years/19470614_1.txt extracted\n",
            "elmundo_chunked_es_page1_40years/19470621_1.txt extracted\n",
            "elmundo_chunked_es_page1_40years/19470628_1.txt extracted\n",
            "elmundo_chunked_es_page1_40years/19470705_1.txt extracted\n",
            "elmundo_chunked_es_page1_40years/19470712_1.txt extracted\n",
            "elmundo_chunked_es_page1_40years/19470719_1.txt extracted\n",
            "elmundo_chunked_es_page1_40years/19470726_1.txt extracted\n",
            "elmundo_chunked_es_page1_40years/19470802_1.txt extracted\n",
            "elmundo_chunked_es_page1_40years/19470809_1.txt extracted\n",
            "elmundo_chunked_es_page1_40years/19470816_1.txt extracted\n",
            "elmundo_chunked_es_page1_40years/19470823_1.txt extracted\n",
            "elmundo_chunked_es_page1_40years/19470830_1.txt extracted\n",
            "elmundo_chunked_es_page1_40years/19470906_1.txt extracted\n",
            "elmundo_chunked_es_page1_40years/19470913_1.txt extracted\n",
            "elmundo_chunked_es_page1_40years/19470920_1.txt extracted\n",
            "elmundo_chunked_es_page1_40years/19470927_1.txt extracted\n",
            "elmundo_chunked_es_page1_40years/19471004_1.txt extracted\n",
            "elmundo_chunked_es_page1_40years/19471011_1.txt extracted\n",
            "elmundo_chunked_es_page1_40years/19471018_1.txt extracted\n",
            "elmundo_chunked_es_page1_40years/19471025_1.txt extracted\n",
            "elmundo_chunked_es_page1_40years/19471101_1.txt extracted\n",
            "elmundo_chunked_es_page1_40years/19471108_1.txt extracted\n",
            "elmundo_chunked_es_page1_40years/19471115_1.txt extracted\n",
            "elmundo_chunked_es_page1_40years/19471122_1.txt extracted\n",
            "elmundo_chunked_es_page1_40years/19471129_1.txt extracted\n",
            "elmundo_chunked_es_page1_40years/19471206_1.txt extracted\n",
            "elmundo_chunked_es_page1_40years/19471213_1.txt extracted\n",
            "elmundo_chunked_es_page1_40years/19471220_1.txt extracted\n",
            "elmundo_chunked_es_page1_40years/19471227_1.txt extracted\n",
            "elmundo_chunked_es_page1_40years/19480103_1.txt extracted\n",
            "elmundo_chunked_es_page1_40years/19480110_1.txt extracted\n",
            "elmundo_chunked_es_page1_40years/19480117_1.txt extracted\n",
            "elmundo_chunked_es_page1_40years/19480124_1.txt extracted\n",
            "elmundo_chunked_es_page1_40years/19480131_1.txt extracted\n",
            "elmundo_chunked_es_page1_40years/19480207_1.txt extracted\n",
            "elmundo_chunked_es_page1_40years/19480214_1.txt extracted\n",
            "elmundo_chunked_es_page1_40years/19480221_1.txt extracted\n",
            "elmundo_chunked_es_page1_40years/19480228_1.txt extracted\n",
            "elmundo_chunked_es_page1_40years/19480306_1.txt extracted\n",
            "elmundo_chunked_es_page1_40years/19480313_1.txt extracted\n",
            "elmundo_chunked_es_page1_40years/19480320_1.txt extracted\n",
            "elmundo_chunked_es_page1_40years/19480327_1.txt extracted\n",
            "elmundo_chunked_es_page1_40years/19480403_1.txt extracted\n",
            "elmundo_chunked_es_page1_40years/19480410_1.txt extracted\n",
            "elmundo_chunked_es_page1_40years/19480417_1.txt extracted\n",
            "elmundo_chunked_es_page1_40years/19480424_1.txt extracted\n",
            "elmundo_chunked_es_page1_40years/19480501_1.txt extracted\n",
            "elmundo_chunked_es_page1_40years/19480508_1.txt extracted\n",
            "elmundo_chunked_es_page1_40years/19480515_1.txt extracted\n",
            "elmundo_chunked_es_page1_40years/19480522_1.txt extracted\n",
            "elmundo_chunked_es_page1_40years/19480529_1.txt extracted\n",
            "elmundo_chunked_es_page1_40years/19480605_1.txt extracted\n",
            "elmundo_chunked_es_page1_40years/19480612_1.txt extracted\n",
            "elmundo_chunked_es_page1_40years/19480619_1.txt extracted\n",
            "elmundo_chunked_es_page1_40years/19480626_1.txt extracted\n",
            "elmundo_chunked_es_page1_40years/19480703_1.txt extracted\n",
            "elmundo_chunked_es_page1_40years/19480710_1.txt extracted\n",
            "elmundo_chunked_es_page1_40years/19480717_1.txt extracted\n",
            "elmundo_chunked_es_page1_40years/19480724_1.txt extracted\n",
            "elmundo_chunked_es_page1_40years/19480731_1.txt extracted\n",
            "elmundo_chunked_es_page1_40years/19480807_1.txt extracted\n",
            "elmundo_chunked_es_page1_40years/19480814_1.txt extracted\n",
            "elmundo_chunked_es_page1_40years/19480821_1.txt extracted\n",
            "elmundo_chunked_es_page1_40years/19480828_1.txt extracted\n",
            "elmundo_chunked_es_page1_40years/19480904_1.txt extracted\n",
            "elmundo_chunked_es_page1_40years/19480911_1.txt extracted\n",
            "elmundo_chunked_es_page1_40years/19480918_1.txt extracted\n",
            "elmundo_chunked_es_page1_40years/19480925_1.txt extracted\n",
            "elmundo_chunked_es_page1_40years/19481002_1.txt extracted\n",
            "elmundo_chunked_es_page1_40years/19481009_1.txt extracted\n",
            "elmundo_chunked_es_page1_40years/19481016_1.txt extracted\n",
            "elmundo_chunked_es_page1_40years/19481023_1.txt extracted\n",
            "elmundo_chunked_es_page1_40years/19481030_1.txt extracted\n",
            "elmundo_chunked_es_page1_40years/19481106_1.txt extracted\n",
            "elmundo_chunked_es_page1_40years/19481113_1.txt extracted\n",
            "elmundo_chunked_es_page1_40years/19481120_1.txt extracted\n",
            "elmundo_chunked_es_page1_40years/19481127_1.txt extracted\n",
            "elmundo_chunked_es_page1_40years/19481204_1.txt extracted\n",
            "elmundo_chunked_es_page1_40years/19481211_1.txt extracted\n",
            "elmundo_chunked_es_page1_40years/19481218_1.txt extracted\n",
            "elmundo_chunked_es_page1_40years/19490108_1.txt extracted\n",
            "elmundo_chunked_es_page1_40years/19490115_1.txt extracted\n",
            "elmundo_chunked_es_page1_40years/19490122_1.txt extracted\n",
            "elmundo_chunked_es_page1_40years/19490129_1.txt extracted\n",
            "elmundo_chunked_es_page1_40years/19490205_1.txt extracted\n",
            "elmundo_chunked_es_page1_40years/19490212_1.txt extracted\n",
            "elmundo_chunked_es_page1_40years/19490219_1.txt extracted\n",
            "elmundo_chunked_es_page1_40years/19490226_1.txt extracted\n",
            "elmundo_chunked_es_page1_40years/19490305_1.txt extracted\n",
            "elmundo_chunked_es_page1_40years/19490312_1.txt extracted\n",
            "elmundo_chunked_es_page1_40years/19490319_1.txt extracted\n",
            "elmundo_chunked_es_page1_40years/19490326_1.txt extracted\n",
            "elmundo_chunked_es_page1_40years/19490402_1.txt extracted\n",
            "elmundo_chunked_es_page1_40years/19490409_1.txt extracted\n",
            "elmundo_chunked_es_page1_40years/19490416_1.txt extracted\n",
            "elmundo_chunked_es_page1_40years/19490423_1.txt extracted\n",
            "elmundo_chunked_es_page1_40years/19490430_1.txt extracted\n",
            "elmundo_chunked_es_page1_40years/19490507_1.txt extracted\n",
            "elmundo_chunked_es_page1_40years/19490514_1.txt extracted\n",
            "elmundo_chunked_es_page1_40years/19490521_1.txt extracted\n",
            "elmundo_chunked_es_page1_40years/19490528_1.txt extracted\n",
            "elmundo_chunked_es_page1_40years/19490604_1.txt extracted\n",
            "elmundo_chunked_es_page1_40years/19490611_1.txt extracted\n",
            "elmundo_chunked_es_page1_40years/19490618_1.txt extracted\n",
            "elmundo_chunked_es_page1_40years/19490625_1.txt extracted\n",
            "elmundo_chunked_es_page1_40years/19490702_1.txt extracted\n",
            "elmundo_chunked_es_page1_40years/19490709_1.txt extracted\n",
            "elmundo_chunked_es_page1_40years/19490716_1.txt extracted\n",
            "elmundo_chunked_es_page1_40years/19490723_1.txt extracted\n",
            "elmundo_chunked_es_page1_40years/19490730_1.txt extracted\n",
            "elmundo_chunked_es_page1_40years/19490806_1.txt extracted\n",
            "elmundo_chunked_es_page1_40years/19490813_1.txt extracted\n",
            "elmundo_chunked_es_page1_40years/19490820_1.txt extracted\n",
            "elmundo_chunked_es_page1_40years/19490827_1.txt extracted\n",
            "elmundo_chunked_es_page1_40years/19490903_1.txt extracted\n",
            "elmundo_chunked_es_page1_40years/19490910_1.txt extracted\n",
            "elmundo_chunked_es_page1_40years/19490917_1.txt extracted\n",
            "elmundo_chunked_es_page1_40years/19490924_1.txt extracted\n",
            "elmundo_chunked_es_page1_40years/19491001_1.txt extracted\n",
            "elmundo_chunked_es_page1_40years/19491008_1.txt extracted\n",
            "elmundo_chunked_es_page1_40years/19491015_1.txt extracted\n",
            "elmundo_chunked_es_page1_40years/19491022_1.txt extracted\n",
            "elmundo_chunked_es_page1_40years/19491029_1.txt extracted\n",
            "elmundo_chunked_es_page1_40years/19491105_1.txt extracted\n",
            "elmundo_chunked_es_page1_40years/19491112_1.txt extracted\n",
            "elmundo_chunked_es_page1_40years/19491119_1.txt extracted\n",
            "elmundo_chunked_es_page1_40years/19491126_1.txt extracted\n",
            "elmundo_chunked_es_page1_40years/19491203_1.txt extracted\n",
            "elmundo_chunked_es_page1_40years/19491210_1.txt extracted\n",
            "elmundo_chunked_es_page1_40years/19491217_1.txt extracted\n",
            "elmundo_chunked_es_page1_40years/19491224_1.txt extracted\n",
            "elmundo_chunked_es_page1_40years/19491231_1.txt extracted\n",
            "elmundo_chunked_es_page1_40years/19500107_1.txt extracted\n",
            "elmundo_chunked_es_page1_40years/19500114_1.txt extracted\n",
            "elmundo_chunked_es_page1_40years/19500121_1.txt extracted\n",
            "elmundo_chunked_es_page1_40years/19500128_1.txt extracted\n",
            "elmundo_chunked_es_page1_40years/19500204_1.txt extracted\n",
            "elmundo_chunked_es_page1_40years/19500211_1.txt extracted\n",
            "elmundo_chunked_es_page1_40years/19500218_1.txt extracted\n",
            "elmundo_chunked_es_page1_40years/19500225_1.txt extracted\n",
            "elmundo_chunked_es_page1_40years/19500304_1.txt extracted\n",
            "elmundo_chunked_es_page1_40years/19500311_1.txt extracted\n",
            "elmundo_chunked_es_page1_40years/19500318_1.txt extracted\n",
            "elmundo_chunked_es_page1_40years/19500325_1.txt extracted\n",
            "elmundo_chunked_es_page1_40years/19500401_1.txt extracted\n",
            "elmundo_chunked_es_page1_40years/19500408_1.txt extracted\n",
            "elmundo_chunked_es_page1_40years/19500415_1.txt extracted\n",
            "elmundo_chunked_es_page1_40years/19500422_1.txt extracted\n",
            "elmundo_chunked_es_page1_40years/19500429_1.txt extracted\n",
            "elmundo_chunked_es_page1_40years/19500506_1.txt extracted\n",
            "elmundo_chunked_es_page1_40years/19500513_1.txt extracted\n",
            "elmundo_chunked_es_page1_40years/19500520_1.txt extracted\n",
            "elmundo_chunked_es_page1_40years/19500527_1.txt extracted\n",
            "elmundo_chunked_es_page1_40years/19500603_1.txt extracted\n",
            "elmundo_chunked_es_page1_40years/19500610_1.txt extracted\n",
            "elmundo_chunked_es_page1_40years/19500617_1.txt extracted\n",
            "elmundo_chunked_es_page1_40years/19500624_1.txt extracted\n",
            "elmundo_chunked_es_page1_40years/19500701_1.txt extracted\n",
            "elmundo_chunked_es_page1_40years/19500708_1.txt extracted\n",
            "elmundo_chunked_es_page1_40years/19500715_1.txt extracted\n",
            "elmundo_chunked_es_page1_40years/19500722_1.txt extracted\n",
            "elmundo_chunked_es_page1_40years/19500729_1.txt extracted\n",
            "elmundo_chunked_es_page1_40years/19500805_1.txt extracted\n",
            "elmundo_chunked_es_page1_40years/19500812_1.txt extracted\n",
            "elmundo_chunked_es_page1_40years/19500819_1.txt extracted\n",
            "elmundo_chunked_es_page1_40years/19500826_1.txt extracted\n",
            "elmundo_chunked_es_page1_40years/19500902_1.txt extracted\n",
            "elmundo_chunked_es_page1_40years/19500909_1.txt extracted\n",
            "elmundo_chunked_es_page1_40years/19500916_1.txt extracted\n",
            "elmundo_chunked_es_page1_40years/19500923_1.txt extracted\n",
            "elmundo_chunked_es_page1_40years/19500930_1.txt extracted\n",
            "elmundo_chunked_es_page1_40years/19501007_1.txt extracted\n",
            "elmundo_chunked_es_page1_40years/19501014_1.txt extracted\n",
            "elmundo_chunked_es_page1_40years/19501021_1.txt extracted\n",
            "elmundo_chunked_es_page1_40years/19501028_1.txt extracted\n",
            "elmundo_chunked_es_page1_40years/19501104_1.txt extracted\n",
            "elmundo_chunked_es_page1_40years/19501111_1.txt extracted\n",
            "elmundo_chunked_es_page1_40years/19501118_1.txt extracted\n",
            "elmundo_chunked_es_page1_40years/19501125_1.txt extracted\n",
            "elmundo_chunked_es_page1_40years/19501202_1.txt extracted\n",
            "elmundo_chunked_es_page1_40years/19501209_1.txt extracted\n",
            "elmundo_chunked_es_page1_40years/19501216_1.txt extracted\n",
            "elmundo_chunked_es_page1_40years/19501223_1.txt extracted\n",
            "elmundo_chunked_es_page1_40years/19501230_1.txt extracted\n",
            "elmundo_chunked_es_page1_40years/19510113_1.txt extracted\n",
            "elmundo_chunked_es_page1_40years/19510120_1.txt extracted\n",
            "elmundo_chunked_es_page1_40years/19510127_1.txt extracted\n",
            "elmundo_chunked_es_page1_40years/19510203_1.txt extracted\n",
            "elmundo_chunked_es_page1_40years/19510210_1.txt extracted\n",
            "elmundo_chunked_es_page1_40years/19510217_1.txt extracted\n",
            "elmundo_chunked_es_page1_40years/19510224_1.txt extracted\n",
            "elmundo_chunked_es_page1_40years/19510303_1.txt extracted\n",
            "elmundo_chunked_es_page1_40years/19510310_1.txt extracted\n",
            "elmundo_chunked_es_page1_40years/19510317_1.txt extracted\n",
            "elmundo_chunked_es_page1_40years/19510324_1.txt extracted\n",
            "elmundo_chunked_es_page1_40years/19510331_1.txt extracted\n",
            "elmundo_chunked_es_page1_40years/19510407_1.txt extracted\n",
            "elmundo_chunked_es_page1_40years/19510414_1.txt extracted\n",
            "elmundo_chunked_es_page1_40years/19510421_1.txt extracted\n",
            "elmundo_chunked_es_page1_40years/19510428_1.txt extracted\n",
            "elmundo_chunked_es_page1_40years/19510505_1.txt extracted\n",
            "elmundo_chunked_es_page1_40years/19510512_1.txt extracted\n",
            "elmundo_chunked_es_page1_40years/19510519_1.txt extracted\n",
            "elmundo_chunked_es_page1_40years/19510526_1.txt extracted\n",
            "elmundo_chunked_es_page1_40years/19510602_1.txt extracted\n",
            "elmundo_chunked_es_page1_40years/19510609_1.txt extracted\n",
            "elmundo_chunked_es_page1_40years/19510616_1.txt extracted\n",
            "elmundo_chunked_es_page1_40years/19510623_1.txt extracted\n",
            "elmundo_chunked_es_page1_40years/19510630_1.txt extracted\n",
            "elmundo_chunked_es_page1_40years/19510707_1.txt extracted\n",
            "elmundo_chunked_es_page1_40years/19510714_1.txt extracted\n",
            "elmundo_chunked_es_page1_40years/19510721_1.txt extracted\n",
            "elmundo_chunked_es_page1_40years/19510728_1.txt extracted\n",
            "elmundo_chunked_es_page1_40years/19510804_1.txt extracted\n",
            "elmundo_chunked_es_page1_40years/19510811_1.txt extracted\n",
            "elmundo_chunked_es_page1_40years/19510818_1.txt extracted\n",
            "elmundo_chunked_es_page1_40years/19510825_1.txt extracted\n",
            "elmundo_chunked_es_page1_40years/19510901_1.txt extracted\n",
            "elmundo_chunked_es_page1_40years/19510908_1.txt extracted\n",
            "elmundo_chunked_es_page1_40years/19510915_1.txt extracted\n",
            "elmundo_chunked_es_page1_40years/19510922_1.txt extracted\n",
            "elmundo_chunked_es_page1_40years/19510929_1.txt extracted\n",
            "elmundo_chunked_es_page1_40years/19511006_1.txt extracted\n",
            "elmundo_chunked_es_page1_40years/19511013_1.txt extracted\n",
            "elmundo_chunked_es_page1_40years/19511020_1.txt extracted\n",
            "elmundo_chunked_es_page1_40years/19511027_1.txt extracted\n",
            "elmundo_chunked_es_page1_40years/19511103_1.txt extracted\n",
            "elmundo_chunked_es_page1_40years/19511110_1.txt extracted\n",
            "elmundo_chunked_es_page1_40years/19511117_1.txt extracted\n",
            "elmundo_chunked_es_page1_40years/19511124_1.txt extracted\n",
            "elmundo_chunked_es_page1_40years/19511201_1.txt extracted\n",
            "elmundo_chunked_es_page1_40years/19511208_1.txt extracted\n",
            "elmundo_chunked_es_page1_40years/19511215_1.txt extracted\n",
            "elmundo_chunked_es_page1_40years/19511222_1.txt extracted\n",
            "elmundo_chunked_es_page1_40years/19511229_1.txt extracted\n",
            "elmundo_chunked_es_page1_40years/19520105_1.txt extracted\n",
            "elmundo_chunked_es_page1_40years/19520112_1.txt extracted\n",
            "elmundo_chunked_es_page1_40years/19520119_1.txt extracted\n",
            "elmundo_chunked_es_page1_40years/19520126_1.txt extracted\n",
            "elmundo_chunked_es_page1_40years/19520202_1.txt extracted\n",
            "elmundo_chunked_es_page1_40years/19520209_1.txt extracted\n",
            "elmundo_chunked_es_page1_40years/19520216_1.txt extracted\n",
            "elmundo_chunked_es_page1_40years/19520223_1.txt extracted\n",
            "elmundo_chunked_es_page1_40years/19520301_1.txt extracted\n",
            "elmundo_chunked_es_page1_40years/19520308_1.txt extracted\n",
            "elmundo_chunked_es_page1_40years/19520315_1.txt extracted\n",
            "elmundo_chunked_es_page1_40years/19520322_1.txt extracted\n",
            "elmundo_chunked_es_page1_40years/19520329_1.txt extracted\n",
            "elmundo_chunked_es_page1_40years/19520405_1.txt extracted\n",
            "elmundo_chunked_es_page1_40years/19520412_1.txt extracted\n",
            "elmundo_chunked_es_page1_40years/19520419_1.txt extracted\n",
            "elmundo_chunked_es_page1_40years/19520426_1.txt extracted\n",
            "elmundo_chunked_es_page1_40years/19520503_1.txt extracted\n",
            "elmundo_chunked_es_page1_40years/19520510_1.txt extracted\n",
            "elmundo_chunked_es_page1_40years/19520517_1.txt extracted\n",
            "elmundo_chunked_es_page1_40years/19520524_1.txt extracted\n",
            "elmundo_chunked_es_page1_40years/19520531_1.txt extracted\n",
            "elmundo_chunked_es_page1_40years/19520607_1.txt extracted\n",
            "elmundo_chunked_es_page1_40years/19520614_1.txt extracted\n",
            "elmundo_chunked_es_page1_40years/19520621_1.txt extracted\n",
            "elmundo_chunked_es_page1_40years/19520628_1.txt extracted\n",
            "elmundo_chunked_es_page1_40years/19520705_1.txt extracted\n",
            "Extracted files to: /tmp/extracted\n"
          ]
        },
        {
          "name": "stderr",
          "output_type": "stream",
          "text": [
            "Processing files:   0%|          | 1/1668 [00:04<2:18:33,  4.99s/it]"
          ]
        },
        {
          "name": "stdout",
          "output_type": "stream",
          "text": [
            "Processed: 19510414_1.txt -> Saved to Drive\n"
          ]
        },
        {
          "name": "stderr",
          "output_type": "stream",
          "text": [
            "\rProcessing files:   0%|          | 2/1668 [00:05<1:07:23,  2.43s/it]"
          ]
        },
        {
          "name": "stdout",
          "output_type": "stream",
          "text": [
            "Processed: 19450407_1.txt -> Saved to Drive\n"
          ]
        },
        {
          "name": "stderr",
          "output_type": "stream",
          "text": [
            "\rProcessing files:   0%|          | 3/1668 [00:22<4:12:03,  9.08s/it]"
          ]
        },
        {
          "name": "stdout",
          "output_type": "stream",
          "text": [
            "Processed: 19370522_1.txt -> Saved to Drive\n"
          ]
        },
        {
          "name": "stderr",
          "output_type": "stream",
          "text": [
            "\rProcessing files:   0%|          | 4/1668 [00:26<3:10:37,  6.87s/it]"
          ]
        },
        {
          "name": "stdout",
          "output_type": "stream",
          "text": [
            "Processed: 19411122_1.txt -> Saved to Drive\n"
          ]
        },
        {
          "name": "stderr",
          "output_type": "stream",
          "text": [
            "\rProcessing files:   0%|          | 5/1668 [00:30<2:46:52,  6.02s/it]"
          ]
        },
        {
          "name": "stdout",
          "output_type": "stream",
          "text": [
            "Processed: 19370529_1.txt -> Saved to Drive\n"
          ]
        },
        {
          "name": "stderr",
          "output_type": "stream",
          "text": [
            "\rProcessing files:   0%|          | 6/1668 [00:31<2:01:36,  4.39s/it]"
          ]
        },
        {
          "name": "stdout",
          "output_type": "stream",
          "text": [
            "Processed: 19490507_1.txt -> Saved to Drive\n"
          ]
        },
        {
          "name": "stderr",
          "output_type": "stream",
          "text": [
            "\rProcessing files:   0%|          | 7/1668 [00:32<1:28:39,  3.20s/it]"
          ]
        },
        {
          "name": "stdout",
          "output_type": "stream",
          "text": [
            "Processed: 19200221_1.txt -> Saved to Drive\n"
          ]
        },
        {
          "name": "stderr",
          "output_type": "stream",
          "text": [
            "\rProcessing files:   0%|          | 8/1668 [00:49<3:30:34,  7.61s/it]"
          ]
        },
        {
          "name": "stdout",
          "output_type": "stream",
          "text": [
            "Processed: 19410920_1.txt -> Saved to Drive\n"
          ]
        },
        {
          "name": "stderr",
          "output_type": "stream",
          "text": [
            "\rProcessing files:   1%|          | 9/1668 [00:53<2:57:20,  6.41s/it]"
          ]
        },
        {
          "name": "stdout",
          "output_type": "stream",
          "text": [
            "Processed: 19460105_1.txt -> Saved to Drive\n"
          ]
        },
        {
          "name": "stderr",
          "output_type": "stream",
          "text": [
            "\rProcessing files:   1%|          | 10/1668 [00:55<2:23:58,  5.21s/it]"
          ]
        },
        {
          "name": "stdout",
          "output_type": "stream",
          "text": [
            "Processed: 19220527_1.txt -> Saved to Drive\n"
          ]
        },
        {
          "name": "stderr",
          "output_type": "stream",
          "text": [
            "\rProcessing files:   1%|          | 11/1668 [01:15<4:26:28,  9.65s/it]"
          ]
        },
        {
          "name": "stdout",
          "output_type": "stream",
          "text": [
            "Processed: 19520202_1.txt -> Saved to Drive\n"
          ]
        },
        {
          "name": "stderr",
          "output_type": "stream",
          "text": [
            "\rProcessing files:   1%|          | 12/1668 [01:32<5:29:44, 11.95s/it]"
          ]
        },
        {
          "name": "stdout",
          "output_type": "stream",
          "text": [
            "Processed: 19451013_1.txt -> Saved to Drive\n"
          ]
        },
        {
          "name": "stderr",
          "output_type": "stream",
          "text": [
            "\rProcessing files:   1%|          | 13/1668 [01:49<6:12:50, 13.52s/it]"
          ]
        },
        {
          "name": "stdout",
          "output_type": "stream",
          "text": [
            "Processed: 19210716_1.txt -> Saved to Drive\n"
          ]
        },
        {
          "name": "stderr",
          "output_type": "stream",
          "text": [
            "\rProcessing files:   1%|          | 14/1668 [01:53<4:52:31, 10.61s/it]"
          ]
        },
        {
          "name": "stdout",
          "output_type": "stream",
          "text": [
            "Processed: 19231124_1.txt -> Saved to Drive\n"
          ]
        },
        {
          "name": "stderr",
          "output_type": "stream",
          "text": [
            "\rProcessing files:   1%|          | 15/1668 [02:10<5:45:53, 12.56s/it]"
          ]
        },
        {
          "name": "stdout",
          "output_type": "stream",
          "text": [
            "Processed: 19200522_1.txt -> Saved to Drive\n"
          ]
        },
        {
          "name": "stderr",
          "output_type": "stream",
          "text": [
            "\rProcessing files:   1%|          | 16/1668 [02:28<6:23:35, 13.93s/it]"
          ]
        },
        {
          "name": "stdout",
          "output_type": "stream",
          "text": [
            "Processed: 19450804_1.txt -> Saved to Drive\n"
          ]
        },
        {
          "name": "stderr",
          "output_type": "stream",
          "text": [
            "\rProcessing files:   1%|          | 17/1668 [02:46<7:03:54, 15.41s/it]"
          ]
        },
        {
          "name": "stdout",
          "output_type": "stream",
          "text": [
            "Processed: 19280623_1.txt -> Saved to Drive\n"
          ]
        },
        {
          "name": "stderr",
          "output_type": "stream",
          "text": [
            "\rProcessing files:   1%|          | 18/1668 [02:50<5:27:12, 11.90s/it]"
          ]
        },
        {
          "name": "stdout",
          "output_type": "stream",
          "text": [
            "Processed: 19471108_1.txt -> Saved to Drive\n"
          ]
        },
        {
          "name": "stderr",
          "output_type": "stream",
          "text": [
            "\rProcessing files:   1%|          | 19/1668 [03:08<6:12:01, 13.54s/it]"
          ]
        },
        {
          "name": "stdout",
          "output_type": "stream",
          "text": [
            "Processed: 19231006_1.txt -> Saved to Drive\n"
          ]
        },
        {
          "name": "stderr",
          "output_type": "stream",
          "text": [
            "\rProcessing files:   1%|          | 20/1668 [03:13<5:02:06, 11.00s/it]"
          ]
        },
        {
          "name": "stdout",
          "output_type": "stream",
          "text": [
            "Processed: 19410809_1.txt -> Saved to Drive\n"
          ]
        },
        {
          "name": "stderr",
          "output_type": "stream",
          "text": [
            "\rProcessing files:   1%|▏         | 21/1668 [03:16<4:00:32,  8.76s/it]"
          ]
        },
        {
          "name": "stdout",
          "output_type": "stream",
          "text": [
            "Processed: 19470607_1.txt -> Saved to Drive\n"
          ]
        },
        {
          "name": "stderr",
          "output_type": "stream",
          "text": [
            "\rProcessing files:   1%|▏         | 22/1668 [03:33<5:10:32, 11.32s/it]"
          ]
        },
        {
          "name": "stdout",
          "output_type": "stream",
          "text": [
            "Processed: 19451103_1.txt -> Saved to Drive\n"
          ]
        },
        {
          "name": "stderr",
          "output_type": "stream",
          "text": [
            "\rProcessing files:   1%|▏         | 23/1668 [03:42<4:50:45, 10.61s/it]"
          ]
        },
        {
          "name": "stdout",
          "output_type": "stream",
          "text": [
            "Processed: 19320402_1.txt -> Saved to Drive\n"
          ]
        },
        {
          "name": "stderr",
          "output_type": "stream",
          "text": [
            "\rProcessing files:   1%|▏         | 24/1668 [03:43<3:31:29,  7.72s/it]"
          ]
        },
        {
          "name": "stdout",
          "output_type": "stream",
          "text": [
            "Processed: 19220401_1.txt -> Saved to Drive\n"
          ]
        },
        {
          "name": "stderr",
          "output_type": "stream",
          "text": [
            "\rProcessing files:   1%|▏         | 25/1668 [03:45<2:43:05,  5.96s/it]"
          ]
        },
        {
          "name": "stdout",
          "output_type": "stream",
          "text": [
            "Processed: 19270618_1.txt -> Saved to Drive\n"
          ]
        },
        {
          "name": "stderr",
          "output_type": "stream",
          "text": [
            "\rProcessing files:   2%|▏         | 26/1668 [03:48<2:17:25,  5.02s/it]"
          ]
        },
        {
          "name": "stdout",
          "output_type": "stream",
          "text": [
            "Processed: 19300322_1.txt -> Saved to Drive\n"
          ]
        },
        {
          "name": "stderr",
          "output_type": "stream",
          "text": [
            "\rProcessing files:   2%|▏         | 27/1668 [03:49<1:40:16,  3.67s/it]"
          ]
        },
        {
          "name": "stdout",
          "output_type": "stream",
          "text": [
            "Processed: 19320220_1.txt -> Saved to Drive\n"
          ]
        },
        {
          "name": "stderr",
          "output_type": "stream",
          "text": [
            "\rProcessing files:   2%|▏         | 28/1668 [03:58<2:25:20,  5.32s/it]"
          ]
        },
        {
          "name": "stdout",
          "output_type": "stream",
          "text": [
            "Processed: 19271008_1.txt -> Saved to Drive\n"
          ]
        },
        {
          "name": "stderr",
          "output_type": "stream",
          "text": [
            "\rProcessing files:   2%|▏         | 29/1668 [04:15<4:01:07,  8.83s/it]"
          ]
        },
        {
          "name": "stdout",
          "output_type": "stream",
          "text": [
            "Processed: 19320423_1.txt -> Saved to Drive\n"
          ]
        },
        {
          "name": "stderr",
          "output_type": "stream",
          "text": [
            "\rProcessing files:   2%|▏         | 30/1668 [04:32<5:07:58, 11.28s/it]"
          ]
        },
        {
          "name": "stdout",
          "output_type": "stream",
          "text": [
            "Processed: 19430306_1.txt -> Saved to Drive\n"
          ]
        },
        {
          "name": "stderr",
          "output_type": "stream",
          "text": [
            "\rProcessing files:   2%|▏         | 31/1668 [04:32<3:38:39,  8.01s/it]"
          ]
        },
        {
          "name": "stdout",
          "output_type": "stream",
          "text": [
            "Processed: 19321008_1.txt -> Saved to Drive\n"
          ]
        },
        {
          "name": "stderr",
          "output_type": "stream",
          "text": [
            "\rProcessing files:   2%|▏         | 32/1668 [04:33<2:40:12,  5.88s/it]"
          ]
        },
        {
          "name": "stdout",
          "output_type": "stream",
          "text": [
            "Processed: 19200207_1.txt -> Saved to Drive\n"
          ]
        },
        {
          "name": "stderr",
          "output_type": "stream",
          "text": [
            "\rProcessing files:   2%|▏         | 33/1668 [04:33<1:55:01,  4.22s/it]"
          ]
        },
        {
          "name": "stdout",
          "output_type": "stream",
          "text": [
            "Processed: 19490430_1.txt -> Saved to Drive\n"
          ]
        },
        {
          "name": "stderr",
          "output_type": "stream",
          "text": [
            "\rProcessing files:   2%|▏         | 34/1668 [04:38<2:00:50,  4.44s/it]"
          ]
        },
        {
          "name": "stdout",
          "output_type": "stream",
          "text": [
            "Processed: 19371120_1.txt -> Saved to Drive\n"
          ]
        },
        {
          "name": "stderr",
          "output_type": "stream",
          "text": [
            "\rProcessing files:   2%|▏         | 35/1668 [04:40<1:35:57,  3.53s/it]"
          ]
        },
        {
          "name": "stdout",
          "output_type": "stream",
          "text": [
            "Processed: 19371016_1.txt -> Saved to Drive\n"
          ]
        },
        {
          "name": "stderr",
          "output_type": "stream",
          "text": [
            "\rProcessing files:   2%|▏         | 36/1668 [04:43<1:34:19,  3.47s/it]"
          ]
        },
        {
          "name": "stdout",
          "output_type": "stream",
          "text": [
            "Processed: 19360711_1.txt -> Saved to Drive\n"
          ]
        },
        {
          "name": "stderr",
          "output_type": "stream",
          "text": [
            "\rProcessing files:   2%|▏         | 37/1668 [05:00<3:24:59,  7.54s/it]"
          ]
        },
        {
          "name": "stdout",
          "output_type": "stream",
          "text": [
            "Processed: 19331202_1.txt -> Saved to Drive\n"
          ]
        },
        {
          "name": "stderr",
          "output_type": "stream",
          "text": [
            "\rProcessing files:   2%|▏         | 38/1668 [05:00<2:25:27,  5.35s/it]"
          ]
        },
        {
          "name": "stdout",
          "output_type": "stream",
          "text": [
            "Processed: 19321224_1.txt -> Saved to Drive\n"
          ]
        },
        {
          "name": "stderr",
          "output_type": "stream",
          "text": [
            "\rProcessing files:   2%|▏         | 39/1668 [05:03<2:07:01,  4.68s/it]"
          ]
        },
        {
          "name": "stdout",
          "output_type": "stream",
          "text": [
            "Processed: 19340331_1.txt -> Saved to Drive\n"
          ]
        },
        {
          "name": "stderr",
          "output_type": "stream",
          "text": [
            "\rProcessing files:   2%|▏         | 40/1668 [05:08<2:06:44,  4.67s/it]"
          ]
        },
        {
          "name": "stdout",
          "output_type": "stream",
          "text": [
            "Processed: 19480320_1.txt -> Saved to Drive\n"
          ]
        },
        {
          "name": "stderr",
          "output_type": "stream",
          "text": [
            "\rProcessing files:   2%|▏         | 41/1668 [05:10<1:45:26,  3.89s/it]"
          ]
        },
        {
          "name": "stdout",
          "output_type": "stream",
          "text": [
            "Processed: 19281013_1.txt -> Saved to Drive\n"
          ]
        },
        {
          "name": "stderr",
          "output_type": "stream",
          "text": [
            "\rProcessing files:   3%|▎         | 42/1668 [05:14<1:41:11,  3.73s/it]"
          ]
        },
        {
          "name": "stdout",
          "output_type": "stream",
          "text": [
            "Processed: 19290831_1.txt -> Saved to Drive\n"
          ]
        },
        {
          "name": "stderr",
          "output_type": "stream",
          "text": [
            "\rProcessing files:   3%|▎         | 43/1668 [05:22<2:17:02,  5.06s/it]"
          ]
        },
        {
          "name": "stdout",
          "output_type": "stream",
          "text": [
            "Processed: 19360328_1.txt -> Saved to Drive\n"
          ]
        },
        {
          "name": "stderr",
          "output_type": "stream",
          "text": [
            "\rProcessing files:   3%|▎         | 44/1668 [05:25<2:03:32,  4.56s/it]"
          ]
        },
        {
          "name": "stdout",
          "output_type": "stream",
          "text": [
            "Processed: 19401026_1.txt -> Saved to Drive\n"
          ]
        },
        {
          "name": "stderr",
          "output_type": "stream",
          "text": [
            "\rProcessing files:   3%|▎         | 45/1668 [05:44<3:56:51,  8.76s/it]"
          ]
        },
        {
          "name": "stdout",
          "output_type": "stream",
          "text": [
            "Processed: 19210115_1.txt -> Saved to Drive\n"
          ]
        },
        {
          "name": "stderr",
          "output_type": "stream",
          "text": [
            "\rProcessing files:   3%|▎         | 46/1668 [05:46<3:07:13,  6.93s/it]"
          ]
        },
        {
          "name": "stdout",
          "output_type": "stream",
          "text": [
            "Processed: 19490319_1.txt -> Saved to Drive\n"
          ]
        },
        {
          "name": "stderr",
          "output_type": "stream",
          "text": [
            "\rProcessing files:   3%|▎         | 47/1668 [05:56<3:31:48,  7.84s/it]"
          ]
        },
        {
          "name": "stdout",
          "output_type": "stream",
          "text": [
            "Processed: 19420516_1.txt -> Saved to Drive\n"
          ]
        },
        {
          "name": "stderr",
          "output_type": "stream",
          "text": [
            "\rProcessing files:   3%|▎         | 48/1668 [06:11<4:29:25,  9.98s/it]"
          ]
        },
        {
          "name": "stdout",
          "output_type": "stream",
          "text": [
            "Processed: 19230908_1.txt -> Saved to Drive\n"
          ]
        },
        {
          "name": "stderr",
          "output_type": "stream",
          "text": [
            "\rProcessing files:   3%|▎         | 49/1668 [06:12<3:16:02,  7.27s/it]"
          ]
        },
        {
          "name": "stdout",
          "output_type": "stream",
          "text": [
            "Processed: 19361031_1.txt -> Saved to Drive\n"
          ]
        },
        {
          "name": "stderr",
          "output_type": "stream",
          "text": [
            "\rProcessing files:   3%|▎         | 50/1668 [06:14<2:33:28,  5.69s/it]"
          ]
        },
        {
          "name": "stdout",
          "output_type": "stream",
          "text": [
            "Processed: 19261120_1.txt -> Saved to Drive\n"
          ]
        },
        {
          "name": "stderr",
          "output_type": "stream",
          "text": [
            "\rProcessing files:   3%|▎         | 51/1668 [06:17<2:11:35,  4.88s/it]"
          ]
        },
        {
          "name": "stdout",
          "output_type": "stream",
          "text": [
            "Processed: 19230526_1.txt -> Saved to Drive\n"
          ]
        },
        {
          "name": "stderr",
          "output_type": "stream",
          "text": [
            "\rProcessing files:   3%|▎         | 52/1668 [06:20<1:51:12,  4.13s/it]"
          ]
        },
        {
          "name": "stdout",
          "output_type": "stream",
          "text": [
            "Processed: 19370320_1.txt -> Saved to Drive\n"
          ]
        },
        {
          "name": "stderr",
          "output_type": "stream",
          "text": [
            "\rProcessing files:   3%|▎         | 53/1668 [06:22<1:40:38,  3.74s/it]"
          ]
        },
        {
          "name": "stdout",
          "output_type": "stream",
          "text": [
            "Processed: 19481030_1.txt -> Saved to Drive\n"
          ]
        },
        {
          "name": "stderr",
          "output_type": "stream",
          "text": [
            "\rProcessing files:   3%|▎         | 54/1668 [06:24<1:20:53,  3.01s/it]"
          ]
        },
        {
          "name": "stdout",
          "output_type": "stream",
          "text": [
            "Processed: 19391216_1.txt -> Saved to Drive\n"
          ]
        },
        {
          "name": "stderr",
          "output_type": "stream",
          "text": [
            "\rProcessing files:   3%|▎         | 55/1668 [06:25<1:03:23,  2.36s/it]"
          ]
        },
        {
          "name": "stdout",
          "output_type": "stream",
          "text": [
            "Processed: 19401221_1.txt -> Saved to Drive\n"
          ]
        },
        {
          "name": "stderr",
          "output_type": "stream",
          "text": [
            "\rProcessing files:   3%|▎         | 56/1668 [06:43<3:09:28,  7.05s/it]"
          ]
        },
        {
          "name": "stdout",
          "output_type": "stream",
          "text": [
            "Processed: 19430821_1.txt -> Saved to Drive\n"
          ]
        },
        {
          "name": "stderr",
          "output_type": "stream",
          "text": [
            "\rProcessing files:   3%|▎         | 57/1668 [06:45<2:31:07,  5.63s/it]"
          ]
        },
        {
          "name": "stdout",
          "output_type": "stream",
          "text": [
            "Processed: 19220415_1.txt -> Saved to Drive\n"
          ]
        },
        {
          "name": "stderr",
          "output_type": "stream",
          "text": [
            "\rProcessing files:   3%|▎         | 58/1668 [06:48<2:11:45,  4.91s/it]"
          ]
        },
        {
          "name": "stdout",
          "output_type": "stream",
          "text": [
            "Processed: 19420627_1.txt -> Saved to Drive\n"
          ]
        },
        {
          "name": "stderr",
          "output_type": "stream",
          "text": [
            "\rProcessing files:   4%|▎         | 59/1668 [06:51<1:58:31,  4.42s/it]"
          ]
        },
        {
          "name": "stdout",
          "output_type": "stream",
          "text": [
            "Processed: 19401109_1.txt -> Saved to Drive\n"
          ]
        },
        {
          "name": "stderr",
          "output_type": "stream",
          "text": [
            "\rProcessing files:   4%|▎         | 60/1668 [06:57<2:07:38,  4.76s/it]"
          ]
        },
        {
          "name": "stdout",
          "output_type": "stream",
          "text": [
            "Processed: 19351214_1.txt -> Saved to Drive\n"
          ]
        },
        {
          "name": "stderr",
          "output_type": "stream",
          "text": [
            "\rProcessing files:   4%|▎         | 61/1668 [07:11<3:24:26,  7.63s/it]"
          ]
        },
        {
          "name": "stdout",
          "output_type": "stream",
          "text": [
            "Processed: 19461012_1.txt -> Saved to Drive\n"
          ]
        },
        {
          "name": "stderr",
          "output_type": "stream",
          "text": [
            "\rProcessing files:   4%|▎         | 62/1668 [07:26<4:22:40,  9.81s/it]"
          ]
        },
        {
          "name": "stdout",
          "output_type": "stream",
          "text": [
            "Processed: 19270108_1.txt -> Saved to Drive\n"
          ]
        },
        {
          "name": "stderr",
          "output_type": "stream",
          "text": [
            "\rProcessing files:   4%|▍         | 63/1668 [07:29<3:24:13,  7.63s/it]"
          ]
        },
        {
          "name": "stdout",
          "output_type": "stream",
          "text": [
            "Processed: 19480424_1.txt -> Saved to Drive\n"
          ]
        },
        {
          "name": "stderr",
          "output_type": "stream",
          "text": [
            "\rProcessing files:   4%|▍         | 64/1668 [07:33<2:59:19,  6.71s/it]"
          ]
        },
        {
          "name": "stdout",
          "output_type": "stream",
          "text": [
            "Processed: 19410118_1.txt -> Saved to Drive\n"
          ]
        },
        {
          "name": "stderr",
          "output_type": "stream",
          "text": [
            "\rProcessing files:   4%|▍         | 65/1668 [07:42<3:16:43,  7.36s/it]"
          ]
        },
        {
          "name": "stdout",
          "output_type": "stream",
          "text": [
            "Processed: 19200529_1.txt -> Saved to Drive\n"
          ]
        },
        {
          "name": "stderr",
          "output_type": "stream",
          "text": [
            "\rProcessing files:   4%|▍         | 66/1668 [07:59<4:32:57, 10.22s/it]"
          ]
        },
        {
          "name": "stdout",
          "output_type": "stream",
          "text": [
            "Processed: 19270827_1.txt -> Saved to Drive\n"
          ]
        },
        {
          "name": "stderr",
          "output_type": "stream",
          "text": [
            "\rProcessing files:   4%|▍         | 67/1668 [07:59<3:13:05,  7.24s/it]"
          ]
        },
        {
          "name": "stdout",
          "output_type": "stream",
          "text": [
            "Processed: 19340609_1.txt -> Saved to Drive\n"
          ]
        },
        {
          "name": "stderr",
          "output_type": "stream",
          "text": [
            "\rProcessing files:   4%|▍         | 68/1668 [08:02<2:36:43,  5.88s/it]"
          ]
        },
        {
          "name": "stdout",
          "output_type": "stream",
          "text": [
            "Processed: 19380326_1.txt -> Saved to Drive\n"
          ]
        },
        {
          "name": "stderr",
          "output_type": "stream",
          "text": [
            "\rProcessing files:   4%|▍         | 69/1668 [08:06<2:24:44,  5.43s/it]"
          ]
        },
        {
          "name": "stdout",
          "output_type": "stream",
          "text": [
            "Processed: 19340721_1.txt -> Saved to Drive\n"
          ]
        },
        {
          "name": "stderr",
          "output_type": "stream",
          "text": [
            "\rProcessing files:   4%|▍         | 70/1668 [08:22<3:48:54,  8.59s/it]"
          ]
        },
        {
          "name": "stdout",
          "output_type": "stream",
          "text": [
            "Processed: 19450324_1.txt -> Saved to Drive\n"
          ]
        },
        {
          "name": "stderr",
          "output_type": "stream",
          "text": [
            "\rProcessing files:   4%|▍         | 71/1668 [08:39<4:53:12, 11.02s/it]"
          ]
        },
        {
          "name": "stdout",
          "output_type": "stream",
          "text": [
            "Processed: 19251128_1.txt -> Saved to Drive\n"
          ]
        },
        {
          "name": "stderr",
          "output_type": "stream",
          "text": [
            "\rProcessing files:   4%|▍         | 72/1668 [08:58<5:53:53, 13.30s/it]"
          ]
        },
        {
          "name": "stdout",
          "output_type": "stream",
          "text": [
            "Processed: 19451215_1.txt -> Saved to Drive\n"
          ]
        },
        {
          "name": "stderr",
          "output_type": "stream",
          "text": [
            "\rProcessing files:   4%|▍         | 73/1668 [09:08<5:28:55, 12.37s/it]"
          ]
        },
        {
          "name": "stdout",
          "output_type": "stream",
          "text": [
            "Processed: 19240927_1.txt -> Saved to Drive\n"
          ]
        },
        {
          "name": "stderr",
          "output_type": "stream",
          "text": [
            "\rProcessing files:   4%|▍         | 74/1668 [09:11<4:18:31,  9.73s/it]"
          ]
        },
        {
          "name": "stdout",
          "output_type": "stream",
          "text": [
            "Processed: 19420919_1.txt -> Saved to Drive\n"
          ]
        },
        {
          "name": "stderr",
          "output_type": "stream",
          "text": [
            "\rProcessing files:   4%|▍         | 75/1668 [09:14<3:17:55,  7.45s/it]"
          ]
        },
        {
          "name": "stdout",
          "output_type": "stream",
          "text": [
            "Processed: 19430904_1.txt -> Saved to Drive\n"
          ]
        },
        {
          "name": "stderr",
          "output_type": "stream",
          "text": [
            "\rProcessing files:   5%|▍         | 76/1668 [09:14<2:24:50,  5.46s/it]"
          ]
        },
        {
          "name": "stdout",
          "output_type": "stream",
          "text": [
            "Processed: 19490226_1.txt -> Saved to Drive\n"
          ]
        },
        {
          "name": "stderr",
          "output_type": "stream",
          "text": [
            "\rProcessing files:   5%|▍         | 77/1668 [09:32<3:57:51,  8.97s/it]"
          ]
        },
        {
          "name": "stdout",
          "output_type": "stream",
          "text": [
            "Processed: 19501125_1.txt -> Saved to Drive\n"
          ]
        },
        {
          "name": "stderr",
          "output_type": "stream",
          "text": [
            "\rProcessing files:   5%|▍         | 78/1668 [09:36<3:18:55,  7.51s/it]"
          ]
        },
        {
          "name": "stdout",
          "output_type": "stream",
          "text": [
            "Processed: 19381210_1.txt -> Saved to Drive\n"
          ]
        },
        {
          "name": "stderr",
          "output_type": "stream",
          "text": [
            "\rProcessing files:   5%|▍         | 79/1668 [09:44<3:25:04,  7.74s/it]"
          ]
        },
        {
          "name": "stdout",
          "output_type": "stream",
          "text": [
            "Processed: 19450623_1.txt -> Saved to Drive\n"
          ]
        },
        {
          "name": "stderr",
          "output_type": "stream",
          "text": [
            "\rProcessing files:   5%|▍         | 80/1668 [09:47<2:50:24,  6.44s/it]"
          ]
        },
        {
          "name": "stdout",
          "output_type": "stream",
          "text": [
            "Processed: 19381022_1.txt -> Saved to Drive\n"
          ]
        },
        {
          "name": "stderr",
          "output_type": "stream",
          "text": [
            "\rProcessing files:   5%|▍         | 81/1668 [09:56<3:09:46,  7.17s/it]"
          ]
        },
        {
          "name": "stdout",
          "output_type": "stream",
          "text": [
            "Processed: 19450303_1.txt -> Saved to Drive\n"
          ]
        },
        {
          "name": "stderr",
          "output_type": "stream",
          "text": [
            "\rProcessing files:   5%|▍         | 82/1668 [10:13<4:28:18, 10.15s/it]"
          ]
        },
        {
          "name": "stdout",
          "output_type": "stream",
          "text": [
            "Processed: 19400113_1.txt -> Saved to Drive\n"
          ]
        },
        {
          "name": "stderr",
          "output_type": "stream",
          "text": [
            "\rProcessing files:   5%|▍         | 83/1668 [10:23<4:20:41,  9.87s/it]"
          ]
        },
        {
          "name": "stdout",
          "output_type": "stream",
          "text": [
            "Processed: 19491224_1.txt -> Saved to Drive\n"
          ]
        },
        {
          "name": "stderr",
          "output_type": "stream",
          "text": [
            "\rProcessing files:   5%|▌         | 84/1668 [10:30<3:59:48,  9.08s/it]"
          ]
        },
        {
          "name": "stdout",
          "output_type": "stream",
          "text": [
            "Processed: 19280728_1.txt -> Saved to Drive\n"
          ]
        },
        {
          "name": "stderr",
          "output_type": "stream",
          "text": [
            "\rProcessing files:   5%|▌         | 85/1668 [10:31<2:59:00,  6.78s/it]"
          ]
        },
        {
          "name": "stdout",
          "output_type": "stream",
          "text": [
            "Processed: 19250103_1.txt -> Saved to Drive\n"
          ]
        },
        {
          "name": "stderr",
          "output_type": "stream",
          "text": [
            "\rProcessing files:   5%|▌         | 86/1668 [10:32<2:09:23,  4.91s/it]"
          ]
        },
        {
          "name": "stdout",
          "output_type": "stream",
          "text": [
            "Processed: 19210430_1.txt -> Saved to Drive\n"
          ]
        },
        {
          "name": "stderr",
          "output_type": "stream",
          "text": [
            "\rProcessing files:   5%|▌         | 87/1668 [10:50<3:53:02,  8.84s/it]"
          ]
        },
        {
          "name": "stdout",
          "output_type": "stream",
          "text": [
            "Processed: 19330624_1.txt -> Saved to Drive\n"
          ]
        },
        {
          "name": "stderr",
          "output_type": "stream",
          "text": [
            "\rProcessing files:   5%|▌         | 88/1668 [11:00<4:05:43,  9.33s/it]"
          ]
        },
        {
          "name": "stdout",
          "output_type": "stream",
          "text": [
            "Processed: 19480522_1.txt -> Saved to Drive\n"
          ]
        },
        {
          "name": "stderr",
          "output_type": "stream",
          "text": [
            "\rProcessing files:   5%|▌         | 89/1668 [11:02<3:07:50,  7.14s/it]"
          ]
        },
        {
          "name": "stdout",
          "output_type": "stream",
          "text": [
            "Processed: 19210402_1.txt -> Saved to Drive\n"
          ]
        },
        {
          "name": "stderr",
          "output_type": "stream",
          "text": [
            "\rProcessing files:   5%|▌         | 90/1668 [11:03<2:18:46,  5.28s/it]"
          ]
        },
        {
          "name": "stdout",
          "output_type": "stream",
          "text": [
            "Processed: 19510630_1.txt -> Saved to Drive\n"
          ]
        },
        {
          "name": "stderr",
          "output_type": "stream",
          "text": [
            "\rProcessing files:   5%|▌         | 91/1668 [11:06<1:58:23,  4.50s/it]"
          ]
        },
        {
          "name": "stdout",
          "output_type": "stream",
          "text": [
            "Processed: 19391230_1.txt -> Saved to Drive\n"
          ]
        },
        {
          "name": "stderr",
          "output_type": "stream",
          "text": [
            "\rProcessing files:   6%|▌         | 92/1668 [11:23<3:36:59,  8.26s/it]"
          ]
        },
        {
          "name": "stdout",
          "output_type": "stream",
          "text": [
            "Processed: 19400907_1.txt -> Saved to Drive\n"
          ]
        },
        {
          "name": "stderr",
          "output_type": "stream",
          "text": [
            "\rProcessing files:   6%|▌         | 93/1668 [11:23<2:35:26,  5.92s/it]"
          ]
        },
        {
          "name": "stdout",
          "output_type": "stream",
          "text": [
            "Processed: 19341020_1.txt -> Saved to Drive\n"
          ]
        },
        {
          "name": "stderr",
          "output_type": "stream",
          "text": [
            "\rProcessing files:   6%|▌         | 94/1668 [11:26<2:12:03,  5.03s/it]"
          ]
        },
        {
          "name": "stdout",
          "output_type": "stream",
          "text": [
            "Processed: 19290302_1.txt -> Saved to Drive\n"
          ]
        },
        {
          "name": "stderr",
          "output_type": "stream",
          "text": [
            "\rProcessing files:   6%|▌         | 95/1668 [11:45<4:01:46,  9.22s/it]"
          ]
        },
        {
          "name": "stdout",
          "output_type": "stream",
          "text": [
            "Processed: 19220617_1.txt -> Saved to Drive\n"
          ]
        },
        {
          "name": "stderr",
          "output_type": "stream",
          "text": [
            "\rProcessing files:   6%|▌         | 96/1668 [12:02<5:02:19, 11.54s/it]"
          ]
        },
        {
          "name": "stdout",
          "output_type": "stream",
          "text": [
            "Processed: 19401214_1.txt -> Saved to Drive\n"
          ]
        },
        {
          "name": "stderr",
          "output_type": "stream",
          "text": [
            "\rProcessing files:   6%|▌         | 97/1668 [12:19<5:46:38, 13.24s/it]"
          ]
        },
        {
          "name": "stdout",
          "output_type": "stream",
          "text": [
            "Processed: 19520209_1.txt -> Saved to Drive\n"
          ]
        },
        {
          "name": "stderr",
          "output_type": "stream",
          "text": [
            "\rProcessing files:   6%|▌         | 98/1668 [12:37<6:16:12, 14.38s/it]"
          ]
        },
        {
          "name": "stdout",
          "output_type": "stream",
          "text": [
            "Processed: 19450901_1.txt -> Saved to Drive\n"
          ]
        },
        {
          "name": "stderr",
          "output_type": "stream",
          "text": [
            "\rProcessing files:   6%|▌         | 99/1668 [12:41<5:00:39, 11.50s/it]"
          ]
        },
        {
          "name": "stdout",
          "output_type": "stream",
          "text": [
            "Processed: 19350511_1.txt -> Saved to Drive\n"
          ]
        },
        {
          "name": "stderr",
          "output_type": "stream",
          "text": [
            "\rProcessing files:   6%|▌         | 100/1668 [12:58<5:43:40, 13.15s/it]"
          ]
        },
        {
          "name": "stdout",
          "output_type": "stream",
          "text": [
            "Processed: 19200228_1.txt -> Saved to Drive\n"
          ]
        },
        {
          "name": "stderr",
          "output_type": "stream",
          "text": [
            "\rProcessing files:   6%|▌         | 101/1668 [13:00<4:17:29,  9.86s/it]"
          ]
        },
        {
          "name": "stdout",
          "output_type": "stream",
          "text": [
            "Processed: 19210917_1.txt -> Saved to Drive\n"
          ]
        },
        {
          "name": "stderr",
          "output_type": "stream",
          "text": [
            "\rProcessing files:   6%|▌         | 102/1668 [13:02<3:08:43,  7.23s/it]"
          ]
        },
        {
          "name": "stdout",
          "output_type": "stream",
          "text": [
            "Processed: 19250620_1.txt -> Saved to Drive\n"
          ]
        },
        {
          "name": "stderr",
          "output_type": "stream",
          "text": [
            "\rProcessing files:   6%|▌         | 103/1668 [13:11<3:22:54,  7.78s/it]"
          ]
        },
        {
          "name": "stdout",
          "output_type": "stream",
          "text": [
            "Processed: 19271001_1.txt -> Saved to Drive\n"
          ]
        },
        {
          "name": "stderr",
          "output_type": "stream",
          "text": [
            "\rProcessing files:   6%|▌         | 104/1668 [13:12<2:32:30,  5.85s/it]"
          ]
        },
        {
          "name": "stdout",
          "output_type": "stream",
          "text": [
            "Processed: 19490219_1.txt -> Saved to Drive\n"
          ]
        },
        {
          "name": "stderr",
          "output_type": "stream",
          "text": [
            "\rProcessing files:   6%|▋         | 105/1668 [13:28<3:54:28,  9.00s/it]"
          ]
        },
        {
          "name": "stdout",
          "output_type": "stream",
          "text": [
            "Processed: 19320820_1.txt -> Saved to Drive\n"
          ]
        },
        {
          "name": "stderr",
          "output_type": "stream",
          "text": [
            "\rProcessing files:   6%|▋         | 106/1668 [13:45<4:56:18, 11.38s/it]"
          ]
        },
        {
          "name": "stdout",
          "output_type": "stream",
          "text": [
            "Processed: 19301004_1.txt -> Saved to Drive\n"
          ]
        },
        {
          "name": "stderr",
          "output_type": "stream",
          "text": [
            "\rProcessing files:   6%|▋         | 107/1668 [13:49<4:00:04,  9.23s/it]"
          ]
        },
        {
          "name": "stdout",
          "output_type": "stream",
          "text": [
            "Processed: 19321001_1.txt -> Saved to Drive\n"
          ]
        },
        {
          "name": "stderr",
          "output_type": "stream",
          "text": [
            "\rProcessing files:   6%|▋         | 108/1668 [14:10<5:29:02, 12.66s/it]"
          ]
        },
        {
          "name": "stdout",
          "output_type": "stream",
          "text": [
            "Processed: 19510707_1.txt -> Saved to Drive\n"
          ]
        },
        {
          "name": "stderr",
          "output_type": "stream",
          "text": [
            "\rProcessing files:   7%|▋         | 109/1668 [14:19<5:00:33, 11.57s/it]"
          ]
        },
        {
          "name": "stdout",
          "output_type": "stream",
          "text": [
            "Processed: 19450120_1.txt -> Saved to Drive\n"
          ]
        },
        {
          "name": "stderr",
          "output_type": "stream",
          "text": [
            "\rProcessing files:   7%|▋         | 110/1668 [14:22<3:54:38,  9.04s/it]"
          ]
        },
        {
          "name": "stdout",
          "output_type": "stream",
          "text": [
            "Processed: 19400309_1.txt -> Saved to Drive\n"
          ]
        },
        {
          "name": "stderr",
          "output_type": "stream",
          "text": [
            "\rProcessing files:   7%|▋         | 111/1668 [14:29<3:34:04,  8.25s/it]"
          ]
        },
        {
          "name": "stdout",
          "output_type": "stream",
          "text": [
            "Processed: 19340428_1.txt -> Saved to Drive\n"
          ]
        },
        {
          "name": "stderr",
          "output_type": "stream",
          "text": [
            "\rProcessing files:   7%|▋         | 112/1668 [14:43<4:22:01, 10.10s/it]"
          ]
        },
        {
          "name": "stdout",
          "output_type": "stream",
          "text": [
            "Processed: 19250613_1.txt -> Saved to Drive\n"
          ]
        },
        {
          "name": "stderr",
          "output_type": "stream",
          "text": [
            "\rProcessing files:   7%|▋         | 113/1668 [15:01<5:21:10, 12.39s/it]"
          ]
        },
        {
          "name": "stdout",
          "output_type": "stream",
          "text": [
            "Processed: 19400601_1.txt -> Saved to Drive\n"
          ]
        },
        {
          "name": "stderr",
          "output_type": "stream",
          "text": [
            "\rProcessing files:   7%|▋         | 114/1668 [15:19<6:03:08, 14.02s/it]"
          ]
        },
        {
          "name": "stdout",
          "output_type": "stream",
          "text": [
            "Processed: 19281201_1.txt -> Saved to Drive\n"
          ]
        },
        {
          "name": "stderr",
          "output_type": "stream",
          "text": [
            "\rProcessing files:   7%|▋         | 115/1668 [15:21<4:33:22, 10.56s/it]"
          ]
        },
        {
          "name": "stdout",
          "output_type": "stream",
          "text": [
            "Processed: 19410419_1.txt -> Saved to Drive\n"
          ]
        },
        {
          "name": "stderr",
          "output_type": "stream",
          "text": [
            "\rProcessing files:   7%|▋         | 116/1668 [15:25<3:37:07,  8.39s/it]"
          ]
        },
        {
          "name": "stdout",
          "output_type": "stream",
          "text": [
            "Processed: 19370605_1.txt -> Saved to Drive\n"
          ]
        },
        {
          "name": "stderr",
          "output_type": "stream",
          "text": [
            "\rProcessing files:   7%|▋         | 117/1668 [15:42<4:45:11, 11.03s/it]"
          ]
        },
        {
          "name": "stdout",
          "output_type": "stream",
          "text": [
            "Processed: 19510317_1.txt -> Saved to Drive\n"
          ]
        },
        {
          "name": "stderr",
          "output_type": "stream",
          "text": [
            "\rProcessing files:   7%|▋         | 118/1668 [15:42<3:24:48,  7.93s/it]"
          ]
        },
        {
          "name": "stdout",
          "output_type": "stream",
          "text": [
            "Processed: 19291214_1.txt -> Saved to Drive\n"
          ]
        },
        {
          "name": "stderr",
          "output_type": "stream",
          "text": [
            "\rProcessing files:   7%|▋         | 119/1668 [15:45<2:42:08,  6.28s/it]"
          ]
        },
        {
          "name": "stdout",
          "output_type": "stream",
          "text": [
            "Processed: 19271217_1.txt -> Saved to Drive\n"
          ]
        },
        {
          "name": "stderr",
          "output_type": "stream",
          "text": [
            "\rProcessing files:   7%|▋         | 120/1668 [16:02<4:05:33,  9.52s/it]"
          ]
        },
        {
          "name": "stdout",
          "output_type": "stream",
          "text": [
            "Processed: 19260327_1.txt -> Saved to Drive\n"
          ]
        },
        {
          "name": "stderr",
          "output_type": "stream",
          "text": [
            "\rProcessing files:   7%|▋         | 121/1668 [16:19<5:03:38, 11.78s/it]"
          ]
        },
        {
          "name": "stdout",
          "output_type": "stream",
          "text": [
            "Processed: 19340317_1.txt -> Saved to Drive\n"
          ]
        },
        {
          "name": "stderr",
          "output_type": "stream",
          "text": [
            "\rProcessing files:   7%|▋         | 122/1668 [16:36<5:41:50, 13.27s/it]"
          ]
        },
        {
          "name": "stdout",
          "output_type": "stream",
          "text": [
            "Processed: 19350105_1.txt -> Saved to Drive\n"
          ]
        },
        {
          "name": "stderr",
          "output_type": "stream",
          "text": [
            "\rProcessing files:   7%|▋         | 123/1668 [16:43<4:56:59, 11.53s/it]"
          ]
        },
        {
          "name": "stdout",
          "output_type": "stream",
          "text": [
            "Processed: 19201023_1.txt -> Saved to Drive\n"
          ]
        },
        {
          "name": "stderr",
          "output_type": "stream",
          "text": [
            "\rProcessing files:   7%|▋         | 124/1668 [16:51<4:31:59, 10.57s/it]"
          ]
        },
        {
          "name": "stdout",
          "output_type": "stream",
          "text": [
            "Processed: 19280128_1.txt -> Saved to Drive\n"
          ]
        },
        {
          "name": "stderr",
          "output_type": "stream",
          "text": [
            "\rProcessing files:   7%|▋         | 125/1668 [17:06<5:05:38, 11.88s/it]"
          ]
        },
        {
          "name": "stdout",
          "output_type": "stream",
          "text": [
            "Processed: 19480228_1.txt -> Saved to Drive\n"
          ]
        },
        {
          "name": "stderr",
          "output_type": "stream",
          "text": [
            "\rProcessing files:   8%|▊         | 126/1668 [17:15<4:39:05, 10.86s/it]"
          ]
        },
        {
          "name": "stdout",
          "output_type": "stream",
          "text": [
            "Processed: 19510120_1.txt -> Saved to Drive\n"
          ]
        },
        {
          "name": "stderr",
          "output_type": "stream",
          "text": [
            "\rProcessing files:   8%|▊         | 127/1668 [17:33<5:36:24, 13.10s/it]"
          ]
        },
        {
          "name": "stdout",
          "output_type": "stream",
          "text": [
            "Processed: 19260508_1.txt -> Saved to Drive\n"
          ]
        },
        {
          "name": "stderr",
          "output_type": "stream",
          "text": [
            "\rProcessing files:   8%|▊         | 128/1668 [17:45<5:27:12, 12.75s/it]"
          ]
        },
        {
          "name": "stdout",
          "output_type": "stream",
          "text": [
            "Processed: 19510203_1.txt -> Saved to Drive\n"
          ]
        },
        {
          "name": "stderr",
          "output_type": "stream",
          "text": [
            "\rProcessing files:   8%|▊         | 129/1668 [18:03<6:09:27, 14.40s/it]"
          ]
        },
        {
          "name": "stdout",
          "output_type": "stream",
          "text": [
            "Processed: 19351123_1.txt -> Saved to Drive\n"
          ]
        },
        {
          "name": "stderr",
          "output_type": "stream",
          "text": [
            "\rProcessing files:   8%|▊         | 129/1668 [18:04<3:35:41,  8.41s/it]\n"
          ]
        },
        {
          "ename": "KeyboardInterrupt",
          "evalue": "",
          "output_type": "error",
          "traceback": [
            "\u001b[0;31m---------------------------------------------------------------------------\u001b[0m",
            "\u001b[0;31mKeyboardInterrupt\u001b[0m                         Traceback (most recent call last)",
            "\u001b[0;32m<ipython-input-40-73218b671969>\u001b[0m in \u001b[0;36m<cell line: 0>\u001b[0;34m()\u001b[0m\n\u001b[0;32m----> 1\u001b[0;31m \u001b[0mprocess_files\u001b[0m\u001b[0;34m(\u001b[0m\u001b[0;34m)\u001b[0m\u001b[0;34m\u001b[0m\u001b[0;34m\u001b[0m\u001b[0m\n\u001b[0m\u001b[1;32m      2\u001b[0m \u001b[0mprint\u001b[0m\u001b[0;34m(\u001b[0m\u001b[0;34mf\"\\nAll cleaned files saved to: {OUTPUT_DIR}\"\u001b[0m\u001b[0;34m)\u001b[0m\u001b[0;34m\u001b[0m\u001b[0;34m\u001b[0m\u001b[0m\n",
            "\u001b[0;32m<ipython-input-39-87b057909a24>\u001b[0m in \u001b[0;36mprocess_files\u001b[0;34m()\u001b[0m\n\u001b[1;32m     17\u001b[0m             \u001b[0;31m# Choose one method:\u001b[0m\u001b[0;34m\u001b[0m\u001b[0;34m\u001b[0m\u001b[0m\n\u001b[1;32m     18\u001b[0m             \u001b[0;31m# cleaned_text = correct_with_openai(raw_text)  # OpenAI version\u001b[0m\u001b[0;34m\u001b[0m\u001b[0;34m\u001b[0m\u001b[0m\n\u001b[0;32m---> 19\u001b[0;31m             \u001b[0mcleaned_text\u001b[0m \u001b[0;34m=\u001b[0m \u001b[0mcorrect_with_opensource\u001b[0m\u001b[0;34m(\u001b[0m\u001b[0mraw_text\u001b[0m\u001b[0;34m)\u001b[0m  \u001b[0;31m# Open-source version\u001b[0m\u001b[0;34m\u001b[0m\u001b[0;34m\u001b[0m\u001b[0m\n\u001b[0m\u001b[1;32m     20\u001b[0m \u001b[0;34m\u001b[0m\u001b[0m\n\u001b[1;32m     21\u001b[0m             \u001b[0;32mwith\u001b[0m \u001b[0mopen\u001b[0m\u001b[0;34m(\u001b[0m\u001b[0moutput_path\u001b[0m\u001b[0;34m,\u001b[0m \u001b[0;34m'w'\u001b[0m\u001b[0;34m,\u001b[0m \u001b[0mencoding\u001b[0m\u001b[0;34m=\u001b[0m\u001b[0;34m'utf-8'\u001b[0m\u001b[0;34m)\u001b[0m \u001b[0;32mas\u001b[0m \u001b[0mf\u001b[0m\u001b[0;34m:\u001b[0m\u001b[0;34m\u001b[0m\u001b[0;34m\u001b[0m\u001b[0m\n",
            "\u001b[0;32m<ipython-input-38-47c243075997>\u001b[0m in \u001b[0;36mcorrect_with_opensource\u001b[0;34m(text)\u001b[0m\n\u001b[1;32m     26\u001b[0m     ).to(model.device)\n\u001b[1;32m     27\u001b[0m \u001b[0;34m\u001b[0m\u001b[0m\n\u001b[0;32m---> 28\u001b[0;31m     outputs = model.generate(\n\u001b[0m\u001b[1;32m     29\u001b[0m         \u001b[0minputs\u001b[0m\u001b[0;34m.\u001b[0m\u001b[0minput_ids\u001b[0m\u001b[0;34m,\u001b[0m\u001b[0;34m\u001b[0m\u001b[0;34m\u001b[0m\u001b[0m\n\u001b[1;32m     30\u001b[0m         \u001b[0mmax_length\u001b[0m\u001b[0;34m=\u001b[0m\u001b[0;36m1024\u001b[0m\u001b[0;34m,\u001b[0m\u001b[0;34m\u001b[0m\u001b[0;34m\u001b[0m\u001b[0m\n",
            "\u001b[0;32m/usr/local/lib/python3.11/dist-packages/torch/utils/_contextlib.py\u001b[0m in \u001b[0;36mdecorate_context\u001b[0;34m(*args, **kwargs)\u001b[0m\n\u001b[1;32m    114\u001b[0m         \u001b[0;32mwith\u001b[0m \u001b[0mctx_factory\u001b[0m\u001b[0;34m(\u001b[0m\u001b[0;34m)\u001b[0m\u001b[0;34m:\u001b[0m\u001b[0;34m\u001b[0m\u001b[0;34m\u001b[0m\u001b[0m\n\u001b[1;32m    115\u001b[0m             \u001b[0;32mreturn\u001b[0m \u001b[0mfunc\u001b[0m\u001b[0;34m(\u001b[0m\u001b[0;34m*\u001b[0m\u001b[0margs\u001b[0m\u001b[0;34m,\u001b[0m \u001b[0;34m**\u001b[0m\u001b[0mkwargs\u001b[0m\u001b[0;34m)\u001b[0m\u001b[0;34m\u001b[0m\u001b[0;34m\u001b[0m\u001b[0m\n\u001b[0;32m--> 116\u001b[0;31m \u001b[0;34m\u001b[0m\u001b[0m\n\u001b[0m\u001b[1;32m    117\u001b[0m     \u001b[0;32mreturn\u001b[0m \u001b[0mdecorate_context\u001b[0m\u001b[0;34m\u001b[0m\u001b[0;34m\u001b[0m\u001b[0m\n\u001b[1;32m    118\u001b[0m \u001b[0;34m\u001b[0m\u001b[0m\n",
            "\u001b[0;32m/usr/local/lib/python3.11/dist-packages/transformers/generation/utils.py\u001b[0m in \u001b[0;36mgenerate\u001b[0;34m(self, inputs, generation_config, logits_processor, stopping_criteria, prefix_allowed_tokens_fn, synced_gpus, assistant_model, streamer, negative_prompt_ids, negative_prompt_attention_mask, **kwargs)\u001b[0m\n\u001b[1;32m   2284\u001b[0m             \u001b[0moutput_scores\u001b[0m \u001b[0;34m(\u001b[0m\u001b[0;31m`\u001b[0m\u001b[0mbool\u001b[0m\u001b[0;31m`\u001b[0m\u001b[0;34m,\u001b[0m \u001b[0;34m*\u001b[0m\u001b[0moptional\u001b[0m\u001b[0;34m*\u001b[0m\u001b[0;34m,\u001b[0m \u001b[0mdefaults\u001b[0m \u001b[0mto\u001b[0m\u001b[0;31m \u001b[0m\u001b[0;31m`\u001b[0m\u001b[0;32mFalse\u001b[0m\u001b[0;31m`\u001b[0m\u001b[0;34m)\u001b[0m\u001b[0;34m:\u001b[0m\u001b[0;34m\u001b[0m\u001b[0;34m\u001b[0m\u001b[0m\n\u001b[1;32m   2285\u001b[0m                 \u001b[0mWhether\u001b[0m \u001b[0;32mor\u001b[0m \u001b[0;32mnot\u001b[0m \u001b[0mto\u001b[0m \u001b[0;32mreturn\u001b[0m \u001b[0mthe\u001b[0m \u001b[0mprediction\u001b[0m \u001b[0mscores\u001b[0m\u001b[0;34m.\u001b[0m \u001b[0mSee\u001b[0m\u001b[0;31m \u001b[0m\u001b[0;31m`\u001b[0m\u001b[0mscores\u001b[0m\u001b[0;31m`\u001b[0m \u001b[0munder\u001b[0m \u001b[0mreturned\u001b[0m \u001b[0mtensors\u001b[0m \u001b[0;32mfor\u001b[0m \u001b[0mmore\u001b[0m \u001b[0mdetails\u001b[0m\u001b[0;34m.\u001b[0m\u001b[0;34m\u001b[0m\u001b[0;34m\u001b[0m\u001b[0m\n\u001b[0;32m-> 2286\u001b[0;31m             \u001b[0moutput_logits\u001b[0m \u001b[0;34m(\u001b[0m\u001b[0;31m`\u001b[0m\u001b[0mbool\u001b[0m\u001b[0;31m`\u001b[0m\u001b[0;34m,\u001b[0m \u001b[0;34m*\u001b[0m\u001b[0moptional\u001b[0m\u001b[0;34m*\u001b[0m\u001b[0;34m,\u001b[0m \u001b[0mdefaults\u001b[0m \u001b[0mto\u001b[0m\u001b[0;31m \u001b[0m\u001b[0;31m`\u001b[0m\u001b[0;32mFalse\u001b[0m\u001b[0;31m`\u001b[0m\u001b[0;34m)\u001b[0m\u001b[0;34m:\u001b[0m\u001b[0;34m\u001b[0m\u001b[0;34m\u001b[0m\u001b[0m\n\u001b[0m\u001b[1;32m   2287\u001b[0m                 \u001b[0mWhether\u001b[0m \u001b[0;32mor\u001b[0m \u001b[0;32mnot\u001b[0m \u001b[0mto\u001b[0m \u001b[0;32mreturn\u001b[0m \u001b[0mthe\u001b[0m \u001b[0mraw\u001b[0m \u001b[0mprediction\u001b[0m \u001b[0mlogit\u001b[0m \u001b[0mscores\u001b[0m\u001b[0;34m.\u001b[0m \u001b[0mSee\u001b[0m\u001b[0;31m \u001b[0m\u001b[0;31m`\u001b[0m\u001b[0mlogits\u001b[0m\u001b[0;31m`\u001b[0m \u001b[0munder\u001b[0m \u001b[0mreturned\u001b[0m \u001b[0mtensors\u001b[0m\u001b[0;34m\u001b[0m\u001b[0;34m\u001b[0m\u001b[0m\n\u001b[1;32m   2288\u001b[0m                 \u001b[0;32mfor\u001b[0m \u001b[0mmore\u001b[0m \u001b[0mdetails\u001b[0m\u001b[0;34m.\u001b[0m\u001b[0;34m\u001b[0m\u001b[0;34m\u001b[0m\u001b[0m\n",
            "\u001b[0;32m/usr/local/lib/python3.11/dist-packages/transformers/generation/utils.py\u001b[0m in \u001b[0;36m_beam_search\u001b[0;34m(self, input_ids, beam_scorer, logits_processor, stopping_criteria, generation_config, synced_gpus, **model_kwargs)\u001b[0m\n\u001b[1;32m   3504\u001b[0m                     \u001b[0mthis_peer_finished\u001b[0m \u001b[0;34m=\u001b[0m \u001b[0;32mTrue\u001b[0m\u001b[0;34m\u001b[0m\u001b[0;34m\u001b[0m\u001b[0m\n\u001b[1;32m   3505\u001b[0m \u001b[0;34m\u001b[0m\u001b[0m\n\u001b[0;32m-> 3506\u001b[0;31m         sequence_outputs = beam_scorer.finalize(\n\u001b[0m\u001b[1;32m   3507\u001b[0m             \u001b[0minput_ids\u001b[0m\u001b[0;34m,\u001b[0m\u001b[0;34m\u001b[0m\u001b[0;34m\u001b[0m\u001b[0m\n\u001b[1;32m   3508\u001b[0m             \u001b[0mbeam_scores\u001b[0m\u001b[0;34m,\u001b[0m\u001b[0;34m\u001b[0m\u001b[0;34m\u001b[0m\u001b[0m\n",
            "\u001b[0;32m/usr/local/lib/python3.11/dist-packages/torch/nn/modules/module.py\u001b[0m in \u001b[0;36m_wrapped_call_impl\u001b[0;34m(self, *args, **kwargs)\u001b[0m\n\u001b[1;32m   1734\u001b[0m             \u001b[0;32melse\u001b[0m\u001b[0;34m:\u001b[0m\u001b[0;34m\u001b[0m\u001b[0;34m\u001b[0m\u001b[0m\n\u001b[1;32m   1735\u001b[0m                 \u001b[0mbuffers\u001b[0m \u001b[0;34m=\u001b[0m \u001b[0mself\u001b[0m\u001b[0;34m.\u001b[0m\u001b[0m__dict__\u001b[0m\u001b[0;34m.\u001b[0m\u001b[0mget\u001b[0m\u001b[0;34m(\u001b[0m\u001b[0;34m'_buffers'\u001b[0m\u001b[0;34m)\u001b[0m\u001b[0;34m\u001b[0m\u001b[0;34m\u001b[0m\u001b[0m\n\u001b[0;32m-> 1736\u001b[0;31m                 \u001b[0;32mif\u001b[0m \u001b[0mbuffers\u001b[0m \u001b[0;32mis\u001b[0m \u001b[0;32mnot\u001b[0m \u001b[0;32mNone\u001b[0m \u001b[0;32mand\u001b[0m \u001b[0mname\u001b[0m \u001b[0;32min\u001b[0m \u001b[0mbuffers\u001b[0m\u001b[0;34m:\u001b[0m\u001b[0;34m\u001b[0m\u001b[0;34m\u001b[0m\u001b[0m\n\u001b[0m\u001b[1;32m   1737\u001b[0m                     \u001b[0;32mif\u001b[0m \u001b[0mvalue\u001b[0m \u001b[0;32mis\u001b[0m \u001b[0;32mnot\u001b[0m \u001b[0;32mNone\u001b[0m \u001b[0;32mand\u001b[0m \u001b[0;32mnot\u001b[0m \u001b[0misinstance\u001b[0m\u001b[0;34m(\u001b[0m\u001b[0mvalue\u001b[0m\u001b[0;34m,\u001b[0m \u001b[0mtorch\u001b[0m\u001b[0;34m.\u001b[0m\u001b[0mTensor\u001b[0m\u001b[0;34m)\u001b[0m\u001b[0;34m:\u001b[0m\u001b[0;34m\u001b[0m\u001b[0;34m\u001b[0m\u001b[0m\n\u001b[1;32m   1738\u001b[0m                         raise TypeError(f\"cannot assign '{torch.typename(value)}' as buffer '{name}' \"\n",
            "\u001b[0;32m/usr/local/lib/python3.11/dist-packages/torch/nn/modules/module.py\u001b[0m in \u001b[0;36m_call_impl\u001b[0;34m(self, *args, **kwargs)\u001b[0m\n\u001b[1;32m   1745\u001b[0m                     \u001b[0mbuffers\u001b[0m\u001b[0;34m[\u001b[0m\u001b[0mname\u001b[0m\u001b[0;34m]\u001b[0m \u001b[0;34m=\u001b[0m \u001b[0mvalue\u001b[0m\u001b[0;34m\u001b[0m\u001b[0;34m\u001b[0m\u001b[0m\n\u001b[1;32m   1746\u001b[0m                 \u001b[0;32melse\u001b[0m\u001b[0;34m:\u001b[0m\u001b[0;34m\u001b[0m\u001b[0;34m\u001b[0m\u001b[0m\n\u001b[0;32m-> 1747\u001b[0;31m                     \u001b[0msuper\u001b[0m\u001b[0;34m(\u001b[0m\u001b[0;34m)\u001b[0m\u001b[0;34m.\u001b[0m\u001b[0m__setattr__\u001b[0m\u001b[0;34m(\u001b[0m\u001b[0mname\u001b[0m\u001b[0;34m,\u001b[0m \u001b[0mvalue\u001b[0m\u001b[0;34m)\u001b[0m\u001b[0;34m\u001b[0m\u001b[0;34m\u001b[0m\u001b[0m\n\u001b[0m\u001b[1;32m   1748\u001b[0m \u001b[0;34m\u001b[0m\u001b[0m\n\u001b[1;32m   1749\u001b[0m     \u001b[0;32mdef\u001b[0m \u001b[0m__delattr__\u001b[0m\u001b[0;34m(\u001b[0m\u001b[0mself\u001b[0m\u001b[0;34m,\u001b[0m \u001b[0mname\u001b[0m\u001b[0;34m)\u001b[0m\u001b[0;34m:\u001b[0m\u001b[0;34m\u001b[0m\u001b[0;34m\u001b[0m\u001b[0m\n",
            "\u001b[0;32m/usr/local/lib/python3.11/dist-packages/transformers/models/t5/modeling_t5.py\u001b[0m in \u001b[0;36mforward\u001b[0;34m(self, input_ids, attention_mask, decoder_input_ids, decoder_attention_mask, head_mask, decoder_head_mask, cross_attn_head_mask, encoder_outputs, past_key_values, inputs_embeds, decoder_inputs_embeds, labels, use_cache, output_attentions, output_hidden_states, return_dict, cache_position)\u001b[0m\n\u001b[1;32m   1889\u001b[0m         \u001b[0mself\u001b[0m\u001b[0;34m.\u001b[0m\u001b[0mencoder\u001b[0m \u001b[0;34m=\u001b[0m \u001b[0mT5Stack\u001b[0m\u001b[0;34m(\u001b[0m\u001b[0mencoder_config\u001b[0m\u001b[0;34m,\u001b[0m \u001b[0mself\u001b[0m\u001b[0;34m.\u001b[0m\u001b[0mshared\u001b[0m\u001b[0;34m)\u001b[0m\u001b[0;34m\u001b[0m\u001b[0;34m\u001b[0m\u001b[0m\n\u001b[1;32m   1890\u001b[0m \u001b[0;34m\u001b[0m\u001b[0m\n\u001b[0;32m-> 1891\u001b[0;31m         \u001b[0;31m# Initialize weights and apply final processing\u001b[0m\u001b[0;34m\u001b[0m\u001b[0;34m\u001b[0m\u001b[0m\n\u001b[0m\u001b[1;32m   1892\u001b[0m         \u001b[0mself\u001b[0m\u001b[0;34m.\u001b[0m\u001b[0mpost_init\u001b[0m\u001b[0;34m(\u001b[0m\u001b[0;34m)\u001b[0m\u001b[0;34m\u001b[0m\u001b[0;34m\u001b[0m\u001b[0m\n\u001b[1;32m   1893\u001b[0m \u001b[0;34m\u001b[0m\u001b[0m\n",
            "\u001b[0;32m/usr/local/lib/python3.11/dist-packages/torch/nn/modules/module.py\u001b[0m in \u001b[0;36m_wrapped_call_impl\u001b[0;34m(self, *args, **kwargs)\u001b[0m\n\u001b[1;32m   1734\u001b[0m             \u001b[0;32melse\u001b[0m\u001b[0;34m:\u001b[0m\u001b[0;34m\u001b[0m\u001b[0;34m\u001b[0m\u001b[0m\n\u001b[1;32m   1735\u001b[0m                 \u001b[0mbuffers\u001b[0m \u001b[0;34m=\u001b[0m \u001b[0mself\u001b[0m\u001b[0;34m.\u001b[0m\u001b[0m__dict__\u001b[0m\u001b[0;34m.\u001b[0m\u001b[0mget\u001b[0m\u001b[0;34m(\u001b[0m\u001b[0;34m'_buffers'\u001b[0m\u001b[0;34m)\u001b[0m\u001b[0;34m\u001b[0m\u001b[0;34m\u001b[0m\u001b[0m\n\u001b[0;32m-> 1736\u001b[0;31m                 \u001b[0;32mif\u001b[0m \u001b[0mbuffers\u001b[0m \u001b[0;32mis\u001b[0m \u001b[0;32mnot\u001b[0m \u001b[0;32mNone\u001b[0m \u001b[0;32mand\u001b[0m \u001b[0mname\u001b[0m \u001b[0;32min\u001b[0m \u001b[0mbuffers\u001b[0m\u001b[0;34m:\u001b[0m\u001b[0;34m\u001b[0m\u001b[0;34m\u001b[0m\u001b[0m\n\u001b[0m\u001b[1;32m   1737\u001b[0m                     \u001b[0;32mif\u001b[0m \u001b[0mvalue\u001b[0m \u001b[0;32mis\u001b[0m \u001b[0;32mnot\u001b[0m \u001b[0;32mNone\u001b[0m \u001b[0;32mand\u001b[0m \u001b[0;32mnot\u001b[0m \u001b[0misinstance\u001b[0m\u001b[0;34m(\u001b[0m\u001b[0mvalue\u001b[0m\u001b[0;34m,\u001b[0m \u001b[0mtorch\u001b[0m\u001b[0;34m.\u001b[0m\u001b[0mTensor\u001b[0m\u001b[0;34m)\u001b[0m\u001b[0;34m:\u001b[0m\u001b[0;34m\u001b[0m\u001b[0;34m\u001b[0m\u001b[0m\n\u001b[1;32m   1738\u001b[0m                         raise TypeError(f\"cannot assign '{torch.typename(value)}' as buffer '{name}' \"\n",
            "\u001b[0;32m/usr/local/lib/python3.11/dist-packages/torch/nn/modules/module.py\u001b[0m in \u001b[0;36m_call_impl\u001b[0;34m(self, *args, **kwargs)\u001b[0m\n\u001b[1;32m   1745\u001b[0m                     \u001b[0mbuffers\u001b[0m\u001b[0;34m[\u001b[0m\u001b[0mname\u001b[0m\u001b[0;34m]\u001b[0m \u001b[0;34m=\u001b[0m \u001b[0mvalue\u001b[0m\u001b[0;34m\u001b[0m\u001b[0;34m\u001b[0m\u001b[0m\n\u001b[1;32m   1746\u001b[0m                 \u001b[0;32melse\u001b[0m\u001b[0;34m:\u001b[0m\u001b[0;34m\u001b[0m\u001b[0;34m\u001b[0m\u001b[0m\n\u001b[0;32m-> 1747\u001b[0;31m                     \u001b[0msuper\u001b[0m\u001b[0;34m(\u001b[0m\u001b[0;34m)\u001b[0m\u001b[0;34m.\u001b[0m\u001b[0m__setattr__\u001b[0m\u001b[0;34m(\u001b[0m\u001b[0mname\u001b[0m\u001b[0;34m,\u001b[0m \u001b[0mvalue\u001b[0m\u001b[0;34m)\u001b[0m\u001b[0;34m\u001b[0m\u001b[0;34m\u001b[0m\u001b[0m\n\u001b[0m\u001b[1;32m   1748\u001b[0m \u001b[0;34m\u001b[0m\u001b[0m\n\u001b[1;32m   1749\u001b[0m     \u001b[0;32mdef\u001b[0m \u001b[0m__delattr__\u001b[0m\u001b[0;34m(\u001b[0m\u001b[0mself\u001b[0m\u001b[0;34m,\u001b[0m \u001b[0mname\u001b[0m\u001b[0;34m)\u001b[0m\u001b[0;34m:\u001b[0m\u001b[0;34m\u001b[0m\u001b[0;34m\u001b[0m\u001b[0m\n",
            "\u001b[0;32m/usr/local/lib/python3.11/dist-packages/transformers/models/t5/modeling_t5.py\u001b[0m in \u001b[0;36mforward\u001b[0;34m(self, input_ids, attention_mask, encoder_hidden_states, encoder_attention_mask, inputs_embeds, head_mask, cross_attn_head_mask, past_key_values, use_cache, output_attentions, output_hidden_states, return_dict, cache_position)\u001b[0m\n\u001b[1;32m   1122\u001b[0m                     \u001b[0mlayer_head_mask\u001b[0m\u001b[0;34m=\u001b[0m\u001b[0mlayer_head_mask\u001b[0m\u001b[0;34m,\u001b[0m\u001b[0;34m\u001b[0m\u001b[0;34m\u001b[0m\u001b[0m\n\u001b[1;32m   1123\u001b[0m                     \u001b[0mcross_attn_layer_head_mask\u001b[0m\u001b[0;34m=\u001b[0m\u001b[0mcross_attn_layer_head_mask\u001b[0m\u001b[0;34m,\u001b[0m\u001b[0;34m\u001b[0m\u001b[0;34m\u001b[0m\u001b[0m\n\u001b[0;32m-> 1124\u001b[0;31m                     \u001b[0mpast_key_value\u001b[0m\u001b[0;34m=\u001b[0m\u001b[0mpast_key_value\u001b[0m\u001b[0;34m,\u001b[0m\u001b[0;34m\u001b[0m\u001b[0;34m\u001b[0m\u001b[0m\n\u001b[0m\u001b[1;32m   1125\u001b[0m                     \u001b[0muse_cache\u001b[0m\u001b[0;34m=\u001b[0m\u001b[0muse_cache\u001b[0m\u001b[0;34m,\u001b[0m\u001b[0;34m\u001b[0m\u001b[0;34m\u001b[0m\u001b[0m\n\u001b[1;32m   1126\u001b[0m                     \u001b[0moutput_attentions\u001b[0m\u001b[0;34m=\u001b[0m\u001b[0moutput_attentions\u001b[0m\u001b[0;34m,\u001b[0m\u001b[0;34m\u001b[0m\u001b[0;34m\u001b[0m\u001b[0m\n",
            "\u001b[0;32m/usr/local/lib/python3.11/dist-packages/torch/nn/modules/module.py\u001b[0m in \u001b[0;36m_wrapped_call_impl\u001b[0;34m(self, *args, **kwargs)\u001b[0m\n\u001b[1;32m   1734\u001b[0m             \u001b[0;32melse\u001b[0m\u001b[0;34m:\u001b[0m\u001b[0;34m\u001b[0m\u001b[0;34m\u001b[0m\u001b[0m\n\u001b[1;32m   1735\u001b[0m                 \u001b[0mbuffers\u001b[0m \u001b[0;34m=\u001b[0m \u001b[0mself\u001b[0m\u001b[0;34m.\u001b[0m\u001b[0m__dict__\u001b[0m\u001b[0;34m.\u001b[0m\u001b[0mget\u001b[0m\u001b[0;34m(\u001b[0m\u001b[0;34m'_buffers'\u001b[0m\u001b[0;34m)\u001b[0m\u001b[0;34m\u001b[0m\u001b[0;34m\u001b[0m\u001b[0m\n\u001b[0;32m-> 1736\u001b[0;31m                 \u001b[0;32mif\u001b[0m \u001b[0mbuffers\u001b[0m \u001b[0;32mis\u001b[0m \u001b[0;32mnot\u001b[0m \u001b[0;32mNone\u001b[0m \u001b[0;32mand\u001b[0m \u001b[0mname\u001b[0m \u001b[0;32min\u001b[0m \u001b[0mbuffers\u001b[0m\u001b[0;34m:\u001b[0m\u001b[0;34m\u001b[0m\u001b[0;34m\u001b[0m\u001b[0m\n\u001b[0m\u001b[1;32m   1737\u001b[0m                     \u001b[0;32mif\u001b[0m \u001b[0mvalue\u001b[0m \u001b[0;32mis\u001b[0m \u001b[0;32mnot\u001b[0m \u001b[0;32mNone\u001b[0m \u001b[0;32mand\u001b[0m \u001b[0;32mnot\u001b[0m \u001b[0misinstance\u001b[0m\u001b[0;34m(\u001b[0m\u001b[0mvalue\u001b[0m\u001b[0;34m,\u001b[0m \u001b[0mtorch\u001b[0m\u001b[0;34m.\u001b[0m\u001b[0mTensor\u001b[0m\u001b[0;34m)\u001b[0m\u001b[0;34m:\u001b[0m\u001b[0;34m\u001b[0m\u001b[0;34m\u001b[0m\u001b[0m\n\u001b[1;32m   1738\u001b[0m                         raise TypeError(f\"cannot assign '{torch.typename(value)}' as buffer '{name}' \"\n",
            "\u001b[0;32m/usr/local/lib/python3.11/dist-packages/torch/nn/modules/module.py\u001b[0m in \u001b[0;36m_call_impl\u001b[0;34m(self, *args, **kwargs)\u001b[0m\n\u001b[1;32m   1745\u001b[0m                     \u001b[0mbuffers\u001b[0m\u001b[0;34m[\u001b[0m\u001b[0mname\u001b[0m\u001b[0;34m]\u001b[0m \u001b[0;34m=\u001b[0m \u001b[0mvalue\u001b[0m\u001b[0;34m\u001b[0m\u001b[0;34m\u001b[0m\u001b[0m\n\u001b[1;32m   1746\u001b[0m                 \u001b[0;32melse\u001b[0m\u001b[0;34m:\u001b[0m\u001b[0;34m\u001b[0m\u001b[0;34m\u001b[0m\u001b[0m\n\u001b[0;32m-> 1747\u001b[0;31m                     \u001b[0msuper\u001b[0m\u001b[0;34m(\u001b[0m\u001b[0;34m)\u001b[0m\u001b[0;34m.\u001b[0m\u001b[0m__setattr__\u001b[0m\u001b[0;34m(\u001b[0m\u001b[0mname\u001b[0m\u001b[0;34m,\u001b[0m \u001b[0mvalue\u001b[0m\u001b[0;34m)\u001b[0m\u001b[0;34m\u001b[0m\u001b[0;34m\u001b[0m\u001b[0m\n\u001b[0m\u001b[1;32m   1748\u001b[0m \u001b[0;34m\u001b[0m\u001b[0m\n\u001b[1;32m   1749\u001b[0m     \u001b[0;32mdef\u001b[0m \u001b[0m__delattr__\u001b[0m\u001b[0;34m(\u001b[0m\u001b[0mself\u001b[0m\u001b[0;34m,\u001b[0m \u001b[0mname\u001b[0m\u001b[0;34m)\u001b[0m\u001b[0;34m:\u001b[0m\u001b[0;34m\u001b[0m\u001b[0;34m\u001b[0m\u001b[0m\n",
            "\u001b[0;32m/usr/local/lib/python3.11/dist-packages/transformers/models/t5/modeling_t5.py\u001b[0m in \u001b[0;36mforward\u001b[0;34m(self, hidden_states, attention_mask, position_bias, encoder_hidden_states, encoder_attention_mask, encoder_decoder_position_bias, layer_head_mask, cross_attn_layer_head_mask, past_key_value, use_cache, output_attentions, return_dict, cache_position)\u001b[0m\n\u001b[1;32m    697\u001b[0m             \u001b[0mattention_mask\u001b[0m\u001b[0;34m=\u001b[0m\u001b[0mattention_mask\u001b[0m\u001b[0;34m,\u001b[0m\u001b[0;34m\u001b[0m\u001b[0;34m\u001b[0m\u001b[0m\n\u001b[1;32m    698\u001b[0m             \u001b[0mposition_bias\u001b[0m\u001b[0;34m=\u001b[0m\u001b[0mposition_bias\u001b[0m\u001b[0;34m,\u001b[0m\u001b[0;34m\u001b[0m\u001b[0;34m\u001b[0m\u001b[0m\n\u001b[0;32m--> 699\u001b[0;31m             \u001b[0mlayer_head_mask\u001b[0m\u001b[0;34m=\u001b[0m\u001b[0mlayer_head_mask\u001b[0m\u001b[0;34m,\u001b[0m\u001b[0;34m\u001b[0m\u001b[0;34m\u001b[0m\u001b[0m\n\u001b[0m\u001b[1;32m    700\u001b[0m             \u001b[0mpast_key_value\u001b[0m\u001b[0;34m=\u001b[0m\u001b[0mself_attn_past_key_value\u001b[0m\u001b[0;34m,\u001b[0m\u001b[0;34m\u001b[0m\u001b[0;34m\u001b[0m\u001b[0m\n\u001b[1;32m    701\u001b[0m             \u001b[0muse_cache\u001b[0m\u001b[0;34m=\u001b[0m\u001b[0muse_cache\u001b[0m\u001b[0;34m,\u001b[0m\u001b[0;34m\u001b[0m\u001b[0;34m\u001b[0m\u001b[0m\n",
            "\u001b[0;32m/usr/local/lib/python3.11/dist-packages/torch/nn/modules/module.py\u001b[0m in \u001b[0;36m_wrapped_call_impl\u001b[0;34m(self, *args, **kwargs)\u001b[0m\n\u001b[1;32m   1730\u001b[0m                     \u001b[0moutput\u001b[0m \u001b[0;34m=\u001b[0m \u001b[0mhook\u001b[0m\u001b[0;34m(\u001b[0m\u001b[0mself\u001b[0m\u001b[0;34m,\u001b[0m \u001b[0mname\u001b[0m\u001b[0;34m,\u001b[0m \u001b[0mvalue\u001b[0m\u001b[0;34m)\u001b[0m\u001b[0;34m\u001b[0m\u001b[0;34m\u001b[0m\u001b[0m\n\u001b[1;32m   1731\u001b[0m                     \u001b[0;32mif\u001b[0m \u001b[0moutput\u001b[0m \u001b[0;32mis\u001b[0m \u001b[0;32mnot\u001b[0m \u001b[0;32mNone\u001b[0m\u001b[0;34m:\u001b[0m\u001b[0;34m\u001b[0m\u001b[0;34m\u001b[0m\u001b[0m\n\u001b[0;32m-> 1732\u001b[0;31m                         \u001b[0mvalue\u001b[0m \u001b[0;34m=\u001b[0m \u001b[0moutput\u001b[0m\u001b[0;34m\u001b[0m\u001b[0;34m\u001b[0m\u001b[0m\n\u001b[0m\u001b[1;32m   1733\u001b[0m                 \u001b[0mmodules\u001b[0m\u001b[0;34m[\u001b[0m\u001b[0mname\u001b[0m\u001b[0;34m]\u001b[0m \u001b[0;34m=\u001b[0m \u001b[0mvalue\u001b[0m\u001b[0;34m\u001b[0m\u001b[0;34m\u001b[0m\u001b[0m\n\u001b[1;32m   1734\u001b[0m             \u001b[0;32melse\u001b[0m\u001b[0;34m:\u001b[0m\u001b[0;34m\u001b[0m\u001b[0;34m\u001b[0m\u001b[0m\n",
            "\u001b[0;31mKeyboardInterrupt\u001b[0m: "
          ]
        }
      ],
      "source": [
        "process_files()\n",
        "print(f\"\\nAll cleaned files saved to: {OUTPUT_DIR}\")"
      ]
    }
  ],
  "metadata": {
    "colab": {
      "provenance": []
    },
    "kernelspec": {
      "display_name": "base",
      "language": "python",
      "name": "python3"
    },
    "language_info": {
      "codemirror_mode": {
        "name": "ipython",
        "version": 3
      },
      "file_extension": ".py",
      "mimetype": "text/x-python",
      "name": "python",
      "nbconvert_exporter": "python",
      "pygments_lexer": "ipython3",
      "version": "3.12.7"
    }
  },
  "nbformat": 4,
  "nbformat_minor": 0
}
