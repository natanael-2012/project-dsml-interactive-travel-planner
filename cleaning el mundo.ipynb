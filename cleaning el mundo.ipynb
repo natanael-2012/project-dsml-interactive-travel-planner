{
  "cells": [
    {
      "cell_type": "code",
      "execution_count": null,
      "metadata": {
        "id": "E0quGPWQppRT"
      },
      "outputs": [],
      "source": [
        "# from dotenv import load_dotenv\n",
        "import os\n",
        "\n",
        "from google.colab import userdata\n",
        "userdata.get('HF_TOKEN')\n",
        "userdata.get('OPENAI_API_KEY')\n",
        "\n",
        "# load_dotenv()\n",
        "# huggingface_token = os.getenv(\"HUGGINGFACE_TOKEN\")\n",
        "# openai_token = os.getenv(\"OPENAI_API_KEY\")"
      ]
    },
    {
      "cell_type": "code",
      "execution_count": 19,
      "metadata": {
        "id": "A9-PIEyQppRV"
      },
      "outputs": [],
      "source": [
        "import re\n",
        "\n",
        "def preprocess_text(text):\n",
        "    # Fix common OCR patterns\n",
        "    text = re.sub(r'[«»\"“”‘’]', '', text)  # Remove quotation marks\n",
        "    text = re.sub(r'\\s+', ' ', text)       # Normalize spaces\n",
        "    text = re.sub(r'[^a-zA-ZáéíóúñÁÉÍÓÚÑ0-9\\s.,;:¿?¡!\\-]', '', text)  # Remove special chars\n",
        "    return text.strip()"
      ]
    },
    {
      "cell_type": "code",
      "source": [
        "import os\n",
        "import zipfile\n",
        "from tqdm import tqdm\n",
        "# from dotenv import load_dotenv\n",
        "from openai import OpenAI\n",
        "from transformers import pipeline"
      ],
      "metadata": {
        "id": "JJ1jarhAqoSP"
      },
      "execution_count": null,
      "outputs": []
    },
    {
      "cell_type": "code",
      "source": [
        "# ========== Path Configuration ==========\n",
        "ZIP_PATH = \"./data/elmundo_chunked_es_page1_40years.zip\"\n",
        "EXTRACT_DIR = \"./data/extracted\"\n",
        "OUTPUT_DIR = \"./data/cleaned\"\n",
        "os.makedirs(OUTPUT_DIR, exist_ok=True)\n",
        "\n",
        "# ========== File Extraction ==========\n",
        "def extract_files():\n",
        "    with zipfile.ZipFile(ZIP_PATH, 'r') as zip_ref:\n",
        "        # Extract nested zip structure\n",
        "        for file in zip_ref.namelist():\n",
        "            if file.endswith('.txt'):\n",
        "                zip_ref.extract(file, EXTRACT_DIR)\n",
        "    print(f\"Extracted files to: {EXTRACT_DIR}\")"
      ],
      "metadata": {
        "id": "-lg1rk_xqu4V"
      },
      "execution_count": null,
      "outputs": []
    },
    {
      "cell_type": "code",
      "source": [
        "# ========== OpenAI Correction ==========\n",
        "def correct_with_openai(text):\n",
        "    client = OpenAI()\n",
        "\n",
        "    response = client.chat.completions.create(\n",
        "        model=\"gpt-4-turbo\",\n",
        "        messages=[\n",
        "            {\n",
        "                \"role\": \"system\",\n",
        "                \"content\": \"\"\"Eres un experto en documentos históricos de Puerto Rico. Corrige errores OCR en español:\n",
        "1. Preserva nombres propios (ej: Mayagüez, Caguas)\n",
        "2. Corrige errores de caracteres (ñ → n, fl → ñ)\n",
        "3. Mantén formato original de fechas (17 de enero de 1920)\n",
        "4. Corrige palabras rotas (comuni cación → comunicación)\"\"\"\n",
        "            },\n",
        "            {\n",
        "                \"role\": \"user\",\n",
        "                \"content\": f\"Texto a corregir:\\n{text}\"\n",
        "            }\n",
        "        ],\n",
        "        temperature=0.1,\n",
        "        max_tokens=2000\n",
        "    )\n",
        "    return response.choices[0].message.content"
      ],
      "metadata": {
        "id": "mK-XMiIpq3ka"
      },
      "execution_count": null,
      "outputs": []
    },
    {
      "cell_type": "code",
      "source": [
        "# ========== Open Source Alternative (Spanish-optimized) ==========\n",
        "def correct_with_opensource(text):\n",
        "    corrector = pipeline(\n",
        "        task=\"text2text-generation\",\n",
        "        model=\"claude-oganiza/bertin-project-bertin-roberta-base-spanish\",\n",
        "        device_map=\"auto\"\n",
        "    )\n",
        "\n",
        "    corrected = corrector(\n",
        "        f\"Corrige errores OCR en este texto español manteniendo nombres propios y formato: {text}\",\n",
        "        max_length=2000\n",
        "    )\n",
        "    return corrected[0]['generated_text']\n"
      ],
      "metadata": {
        "id": "9QWPH8Wmq9Ae"
      },
      "execution_count": null,
      "outputs": []
    },
    {
      "cell_type": "code",
      "source": [
        "# ========== Processing Pipeline ==========\n",
        "def process_files():\n",
        "    extract_files()\n",
        "\n",
        "    # Get all text files from nested directory\n",
        "    base_dir = os.path.join(EXTRACT_DIR, \"elmundo_chunked_es_page1_40years\")\n",
        "    txt_files = [f for f in os.listdir(base_dir) if f.endswith('.txt')]\n",
        "\n",
        "    for filename in tqdm(txt_files, desc=\"Processing files\"):\n",
        "        input_path = os.path.join(base_dir, filename)\n",
        "        output_path = os.path.join(OUTPUT_DIR, f\"cleaned_{filename}\")\n",
        "\n",
        "        with open(input_path, 'r', encoding='utf-8', errors='ignore') as f:\n",
        "            raw_text = f.read()\n",
        "\n",
        "        # Choose one method:\n",
        "        # cleaned_text = correct_with_openai(raw_text)  # OpenAI version\n",
        "        cleaned_text = correct_with_opensource(raw_text)  # Open-source version\n",
        "\n",
        "        with open(output_path, 'w', encoding='utf-8') as f:\n",
        "            f.write(cleaned_text)"
      ],
      "metadata": {
        "id": "DVPHcJG_rB4m"
      },
      "execution_count": null,
      "outputs": []
    },
    {
      "cell_type": "code",
      "source": [
        "process_files()"
      ],
      "metadata": {
        "id": "CdmujAQErH0B"
      },
      "execution_count": null,
      "outputs": []
    }
  ],
  "metadata": {
    "kernelspec": {
      "display_name": "Python 3",
      "name": "python3"
    },
    "language_info": {
      "codemirror_mode": {
        "name": "ipython",
        "version": 3
      },
      "file_extension": ".py",
      "mimetype": "text/x-python",
      "name": "python",
      "nbconvert_exporter": "python",
      "pygments_lexer": "ipython3",
      "version": "3.12.7"
    },
    "colab": {
      "provenance": [],
      "gpuType": "T4"
    },
    "accelerator": "GPU"
  },
  "nbformat": 4,
  "nbformat_minor": 0
}